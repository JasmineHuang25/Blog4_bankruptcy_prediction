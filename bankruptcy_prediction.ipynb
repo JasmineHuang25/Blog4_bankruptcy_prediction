{
  "cells": [
    {
      "cell_type": "markdown",
      "metadata": {
        "id": "view-in-github",
        "colab_type": "text"
      },
      "source": [
        "<a href=\"https://colab.research.google.com/github/JasmineHuang25/Blog4_bankruptcy_prediction/blob/main/bankruptcy_prediction.ipynb\" target=\"_parent\"><img src=\"https://colab.research.google.com/assets/colab-badge.svg\" alt=\"Open In Colab\"/></a>"
      ]
    },
    {
      "cell_type": "markdown",
      "source": [
        "## Installation and import"
      ],
      "metadata": {
        "id": "hrZjspn-ue8V"
      }
    },
    {
      "cell_type": "code",
      "source": [
        "from google.colab import drive\n",
        "drive.mount('/content/gdrive')"
      ],
      "metadata": {
        "colab": {
          "base_uri": "https://localhost:8080/"
        },
        "id": "owp-lU12HZNc",
        "outputId": "027bf5c8-d9ff-43ee-f128-970e160a35c0"
      },
      "execution_count": 1,
      "outputs": [
        {
          "output_type": "stream",
          "name": "stdout",
          "text": [
            "Mounted at /content/gdrive\n"
          ]
        }
      ]
    },
    {
      "cell_type": "code",
      "source": [
        "!apt install chromium-chromedriver\n",
        "!pip install dataframe_image"
      ],
      "metadata": {
        "id": "rmNyOXy_uRYe",
        "colab": {
          "base_uri": "https://localhost:8080/"
        },
        "outputId": "4a306bdc-da9e-4868-ee9d-2389c4369b2d"
      },
      "execution_count": 2,
      "outputs": [
        {
          "output_type": "stream",
          "name": "stdout",
          "text": [
            "Reading package lists... Done\n",
            "Building dependency tree       \n",
            "Reading state information... Done\n",
            "The following package was automatically installed and is no longer required:\n",
            "  libnvidia-common-460\n",
            "Use 'apt autoremove' to remove it.\n",
            "The following additional packages will be installed:\n",
            "  chromium-browser chromium-browser-l10n chromium-codecs-ffmpeg-extra\n",
            "Suggested packages:\n",
            "  webaccounts-chromium-extension unity-chromium-extension\n",
            "The following NEW packages will be installed:\n",
            "  chromium-browser chromium-browser-l10n chromium-chromedriver\n",
            "  chromium-codecs-ffmpeg-extra\n",
            "0 upgraded, 4 newly installed, 0 to remove and 21 not upgraded.\n",
            "Need to get 95.6 MB of archives.\n",
            "After this operation, 321 MB of additional disk space will be used.\n",
            "Get:1 http://archive.ubuntu.com/ubuntu bionic-updates/universe amd64 chromium-codecs-ffmpeg-extra amd64 108.0.5359.71-0ubuntu0.18.04.5 [1,159 kB]\n",
            "Get:2 http://archive.ubuntu.com/ubuntu bionic-updates/universe amd64 chromium-browser amd64 108.0.5359.71-0ubuntu0.18.04.5 [83.6 MB]\n",
            "Get:3 http://archive.ubuntu.com/ubuntu bionic-updates/universe amd64 chromium-browser-l10n all 108.0.5359.71-0ubuntu0.18.04.5 [5,230 kB]\n",
            "Get:4 http://archive.ubuntu.com/ubuntu bionic-updates/universe amd64 chromium-chromedriver amd64 108.0.5359.71-0ubuntu0.18.04.5 [5,594 kB]\n",
            "Fetched 95.6 MB in 3s (32.3 MB/s)\n",
            "Selecting previously unselected package chromium-codecs-ffmpeg-extra.\n",
            "(Reading database ... 124016 files and directories currently installed.)\n",
            "Preparing to unpack .../chromium-codecs-ffmpeg-extra_108.0.5359.71-0ubuntu0.18.04.5_amd64.deb ...\n",
            "Unpacking chromium-codecs-ffmpeg-extra (108.0.5359.71-0ubuntu0.18.04.5) ...\n",
            "Selecting previously unselected package chromium-browser.\n",
            "Preparing to unpack .../chromium-browser_108.0.5359.71-0ubuntu0.18.04.5_amd64.deb ...\n",
            "Unpacking chromium-browser (108.0.5359.71-0ubuntu0.18.04.5) ...\n",
            "Selecting previously unselected package chromium-browser-l10n.\n",
            "Preparing to unpack .../chromium-browser-l10n_108.0.5359.71-0ubuntu0.18.04.5_all.deb ...\n",
            "Unpacking chromium-browser-l10n (108.0.5359.71-0ubuntu0.18.04.5) ...\n",
            "Selecting previously unselected package chromium-chromedriver.\n",
            "Preparing to unpack .../chromium-chromedriver_108.0.5359.71-0ubuntu0.18.04.5_amd64.deb ...\n",
            "Unpacking chromium-chromedriver (108.0.5359.71-0ubuntu0.18.04.5) ...\n",
            "Setting up chromium-codecs-ffmpeg-extra (108.0.5359.71-0ubuntu0.18.04.5) ...\n",
            "Setting up chromium-browser (108.0.5359.71-0ubuntu0.18.04.5) ...\n",
            "update-alternatives: using /usr/bin/chromium-browser to provide /usr/bin/x-www-browser (x-www-browser) in auto mode\n",
            "update-alternatives: using /usr/bin/chromium-browser to provide /usr/bin/gnome-www-browser (gnome-www-browser) in auto mode\n",
            "Setting up chromium-chromedriver (108.0.5359.71-0ubuntu0.18.04.5) ...\n",
            "Setting up chromium-browser-l10n (108.0.5359.71-0ubuntu0.18.04.5) ...\n",
            "Processing triggers for man-db (2.8.3-2ubuntu0.1) ...\n",
            "Processing triggers for hicolor-icon-theme (0.17-2) ...\n",
            "Processing triggers for mime-support (3.60ubuntu1) ...\n",
            "Processing triggers for libc-bin (2.27-3ubuntu1.6) ...\n",
            "Looking in indexes: https://pypi.org/simple, https://us-python.pkg.dev/colab-wheels/public/simple/\n",
            "Collecting dataframe_image\n",
            "  Downloading dataframe_image-0.1.3-py3-none-any.whl (6.6 MB)\n",
            "\u001b[2K     \u001b[90m━━━━━━━━━━━━━━━━━━━━━━━━━━━━━━━━━━━━━━━━\u001b[0m \u001b[32m6.6/6.6 MB\u001b[0m \u001b[31m68.4 MB/s\u001b[0m eta \u001b[36m0:00:00\u001b[0m\n",
            "\u001b[?25hRequirement already satisfied: pandas>=0.24 in /usr/local/lib/python3.8/dist-packages (from dataframe_image) (1.3.5)\n",
            "Requirement already satisfied: aiohttp in /usr/local/lib/python3.8/dist-packages (from dataframe_image) (3.8.3)\n",
            "Requirement already satisfied: nbconvert>=5 in /usr/local/lib/python3.8/dist-packages (from dataframe_image) (5.6.1)\n",
            "Requirement already satisfied: beautifulsoup4 in /usr/local/lib/python3.8/dist-packages (from dataframe_image) (4.6.3)\n",
            "Requirement already satisfied: mistune in /usr/local/lib/python3.8/dist-packages (from dataframe_image) (0.8.4)\n",
            "Requirement already satisfied: matplotlib>=3.1 in /usr/local/lib/python3.8/dist-packages (from dataframe_image) (3.2.2)\n",
            "Requirement already satisfied: packaging in /usr/local/lib/python3.8/dist-packages (from dataframe_image) (21.3)\n",
            "Requirement already satisfied: requests in /usr/local/lib/python3.8/dist-packages (from dataframe_image) (2.25.1)\n",
            "Requirement already satisfied: cycler>=0.10 in /usr/local/lib/python3.8/dist-packages (from matplotlib>=3.1->dataframe_image) (0.11.0)\n",
            "Requirement already satisfied: python-dateutil>=2.1 in /usr/local/lib/python3.8/dist-packages (from matplotlib>=3.1->dataframe_image) (2.8.2)\n",
            "Requirement already satisfied: numpy>=1.11 in /usr/local/lib/python3.8/dist-packages (from matplotlib>=3.1->dataframe_image) (1.21.6)\n",
            "Requirement already satisfied: pyparsing!=2.0.4,!=2.1.2,!=2.1.6,>=2.0.1 in /usr/local/lib/python3.8/dist-packages (from matplotlib>=3.1->dataframe_image) (3.0.9)\n",
            "Requirement already satisfied: kiwisolver>=1.0.1 in /usr/local/lib/python3.8/dist-packages (from matplotlib>=3.1->dataframe_image) (1.4.4)\n",
            "Requirement already satisfied: pygments in /usr/local/lib/python3.8/dist-packages (from nbconvert>=5->dataframe_image) (2.6.1)\n",
            "Requirement already satisfied: testpath in /usr/local/lib/python3.8/dist-packages (from nbconvert>=5->dataframe_image) (0.6.0)\n",
            "Requirement already satisfied: entrypoints>=0.2.2 in /usr/local/lib/python3.8/dist-packages (from nbconvert>=5->dataframe_image) (0.4)\n",
            "Requirement already satisfied: bleach in /usr/local/lib/python3.8/dist-packages (from nbconvert>=5->dataframe_image) (5.0.1)\n",
            "Requirement already satisfied: defusedxml in /usr/local/lib/python3.8/dist-packages (from nbconvert>=5->dataframe_image) (0.7.1)\n",
            "Requirement already satisfied: traitlets>=4.2 in /usr/local/lib/python3.8/dist-packages (from nbconvert>=5->dataframe_image) (5.7.1)\n",
            "Requirement already satisfied: jinja2>=2.4 in /usr/local/lib/python3.8/dist-packages (from nbconvert>=5->dataframe_image) (2.11.3)\n",
            "Requirement already satisfied: pandocfilters>=1.4.1 in /usr/local/lib/python3.8/dist-packages (from nbconvert>=5->dataframe_image) (1.5.0)\n",
            "Requirement already satisfied: nbformat>=4.4 in /usr/local/lib/python3.8/dist-packages (from nbconvert>=5->dataframe_image) (5.7.1)\n",
            "Requirement already satisfied: jupyter-core in /usr/local/lib/python3.8/dist-packages (from nbconvert>=5->dataframe_image) (5.1.2)\n",
            "Requirement already satisfied: pytz>=2017.3 in /usr/local/lib/python3.8/dist-packages (from pandas>=0.24->dataframe_image) (2022.7)\n",
            "Requirement already satisfied: yarl<2.0,>=1.0 in /usr/local/lib/python3.8/dist-packages (from aiohttp->dataframe_image) (1.8.2)\n",
            "Requirement already satisfied: charset-normalizer<3.0,>=2.0 in /usr/local/lib/python3.8/dist-packages (from aiohttp->dataframe_image) (2.1.1)\n",
            "Requirement already satisfied: multidict<7.0,>=4.5 in /usr/local/lib/python3.8/dist-packages (from aiohttp->dataframe_image) (6.0.4)\n",
            "Requirement already satisfied: aiosignal>=1.1.2 in /usr/local/lib/python3.8/dist-packages (from aiohttp->dataframe_image) (1.3.1)\n",
            "Requirement already satisfied: frozenlist>=1.1.1 in /usr/local/lib/python3.8/dist-packages (from aiohttp->dataframe_image) (1.3.3)\n",
            "Requirement already satisfied: attrs>=17.3.0 in /usr/local/lib/python3.8/dist-packages (from aiohttp->dataframe_image) (22.2.0)\n",
            "Requirement already satisfied: async-timeout<5.0,>=4.0.0a3 in /usr/local/lib/python3.8/dist-packages (from aiohttp->dataframe_image) (4.0.2)\n",
            "Requirement already satisfied: chardet<5,>=3.0.2 in /usr/local/lib/python3.8/dist-packages (from requests->dataframe_image) (4.0.0)\n",
            "Requirement already satisfied: urllib3<1.27,>=1.21.1 in /usr/local/lib/python3.8/dist-packages (from requests->dataframe_image) (1.24.3)\n",
            "Requirement already satisfied: idna<3,>=2.5 in /usr/local/lib/python3.8/dist-packages (from requests->dataframe_image) (2.10)\n",
            "Requirement already satisfied: certifi>=2017.4.17 in /usr/local/lib/python3.8/dist-packages (from requests->dataframe_image) (2022.12.7)\n",
            "Requirement already satisfied: MarkupSafe>=0.23 in /usr/local/lib/python3.8/dist-packages (from jinja2>=2.4->nbconvert>=5->dataframe_image) (2.0.1)\n",
            "Requirement already satisfied: jsonschema>=2.6 in /usr/local/lib/python3.8/dist-packages (from nbformat>=4.4->nbconvert>=5->dataframe_image) (4.3.3)\n",
            "Requirement already satisfied: fastjsonschema in /usr/local/lib/python3.8/dist-packages (from nbformat>=4.4->nbconvert>=5->dataframe_image) (2.16.2)\n",
            "Requirement already satisfied: six>=1.5 in /usr/local/lib/python3.8/dist-packages (from python-dateutil>=2.1->matplotlib>=3.1->dataframe_image) (1.15.0)\n",
            "Requirement already satisfied: webencodings in /usr/local/lib/python3.8/dist-packages (from bleach->nbconvert>=5->dataframe_image) (0.5.1)\n",
            "Requirement already satisfied: platformdirs>=2.5 in /usr/local/lib/python3.8/dist-packages (from jupyter-core->nbconvert>=5->dataframe_image) (2.6.2)\n",
            "Requirement already satisfied: importlib-resources>=1.4.0 in /usr/local/lib/python3.8/dist-packages (from jsonschema>=2.6->nbformat>=4.4->nbconvert>=5->dataframe_image) (5.10.2)\n",
            "Requirement already satisfied: pyrsistent!=0.17.0,!=0.17.1,!=0.17.2,>=0.14.0 in /usr/local/lib/python3.8/dist-packages (from jsonschema>=2.6->nbformat>=4.4->nbconvert>=5->dataframe_image) (0.19.3)\n",
            "Requirement already satisfied: zipp>=3.1.0 in /usr/local/lib/python3.8/dist-packages (from importlib-resources>=1.4.0->jsonschema>=2.6->nbformat>=4.4->nbconvert>=5->dataframe_image) (3.11.0)\n",
            "Installing collected packages: dataframe_image\n",
            "Successfully installed dataframe_image-0.1.3\n"
          ]
        }
      ]
    },
    {
      "cell_type": "code",
      "execution_count": 3,
      "metadata": {
        "ExecuteTime": {
          "end_time": "2023-01-13T21:38:46.482708Z",
          "start_time": "2023-01-13T21:38:46.258520Z"
        },
        "id": "LxqwQrRSHPcz"
      },
      "outputs": [],
      "source": [
        "import pandas as pd\n",
        "import numpy as np\n",
        "from matplotlib import pyplot as plt\n",
        "import seaborn as sns\n",
        "\n",
        "from sklearn.model_selection import train_test_split, GridSearchCV, cross_val_score\n",
        "from sklearn.pipeline import Pipeline\n",
        "from sklearn.preprocessing import StandardScaler, OneHotEncoder, FunctionTransformer\n",
        "from sklearn.impute import SimpleImputer\n",
        "from sklearn.compose import ColumnTransformer,  make_column_selector as selector\n",
        "from sklearn.linear_model import LogisticRegression\n",
        "from sklearn.ensemble import RandomForestClassifier, GradientBoostingClassifier\n",
        "from sklearn.metrics import plot_confusion_matrix, recall_score,\\\n",
        "    accuracy_score, precision_score, f1_score\n",
        "\n",
        "from imblearn.over_sampling import SMOTE\n",
        "from imblearn.pipeline import Pipeline as ImPipeline\n",
        "\n",
        "from sklearn.dummy import DummyClassifier\n",
        "from sklearn.tree import DecisionTreeClassifier\n",
        "from sklearn.metrics import confusion_matrix\n",
        "\n",
        "import dataframe_image as dfi"
      ]
    },
    {
      "cell_type": "markdown",
      "source": [
        "### Inspect DataFrame"
      ],
      "metadata": {
        "id": "Z4H_jd8Turdl"
      }
    },
    {
      "cell_type": "code",
      "execution_count": 4,
      "metadata": {
        "ExecuteTime": {
          "end_time": "2023-01-13T21:39:07.864240Z",
          "start_time": "2023-01-13T21:39:07.736636Z"
        },
        "id": "O6CccjbNHPc1"
      },
      "outputs": [],
      "source": [
        "df = pd.read_csv('/content/gdrive/MyDrive/4blog/data.csv')"
      ]
    },
    {
      "cell_type": "code",
      "execution_count": 5,
      "metadata": {
        "ExecuteTime": {
          "end_time": "2023-01-13T21:39:13.277549Z",
          "start_time": "2023-01-13T21:39:13.232563Z"
        },
        "colab": {
          "base_uri": "https://localhost:8080/",
          "height": 386
        },
        "id": "Rkt2ZR-mHPc1",
        "outputId": "ef5cd90b-dfab-437a-e170-ff00fe75994c"
      },
      "outputs": [
        {
          "output_type": "execute_result",
          "data": {
            "text/plain": [
              "   Bankrupt?   ROA(C) before interest and depreciation before interest  \\\n",
              "0          1                                           0.370594          \n",
              "1          1                                           0.464291          \n",
              "2          1                                           0.426071          \n",
              "3          1                                           0.399844          \n",
              "4          1                                           0.465022          \n",
              "\n",
              "    ROA(A) before interest and % after tax  \\\n",
              "0                                 0.424389   \n",
              "1                                 0.538214   \n",
              "2                                 0.499019   \n",
              "3                                 0.451265   \n",
              "4                                 0.538432   \n",
              "\n",
              "    ROA(B) before interest and depreciation after tax  \\\n",
              "0                                           0.405750    \n",
              "1                                           0.516730    \n",
              "2                                           0.472295    \n",
              "3                                           0.457733    \n",
              "4                                           0.522298    \n",
              "\n",
              "    Operating Gross Margin   Realized Sales Gross Margin  \\\n",
              "0                 0.601457                      0.601457   \n",
              "1                 0.610235                      0.610235   \n",
              "2                 0.601450                      0.601364   \n",
              "3                 0.583541                      0.583541   \n",
              "4                 0.598783                      0.598783   \n",
              "\n",
              "    Operating Profit Rate   Pre-tax net Interest Rate  \\\n",
              "0                0.998969                    0.796887   \n",
              "1                0.998946                    0.797380   \n",
              "2                0.998857                    0.796403   \n",
              "3                0.998700                    0.796967   \n",
              "4                0.998973                    0.797366   \n",
              "\n",
              "    After-tax net Interest Rate   Non-industry income and expenditure/revenue  \\\n",
              "0                      0.808809                                      0.302646   \n",
              "1                      0.809301                                      0.303556   \n",
              "2                      0.808388                                      0.302035   \n",
              "3                      0.808966                                      0.303350   \n",
              "4                      0.809304                                      0.303475   \n",
              "\n",
              "   ...   Net Income to Total Assets   Total assets to GNP price  \\\n",
              "0  ...                     0.716845                    0.009219   \n",
              "1  ...                     0.795297                    0.008323   \n",
              "2  ...                     0.774670                    0.040003   \n",
              "3  ...                     0.739555                    0.003252   \n",
              "4  ...                     0.795016                    0.003878   \n",
              "\n",
              "    No-credit Interval   Gross Profit to Sales  \\\n",
              "0             0.622879                0.601453   \n",
              "1             0.623652                0.610237   \n",
              "2             0.623841                0.601449   \n",
              "3             0.622929                0.583538   \n",
              "4             0.623521                0.598782   \n",
              "\n",
              "    Net Income to Stockholder's Equity   Liability to Equity  \\\n",
              "0                             0.827890              0.290202   \n",
              "1                             0.839969              0.283846   \n",
              "2                             0.836774              0.290189   \n",
              "3                             0.834697              0.281721   \n",
              "4                             0.839973              0.278514   \n",
              "\n",
              "    Degree of Financial Leverage (DFL)  \\\n",
              "0                             0.026601   \n",
              "1                             0.264577   \n",
              "2                             0.026555   \n",
              "3                             0.026697   \n",
              "4                             0.024752   \n",
              "\n",
              "    Interest Coverage Ratio (Interest expense to EBIT)   Net Income Flag  \\\n",
              "0                                           0.564050                   1   \n",
              "1                                           0.570175                   1   \n",
              "2                                           0.563706                   1   \n",
              "3                                           0.564663                   1   \n",
              "4                                           0.575617                   1   \n",
              "\n",
              "    Equity to Liability  \n",
              "0              0.016469  \n",
              "1              0.020794  \n",
              "2              0.016474  \n",
              "3              0.023982  \n",
              "4              0.035490  \n",
              "\n",
              "[5 rows x 96 columns]"
            ],
            "text/html": [
              "\n",
              "  <div id=\"df-a67378e0-3568-404e-886d-e2ead0eea155\">\n",
              "    <div class=\"colab-df-container\">\n",
              "      <div>\n",
              "<style scoped>\n",
              "    .dataframe tbody tr th:only-of-type {\n",
              "        vertical-align: middle;\n",
              "    }\n",
              "\n",
              "    .dataframe tbody tr th {\n",
              "        vertical-align: top;\n",
              "    }\n",
              "\n",
              "    .dataframe thead th {\n",
              "        text-align: right;\n",
              "    }\n",
              "</style>\n",
              "<table border=\"1\" class=\"dataframe\">\n",
              "  <thead>\n",
              "    <tr style=\"text-align: right;\">\n",
              "      <th></th>\n",
              "      <th>Bankrupt?</th>\n",
              "      <th>ROA(C) before interest and depreciation before interest</th>\n",
              "      <th>ROA(A) before interest and % after tax</th>\n",
              "      <th>ROA(B) before interest and depreciation after tax</th>\n",
              "      <th>Operating Gross Margin</th>\n",
              "      <th>Realized Sales Gross Margin</th>\n",
              "      <th>Operating Profit Rate</th>\n",
              "      <th>Pre-tax net Interest Rate</th>\n",
              "      <th>After-tax net Interest Rate</th>\n",
              "      <th>Non-industry income and expenditure/revenue</th>\n",
              "      <th>...</th>\n",
              "      <th>Net Income to Total Assets</th>\n",
              "      <th>Total assets to GNP price</th>\n",
              "      <th>No-credit Interval</th>\n",
              "      <th>Gross Profit to Sales</th>\n",
              "      <th>Net Income to Stockholder's Equity</th>\n",
              "      <th>Liability to Equity</th>\n",
              "      <th>Degree of Financial Leverage (DFL)</th>\n",
              "      <th>Interest Coverage Ratio (Interest expense to EBIT)</th>\n",
              "      <th>Net Income Flag</th>\n",
              "      <th>Equity to Liability</th>\n",
              "    </tr>\n",
              "  </thead>\n",
              "  <tbody>\n",
              "    <tr>\n",
              "      <th>0</th>\n",
              "      <td>1</td>\n",
              "      <td>0.370594</td>\n",
              "      <td>0.424389</td>\n",
              "      <td>0.405750</td>\n",
              "      <td>0.601457</td>\n",
              "      <td>0.601457</td>\n",
              "      <td>0.998969</td>\n",
              "      <td>0.796887</td>\n",
              "      <td>0.808809</td>\n",
              "      <td>0.302646</td>\n",
              "      <td>...</td>\n",
              "      <td>0.716845</td>\n",
              "      <td>0.009219</td>\n",
              "      <td>0.622879</td>\n",
              "      <td>0.601453</td>\n",
              "      <td>0.827890</td>\n",
              "      <td>0.290202</td>\n",
              "      <td>0.026601</td>\n",
              "      <td>0.564050</td>\n",
              "      <td>1</td>\n",
              "      <td>0.016469</td>\n",
              "    </tr>\n",
              "    <tr>\n",
              "      <th>1</th>\n",
              "      <td>1</td>\n",
              "      <td>0.464291</td>\n",
              "      <td>0.538214</td>\n",
              "      <td>0.516730</td>\n",
              "      <td>0.610235</td>\n",
              "      <td>0.610235</td>\n",
              "      <td>0.998946</td>\n",
              "      <td>0.797380</td>\n",
              "      <td>0.809301</td>\n",
              "      <td>0.303556</td>\n",
              "      <td>...</td>\n",
              "      <td>0.795297</td>\n",
              "      <td>0.008323</td>\n",
              "      <td>0.623652</td>\n",
              "      <td>0.610237</td>\n",
              "      <td>0.839969</td>\n",
              "      <td>0.283846</td>\n",
              "      <td>0.264577</td>\n",
              "      <td>0.570175</td>\n",
              "      <td>1</td>\n",
              "      <td>0.020794</td>\n",
              "    </tr>\n",
              "    <tr>\n",
              "      <th>2</th>\n",
              "      <td>1</td>\n",
              "      <td>0.426071</td>\n",
              "      <td>0.499019</td>\n",
              "      <td>0.472295</td>\n",
              "      <td>0.601450</td>\n",
              "      <td>0.601364</td>\n",
              "      <td>0.998857</td>\n",
              "      <td>0.796403</td>\n",
              "      <td>0.808388</td>\n",
              "      <td>0.302035</td>\n",
              "      <td>...</td>\n",
              "      <td>0.774670</td>\n",
              "      <td>0.040003</td>\n",
              "      <td>0.623841</td>\n",
              "      <td>0.601449</td>\n",
              "      <td>0.836774</td>\n",
              "      <td>0.290189</td>\n",
              "      <td>0.026555</td>\n",
              "      <td>0.563706</td>\n",
              "      <td>1</td>\n",
              "      <td>0.016474</td>\n",
              "    </tr>\n",
              "    <tr>\n",
              "      <th>3</th>\n",
              "      <td>1</td>\n",
              "      <td>0.399844</td>\n",
              "      <td>0.451265</td>\n",
              "      <td>0.457733</td>\n",
              "      <td>0.583541</td>\n",
              "      <td>0.583541</td>\n",
              "      <td>0.998700</td>\n",
              "      <td>0.796967</td>\n",
              "      <td>0.808966</td>\n",
              "      <td>0.303350</td>\n",
              "      <td>...</td>\n",
              "      <td>0.739555</td>\n",
              "      <td>0.003252</td>\n",
              "      <td>0.622929</td>\n",
              "      <td>0.583538</td>\n",
              "      <td>0.834697</td>\n",
              "      <td>0.281721</td>\n",
              "      <td>0.026697</td>\n",
              "      <td>0.564663</td>\n",
              "      <td>1</td>\n",
              "      <td>0.023982</td>\n",
              "    </tr>\n",
              "    <tr>\n",
              "      <th>4</th>\n",
              "      <td>1</td>\n",
              "      <td>0.465022</td>\n",
              "      <td>0.538432</td>\n",
              "      <td>0.522298</td>\n",
              "      <td>0.598783</td>\n",
              "      <td>0.598783</td>\n",
              "      <td>0.998973</td>\n",
              "      <td>0.797366</td>\n",
              "      <td>0.809304</td>\n",
              "      <td>0.303475</td>\n",
              "      <td>...</td>\n",
              "      <td>0.795016</td>\n",
              "      <td>0.003878</td>\n",
              "      <td>0.623521</td>\n",
              "      <td>0.598782</td>\n",
              "      <td>0.839973</td>\n",
              "      <td>0.278514</td>\n",
              "      <td>0.024752</td>\n",
              "      <td>0.575617</td>\n",
              "      <td>1</td>\n",
              "      <td>0.035490</td>\n",
              "    </tr>\n",
              "  </tbody>\n",
              "</table>\n",
              "<p>5 rows × 96 columns</p>\n",
              "</div>\n",
              "      <button class=\"colab-df-convert\" onclick=\"convertToInteractive('df-a67378e0-3568-404e-886d-e2ead0eea155')\"\n",
              "              title=\"Convert this dataframe to an interactive table.\"\n",
              "              style=\"display:none;\">\n",
              "        \n",
              "  <svg xmlns=\"http://www.w3.org/2000/svg\" height=\"24px\"viewBox=\"0 0 24 24\"\n",
              "       width=\"24px\">\n",
              "    <path d=\"M0 0h24v24H0V0z\" fill=\"none\"/>\n",
              "    <path d=\"M18.56 5.44l.94 2.06.94-2.06 2.06-.94-2.06-.94-.94-2.06-.94 2.06-2.06.94zm-11 1L8.5 8.5l.94-2.06 2.06-.94-2.06-.94L8.5 2.5l-.94 2.06-2.06.94zm10 10l.94 2.06.94-2.06 2.06-.94-2.06-.94-.94-2.06-.94 2.06-2.06.94z\"/><path d=\"M17.41 7.96l-1.37-1.37c-.4-.4-.92-.59-1.43-.59-.52 0-1.04.2-1.43.59L10.3 9.45l-7.72 7.72c-.78.78-.78 2.05 0 2.83L4 21.41c.39.39.9.59 1.41.59.51 0 1.02-.2 1.41-.59l7.78-7.78 2.81-2.81c.8-.78.8-2.07 0-2.86zM5.41 20L4 18.59l7.72-7.72 1.47 1.35L5.41 20z\"/>\n",
              "  </svg>\n",
              "      </button>\n",
              "      \n",
              "  <style>\n",
              "    .colab-df-container {\n",
              "      display:flex;\n",
              "      flex-wrap:wrap;\n",
              "      gap: 12px;\n",
              "    }\n",
              "\n",
              "    .colab-df-convert {\n",
              "      background-color: #E8F0FE;\n",
              "      border: none;\n",
              "      border-radius: 50%;\n",
              "      cursor: pointer;\n",
              "      display: none;\n",
              "      fill: #1967D2;\n",
              "      height: 32px;\n",
              "      padding: 0 0 0 0;\n",
              "      width: 32px;\n",
              "    }\n",
              "\n",
              "    .colab-df-convert:hover {\n",
              "      background-color: #E2EBFA;\n",
              "      box-shadow: 0px 1px 2px rgba(60, 64, 67, 0.3), 0px 1px 3px 1px rgba(60, 64, 67, 0.15);\n",
              "      fill: #174EA6;\n",
              "    }\n",
              "\n",
              "    [theme=dark] .colab-df-convert {\n",
              "      background-color: #3B4455;\n",
              "      fill: #D2E3FC;\n",
              "    }\n",
              "\n",
              "    [theme=dark] .colab-df-convert:hover {\n",
              "      background-color: #434B5C;\n",
              "      box-shadow: 0px 1px 3px 1px rgba(0, 0, 0, 0.15);\n",
              "      filter: drop-shadow(0px 1px 2px rgba(0, 0, 0, 0.3));\n",
              "      fill: #FFFFFF;\n",
              "    }\n",
              "  </style>\n",
              "\n",
              "      <script>\n",
              "        const buttonEl =\n",
              "          document.querySelector('#df-a67378e0-3568-404e-886d-e2ead0eea155 button.colab-df-convert');\n",
              "        buttonEl.style.display =\n",
              "          google.colab.kernel.accessAllowed ? 'block' : 'none';\n",
              "\n",
              "        async function convertToInteractive(key) {\n",
              "          const element = document.querySelector('#df-a67378e0-3568-404e-886d-e2ead0eea155');\n",
              "          const dataTable =\n",
              "            await google.colab.kernel.invokeFunction('convertToInteractive',\n",
              "                                                     [key], {});\n",
              "          if (!dataTable) return;\n",
              "\n",
              "          const docLinkHtml = 'Like what you see? Visit the ' +\n",
              "            '<a target=\"_blank\" href=https://colab.research.google.com/notebooks/data_table.ipynb>data table notebook</a>'\n",
              "            + ' to learn more about interactive tables.';\n",
              "          element.innerHTML = '';\n",
              "          dataTable['output_type'] = 'display_data';\n",
              "          await google.colab.output.renderOutput(dataTable, element);\n",
              "          const docLink = document.createElement('div');\n",
              "          docLink.innerHTML = docLinkHtml;\n",
              "          element.appendChild(docLink);\n",
              "        }\n",
              "      </script>\n",
              "    </div>\n",
              "  </div>\n",
              "  "
            ]
          },
          "metadata": {},
          "execution_count": 5
        }
      ],
      "source": [
        "df.head()"
      ]
    },
    {
      "cell_type": "code",
      "execution_count": 6,
      "metadata": {
        "ExecuteTime": {
          "end_time": "2023-01-13T21:39:26.451739Z",
          "start_time": "2023-01-13T21:39:26.428840Z"
        },
        "colab": {
          "base_uri": "https://localhost:8080/"
        },
        "id": "vH1o5C7EHPc2",
        "outputId": "f24edb51-9866-4732-979d-180340095066"
      },
      "outputs": [
        {
          "output_type": "stream",
          "name": "stdout",
          "text": [
            "<class 'pandas.core.frame.DataFrame'>\n",
            "RangeIndex: 6819 entries, 0 to 6818\n",
            "Data columns (total 96 columns):\n",
            " #   Column                                                    Non-Null Count  Dtype  \n",
            "---  ------                                                    --------------  -----  \n",
            " 0   Bankrupt?                                                 6819 non-null   int64  \n",
            " 1    ROA(C) before interest and depreciation before interest  6819 non-null   float64\n",
            " 2    ROA(A) before interest and % after tax                   6819 non-null   float64\n",
            " 3    ROA(B) before interest and depreciation after tax        6819 non-null   float64\n",
            " 4    Operating Gross Margin                                   6819 non-null   float64\n",
            " 5    Realized Sales Gross Margin                              6819 non-null   float64\n",
            " 6    Operating Profit Rate                                    6819 non-null   float64\n",
            " 7    Pre-tax net Interest Rate                                6819 non-null   float64\n",
            " 8    After-tax net Interest Rate                              6819 non-null   float64\n",
            " 9    Non-industry income and expenditure/revenue              6819 non-null   float64\n",
            " 10   Continuous interest rate (after tax)                     6819 non-null   float64\n",
            " 11   Operating Expense Rate                                   6819 non-null   float64\n",
            " 12   Research and development expense rate                    6819 non-null   float64\n",
            " 13   Cash flow rate                                           6819 non-null   float64\n",
            " 14   Interest-bearing debt interest rate                      6819 non-null   float64\n",
            " 15   Tax rate (A)                                             6819 non-null   float64\n",
            " 16   Net Value Per Share (B)                                  6819 non-null   float64\n",
            " 17   Net Value Per Share (A)                                  6819 non-null   float64\n",
            " 18   Net Value Per Share (C)                                  6819 non-null   float64\n",
            " 19   Persistent EPS in the Last Four Seasons                  6819 non-null   float64\n",
            " 20   Cash Flow Per Share                                      6819 non-null   float64\n",
            " 21   Revenue Per Share (Yuan ¥)                               6819 non-null   float64\n",
            " 22   Operating Profit Per Share (Yuan ¥)                      6819 non-null   float64\n",
            " 23   Per Share Net profit before tax (Yuan ¥)                 6819 non-null   float64\n",
            " 24   Realized Sales Gross Profit Growth Rate                  6819 non-null   float64\n",
            " 25   Operating Profit Growth Rate                             6819 non-null   float64\n",
            " 26   After-tax Net Profit Growth Rate                         6819 non-null   float64\n",
            " 27   Regular Net Profit Growth Rate                           6819 non-null   float64\n",
            " 28   Continuous Net Profit Growth Rate                        6819 non-null   float64\n",
            " 29   Total Asset Growth Rate                                  6819 non-null   float64\n",
            " 30   Net Value Growth Rate                                    6819 non-null   float64\n",
            " 31   Total Asset Return Growth Rate Ratio                     6819 non-null   float64\n",
            " 32   Cash Reinvestment %                                      6819 non-null   float64\n",
            " 33   Current Ratio                                            6819 non-null   float64\n",
            " 34   Quick Ratio                                              6819 non-null   float64\n",
            " 35   Interest Expense Ratio                                   6819 non-null   float64\n",
            " 36   Total debt/Total net worth                               6819 non-null   float64\n",
            " 37   Debt ratio %                                             6819 non-null   float64\n",
            " 38   Net worth/Assets                                         6819 non-null   float64\n",
            " 39   Long-term fund suitability ratio (A)                     6819 non-null   float64\n",
            " 40   Borrowing dependency                                     6819 non-null   float64\n",
            " 41   Contingent liabilities/Net worth                         6819 non-null   float64\n",
            " 42   Operating profit/Paid-in capital                         6819 non-null   float64\n",
            " 43   Net profit before tax/Paid-in capital                    6819 non-null   float64\n",
            " 44   Inventory and accounts receivable/Net value              6819 non-null   float64\n",
            " 45   Total Asset Turnover                                     6819 non-null   float64\n",
            " 46   Accounts Receivable Turnover                             6819 non-null   float64\n",
            " 47   Average Collection Days                                  6819 non-null   float64\n",
            " 48   Inventory Turnover Rate (times)                          6819 non-null   float64\n",
            " 49   Fixed Assets Turnover Frequency                          6819 non-null   float64\n",
            " 50   Net Worth Turnover Rate (times)                          6819 non-null   float64\n",
            " 51   Revenue per person                                       6819 non-null   float64\n",
            " 52   Operating profit per person                              6819 non-null   float64\n",
            " 53   Allocation rate per person                               6819 non-null   float64\n",
            " 54   Working Capital to Total Assets                          6819 non-null   float64\n",
            " 55   Quick Assets/Total Assets                                6819 non-null   float64\n",
            " 56   Current Assets/Total Assets                              6819 non-null   float64\n",
            " 57   Cash/Total Assets                                        6819 non-null   float64\n",
            " 58   Quick Assets/Current Liability                           6819 non-null   float64\n",
            " 59   Cash/Current Liability                                   6819 non-null   float64\n",
            " 60   Current Liability to Assets                              6819 non-null   float64\n",
            " 61   Operating Funds to Liability                             6819 non-null   float64\n",
            " 62   Inventory/Working Capital                                6819 non-null   float64\n",
            " 63   Inventory/Current Liability                              6819 non-null   float64\n",
            " 64   Current Liabilities/Liability                            6819 non-null   float64\n",
            " 65   Working Capital/Equity                                   6819 non-null   float64\n",
            " 66   Current Liabilities/Equity                               6819 non-null   float64\n",
            " 67   Long-term Liability to Current Assets                    6819 non-null   float64\n",
            " 68   Retained Earnings to Total Assets                        6819 non-null   float64\n",
            " 69   Total income/Total expense                               6819 non-null   float64\n",
            " 70   Total expense/Assets                                     6819 non-null   float64\n",
            " 71   Current Asset Turnover Rate                              6819 non-null   float64\n",
            " 72   Quick Asset Turnover Rate                                6819 non-null   float64\n",
            " 73   Working capitcal Turnover Rate                           6819 non-null   float64\n",
            " 74   Cash Turnover Rate                                       6819 non-null   float64\n",
            " 75   Cash Flow to Sales                                       6819 non-null   float64\n",
            " 76   Fixed Assets to Assets                                   6819 non-null   float64\n",
            " 77   Current Liability to Liability                           6819 non-null   float64\n",
            " 78   Current Liability to Equity                              6819 non-null   float64\n",
            " 79   Equity to Long-term Liability                            6819 non-null   float64\n",
            " 80   Cash Flow to Total Assets                                6819 non-null   float64\n",
            " 81   Cash Flow to Liability                                   6819 non-null   float64\n",
            " 82   CFO to Assets                                            6819 non-null   float64\n",
            " 83   Cash Flow to Equity                                      6819 non-null   float64\n",
            " 84   Current Liability to Current Assets                      6819 non-null   float64\n",
            " 85   Liability-Assets Flag                                    6819 non-null   int64  \n",
            " 86   Net Income to Total Assets                               6819 non-null   float64\n",
            " 87   Total assets to GNP price                                6819 non-null   float64\n",
            " 88   No-credit Interval                                       6819 non-null   float64\n",
            " 89   Gross Profit to Sales                                    6819 non-null   float64\n",
            " 90   Net Income to Stockholder's Equity                       6819 non-null   float64\n",
            " 91   Liability to Equity                                      6819 non-null   float64\n",
            " 92   Degree of Financial Leverage (DFL)                       6819 non-null   float64\n",
            " 93   Interest Coverage Ratio (Interest expense to EBIT)       6819 non-null   float64\n",
            " 94   Net Income Flag                                          6819 non-null   int64  \n",
            " 95   Equity to Liability                                      6819 non-null   float64\n",
            "dtypes: float64(93), int64(3)\n",
            "memory usage: 5.0 MB\n"
          ]
        }
      ],
      "source": [
        "df.info()"
      ]
    },
    {
      "cell_type": "code",
      "execution_count": 7,
      "metadata": {
        "ExecuteTime": {
          "end_time": "2023-01-13T21:40:45.717942Z",
          "start_time": "2023-01-13T21:40:45.698074Z"
        },
        "colab": {
          "base_uri": "https://localhost:8080/"
        },
        "id": "ohPb8QxqHPc2",
        "outputId": "1bb3f28a-92d1-4edb-ae6c-a5b8d42d5b13"
      },
      "outputs": [
        {
          "output_type": "execute_result",
          "data": {
            "text/plain": [
              "0    0.967737\n",
              "1    0.032263\n",
              "Name: Bankrupt?, dtype: float64"
            ]
          },
          "metadata": {},
          "execution_count": 7
        }
      ],
      "source": [
        "df['Bankrupt?'].value_counts(normalize=True)"
      ]
    },
    {
      "cell_type": "code",
      "execution_count": 8,
      "metadata": {
        "ExecuteTime": {
          "end_time": "2023-01-13T21:41:51.893505Z",
          "start_time": "2023-01-13T21:41:51.873919Z"
        },
        "colab": {
          "base_uri": "https://localhost:8080/"
        },
        "id": "H8gVhM2lHPc3",
        "outputId": "157b0456-9076-4a83-cc17-5296484aae87"
      },
      "outputs": [
        {
          "output_type": "execute_result",
          "data": {
            "text/plain": [
              "Bankrupt?                                                   0\n",
              " ROA(C) before interest and depreciation before interest    0\n",
              " ROA(A) before interest and % after tax                     0\n",
              " ROA(B) before interest and depreciation after tax          0\n",
              " Operating Gross Margin                                     0\n",
              "                                                           ..\n",
              " Liability to Equity                                        0\n",
              " Degree of Financial Leverage (DFL)                         0\n",
              " Interest Coverage Ratio (Interest expense to EBIT)         0\n",
              " Net Income Flag                                            0\n",
              " Equity to Liability                                        0\n",
              "Length: 96, dtype: int64"
            ]
          },
          "metadata": {},
          "execution_count": 8
        }
      ],
      "source": [
        "df.isna().sum()"
      ]
    },
    {
      "cell_type": "code",
      "execution_count": 9,
      "metadata": {
        "ExecuteTime": {
          "end_time": "2023-01-13T21:45:59.862117Z",
          "start_time": "2023-01-13T21:45:59.848988Z"
        },
        "id": "F_eMiOZBHPc3"
      },
      "outputs": [],
      "source": [
        "df.columns = df.columns.str.replace(' ', '')"
      ]
    },
    {
      "cell_type": "code",
      "execution_count": 10,
      "metadata": {
        "ExecuteTime": {
          "end_time": "2023-01-13T21:46:08.347062Z",
          "start_time": "2023-01-13T21:46:08.340061Z"
        },
        "colab": {
          "base_uri": "https://localhost:8080/"
        },
        "id": "uCf-qejOHPc3",
        "outputId": "543190cb-3c61-47f9-fa65-f102872cc64c"
      },
      "outputs": [
        {
          "output_type": "execute_result",
          "data": {
            "text/plain": [
              "Index(['Bankrupt?', 'ROA(C)beforeinterestanddepreciationbeforeinterest',\n",
              "       'ROA(A)beforeinterestand%aftertax',\n",
              "       'ROA(B)beforeinterestanddepreciationaftertax', 'OperatingGrossMargin',\n",
              "       'RealizedSalesGrossMargin', 'OperatingProfitRate',\n",
              "       'Pre-taxnetInterestRate', 'After-taxnetInterestRate',\n",
              "       'Non-industryincomeandexpenditure/revenue',\n",
              "       'Continuousinterestrate(aftertax)', 'OperatingExpenseRate',\n",
              "       'Researchanddevelopmentexpenserate', 'Cashflowrate',\n",
              "       'Interest-bearingdebtinterestrate', 'Taxrate(A)', 'NetValuePerShare(B)',\n",
              "       'NetValuePerShare(A)', 'NetValuePerShare(C)',\n",
              "       'PersistentEPSintheLastFourSeasons', 'CashFlowPerShare',\n",
              "       'RevenuePerShare(Yuan¥)', 'OperatingProfitPerShare(Yuan¥)',\n",
              "       'PerShareNetprofitbeforetax(Yuan¥)',\n",
              "       'RealizedSalesGrossProfitGrowthRate', 'OperatingProfitGrowthRate',\n",
              "       'After-taxNetProfitGrowthRate', 'RegularNetProfitGrowthRate',\n",
              "       'ContinuousNetProfitGrowthRate', 'TotalAssetGrowthRate',\n",
              "       'NetValueGrowthRate', 'TotalAssetReturnGrowthRateRatio',\n",
              "       'CashReinvestment%', 'CurrentRatio', 'QuickRatio',\n",
              "       'InterestExpenseRatio', 'Totaldebt/Totalnetworth', 'Debtratio%',\n",
              "       'Networth/Assets', 'Long-termfundsuitabilityratio(A)',\n",
              "       'Borrowingdependency', 'Contingentliabilities/Networth',\n",
              "       'Operatingprofit/Paid-incapital', 'Netprofitbeforetax/Paid-incapital',\n",
              "       'Inventoryandaccountsreceivable/Netvalue', 'TotalAssetTurnover',\n",
              "       'AccountsReceivableTurnover', 'AverageCollectionDays',\n",
              "       'InventoryTurnoverRate(times)', 'FixedAssetsTurnoverFrequency',\n",
              "       'NetWorthTurnoverRate(times)', 'Revenueperperson',\n",
              "       'Operatingprofitperperson', 'Allocationrateperperson',\n",
              "       'WorkingCapitaltoTotalAssets', 'QuickAssets/TotalAssets',\n",
              "       'CurrentAssets/TotalAssets', 'Cash/TotalAssets',\n",
              "       'QuickAssets/CurrentLiability', 'Cash/CurrentLiability',\n",
              "       'CurrentLiabilitytoAssets', 'OperatingFundstoLiability',\n",
              "       'Inventory/WorkingCapital', 'Inventory/CurrentLiability',\n",
              "       'CurrentLiabilities/Liability', 'WorkingCapital/Equity',\n",
              "       'CurrentLiabilities/Equity', 'Long-termLiabilitytoCurrentAssets',\n",
              "       'RetainedEarningstoTotalAssets', 'Totalincome/Totalexpense',\n",
              "       'Totalexpense/Assets', 'CurrentAssetTurnoverRate',\n",
              "       'QuickAssetTurnoverRate', 'WorkingcapitcalTurnoverRate',\n",
              "       'CashTurnoverRate', 'CashFlowtoSales', 'FixedAssetstoAssets',\n",
              "       'CurrentLiabilitytoLiability', 'CurrentLiabilitytoEquity',\n",
              "       'EquitytoLong-termLiability', 'CashFlowtoTotalAssets',\n",
              "       'CashFlowtoLiability', 'CFOtoAssets', 'CashFlowtoEquity',\n",
              "       'CurrentLiabilitytoCurrentAssets', 'Liability-AssetsFlag',\n",
              "       'NetIncometoTotalAssets', 'TotalassetstoGNPprice', 'No-creditInterval',\n",
              "       'GrossProfittoSales', 'NetIncometoStockholder'sEquity',\n",
              "       'LiabilitytoEquity', 'DegreeofFinancialLeverage(DFL)',\n",
              "       'InterestCoverageRatio(InterestexpensetoEBIT)', 'NetIncomeFlag',\n",
              "       'EquitytoLiability'],\n",
              "      dtype='object')"
            ]
          },
          "metadata": {},
          "execution_count": 10
        }
      ],
      "source": [
        "df.columns"
      ]
    },
    {
      "cell_type": "markdown",
      "source": [
        "### Checking correlation"
      ],
      "metadata": {
        "id": "8jblEd29JOrI"
      }
    },
    {
      "cell_type": "code",
      "execution_count": 11,
      "metadata": {
        "id": "5u4YrGm2HPc4",
        "colab": {
          "base_uri": "https://localhost:8080/"
        },
        "outputId": "e49a2bab-5fda-4174-8e24-b2f6505fe47e"
      },
      "outputs": [
        {
          "output_type": "execute_result",
          "data": {
            "text/plain": [
              "Bankrupt?                                            1.000000\n",
              "ROA(C)beforeinterestanddepreciationbeforeinterest   -0.260807\n",
              "ROA(A)beforeinterestand%aftertax                    -0.282941\n",
              "ROA(B)beforeinterestanddepreciationaftertax         -0.273051\n",
              "OperatingGrossMargin                                -0.100043\n",
              "                                                       ...   \n",
              "LiabilitytoEquity                                    0.166812\n",
              "DegreeofFinancialLeverage(DFL)                       0.010508\n",
              "InterestCoverageRatio(InterestexpensetoEBIT)        -0.005509\n",
              "NetIncomeFlag                                             NaN\n",
              "EquitytoLiability                                   -0.083048\n",
              "Name: Bankrupt?, Length: 96, dtype: float64"
            ]
          },
          "metadata": {},
          "execution_count": 11
        }
      ],
      "source": [
        "df.corr()['Bankrupt?']"
      ]
    },
    {
      "cell_type": "code",
      "source": [
        "corr = abs(df.corr()['Bankrupt?']).sort_values(ascending=False)\n",
        "corr"
      ],
      "metadata": {
        "colab": {
          "base_uri": "https://localhost:8080/"
        },
        "id": "iT2fZt6HJMdh",
        "outputId": "2821e8eb-8bba-4562-db17-b41e54bdc0eb"
      },
      "execution_count": 12,
      "outputs": [
        {
          "output_type": "execute_result",
          "data": {
            "text/plain": [
              "Bankrupt?                                            1.000000\n",
              "NetIncometoTotalAssets                               0.315457\n",
              "ROA(A)beforeinterestand%aftertax                     0.282941\n",
              "ROA(B)beforeinterestanddepreciationaftertax          0.273051\n",
              "ROA(C)beforeinterestanddepreciationbeforeinterest    0.260807\n",
              "                                                       ...   \n",
              "Long-termLiabilitytoCurrentAssets                    0.000778\n",
              "CashFlowtoSales                                      0.000479\n",
              "RealizedSalesGrossProfitGrowthRate                   0.000458\n",
              "OperatingProfitRate                                  0.000230\n",
              "NetIncomeFlag                                             NaN\n",
              "Name: Bankrupt?, Length: 96, dtype: float64"
            ]
          },
          "metadata": {},
          "execution_count": 12
        }
      ]
    },
    {
      "cell_type": "code",
      "source": [
        "sns.heatmap(data = df.corr())\n",
        "plt.show();"
      ],
      "metadata": {
        "colab": {
          "base_uri": "https://localhost:8080/",
          "height": 471
        },
        "id": "sSLssQuIKH56",
        "outputId": "95eadded-f8e6-427b-8903-41457f010321"
      },
      "execution_count": 13,
      "outputs": [
        {
          "output_type": "display_data",
          "data": {
            "text/plain": [
              "<Figure size 432x288 with 2 Axes>"
            ],
            "image/png": "[encoded data removed]"
          },
          "metadata": {
            "needs_background": "light"
          }
        }
      ]
    },
    {
      "cell_type": "markdown",
      "source": [
        "## Prepare for modeling"
      ],
      "metadata": {
        "id": "6PKhNhhOy2Vj"
      }
    },
    {
      "cell_type": "markdown",
      "source": [
        "### Set target and perform train_test_split"
      ],
      "metadata": {
        "id": "Y0PhmsChNlTD"
      }
    },
    {
      "cell_type": "code",
      "source": [
        "X = df.drop('Bankrupt?', axis=1)\n",
        "y = df['Bankrupt?']\n",
        "\n",
        "X_train, X_test, y_train, y_test = train_test_split(X, y, random_state=42, test_size=0.33)"
      ],
      "metadata": {
        "id": "odyx6PKONj2R"
      },
      "execution_count": 14,
      "outputs": []
    },
    {
      "cell_type": "markdown",
      "source": [
        "### Bringing in Our Modeling Class from before"
      ],
      "metadata": {
        "id": "m2UiGVArSuAC"
      }
    },
    {
      "cell_type": "code",
      "source": [
        "class ModelWithCV():\n",
        "    '''Structure to save the model and more easily see its crossvalidation'''\n",
        "    \n",
        "    def __init__(self, model, model_name, X, y, cv_now=True):\n",
        "        self.model = model\n",
        "        self.name = model_name\n",
        "        self.X = X\n",
        "        self.y = y\n",
        "        \n",
        "        # For CV results\n",
        "        self.cv_results = None\n",
        "        self.cv_mean = None\n",
        "        self.cv_median = None\n",
        "        self.cv_std = None\n",
        "        #\n",
        "        if cv_now:\n",
        "            self.cross_validate()\n",
        "        \n",
        "    def cross_validate(self, X=None, y=None, kfolds=10):\n",
        "        '''\n",
        "        Perform cross-validation and return results.\n",
        "        \n",
        "        Args: \n",
        "          X:\n",
        "            Optional; Training data to perform CV on. Otherwise use X from object\n",
        "          y:\n",
        "            Optional; Training data to perform CV on. Otherwise use y from object\n",
        "          kfolds:\n",
        "            Optional; Number of folds for CV (default is 10)  \n",
        "        '''\n",
        "        \n",
        "        cv_X = X if X else self.X\n",
        "        cv_y = y if y else self.y\n",
        "\n",
        "        self.cv_results = cross_val_score(self.model, cv_X, cv_y, cv=kfolds)\n",
        "        self.cv_mean = np.mean(self.cv_results)\n",
        "        self.cv_median = np.median(self.cv_results)\n",
        "        self.cv_std = np.std(self.cv_results)\n",
        "        \n",
        "        # Validate score on test data\n",
        "        self.cv_results_test = cross_val_score(self.model, X_test, y_test, cv=kfolds)\n",
        "        self.cv_test_mean = np.mean(self.cv_results_test)\n",
        "        \n",
        "    def print_cv_summary(self):\n",
        "        cv_summary = self.cv_mean\n",
        "        return cv_summary\n",
        "        \n",
        "#         cv_summary = (\n",
        "#         f'''CV Results for `{self.name}` model:\n",
        "#             {self.cv_mean:.5f} ± {self.cv_std:.5f} accuracy\n",
        "#         ''')\n",
        "#         print(cv_summary)\n",
        "\n",
        "\n",
        "    def print_cv_test_summary(self):\n",
        "        cv_test_summary = self.cv_test_mean\n",
        "        return cv_test_summary\n",
        "\n",
        "\n",
        "    def plot_cv(self, ax):\n",
        "        '''\n",
        "        Plot the cross-validation values using the array of results and given \n",
        "        Axis for plotting.\n",
        "        '''\n",
        "        ax.set_title(f'CV Results for `{self.name}` Model')\n",
        "        \n",
        "        # Thinner violinplot with higher bw\n",
        "        sns.violinplot(y=self.cv_results, ax=ax, bw=.4)\n",
        "        sns.swarmplot(\n",
        "                y=self.cv_results,\n",
        "                color='orange',\n",
        "                size=10,\n",
        "                alpha= 0.8,\n",
        "                ax=ax\n",
        "        )\n",
        "\n",
        "        return ax"
      ],
      "metadata": {
        "id": "n88PbzRSNizL"
      },
      "execution_count": 15,
      "outputs": []
    },
    {
      "cell_type": "markdown",
      "source": [
        "### Create functions to catch scores and confusion matrix"
      ],
      "metadata": {
        "id": "hURSDKElp8n_"
      }
    },
    {
      "cell_type": "code",
      "source": [
        "cf_matrix_train_list = []\n",
        "cf_matrix_test_list = []\n",
        "\n",
        "accuracy_train_dict = {}\n",
        "recall_train_dict = {}\n",
        "precision_train_dict = {}\n",
        "f1_train_dict = {}\n",
        "\n",
        "accuracy_test_dict = {}\n",
        "recall_test_dict = {}\n",
        "precision_test_dict = {}\n",
        "f1_test_dict = {}\n",
        "\n",
        "miss_rate_list = []"
      ],
      "metadata": {
        "id": "hCUXsJXap6mI"
      },
      "execution_count": 16,
      "outputs": []
    },
    {
      "cell_type": "code",
      "source": [
        "def add_4scores_train(model_name):\n",
        "    accuracy_train_dict[model_name] = accuracy_score(y_train, y_hat_train)\n",
        "    recall_train_dict[model_name] = recall_score(y_train, y_hat_train)\n",
        "    precision_train_dict[model_name] = precision_score(y_train, y_hat_train)\n",
        "    f1_train_dict[model_name] = f1_score(y_train, y_hat_train)\n",
        "\n",
        "def add_4scores_test(model_name):\n",
        "    accuracy_test_dict[model_name] = accuracy_score(y_test, y_hat_test)\n",
        "    recall_test_dict[model_name] = recall_score(y_test, y_hat_test)\n",
        "    precision_test_dict[model_name] = precision_score(y_test, y_hat_test)\n",
        "    f1_test_dict[model_name] = f1_score(y_test, y_hat_test)"
      ],
      "metadata": {
        "id": "7UU0hPc5p7U3"
      },
      "execution_count": 17,
      "outputs": []
    },
    {
      "cell_type": "code",
      "source": [
        "def print_4scores_train(model_name):\n",
        "    return print(f\"\"\"\n",
        "The model's accuracy on the train set is {round(accuracy_train_dict[model_name], 4)} \\n\n",
        "The model's recall on the train set is {round(recall_train_dict[model_name], 4)} \\n\n",
        "The model's precision on the train set is {round(precision_train_dict[model_name], 4)} \\n\n",
        "The model's f1-score on the train is {round(f1_train_dict[model_name], 4)}\n",
        "\"\"\")\n",
        "\n",
        "def print_4scores_test(model_name):\n",
        "    return print(f\"\"\"\n",
        "The model's accuracy on the test set is {round(accuracy_test_dict[model_name], 4)} \\n\n",
        "The model's recall on the test set is {round(recall_test_dict[model_name], 4)} \\n\n",
        "The model's precision on the test set is {round(precision_test_dict[model_name], 4)} \\n\n",
        "The model's f1-score on the test is {round(f1_test_dict[model_name], 4)}\n",
        "\"\"\")"
      ],
      "metadata": {
        "id": "7n_widtMqEHl"
      },
      "execution_count": 18,
      "outputs": []
    },
    {
      "cell_type": "code",
      "source": [
        "def get_miss_rate(model_name):\n",
        "  y_hat=model_name.predict(X_test)\n",
        "  TN, FP, FN, TP = confusion_matrix(y_test, y_hat).ravel()\n",
        "  miss_rate = FN/(FN+TP)\n",
        "  return miss_rate"
      ],
      "metadata": {
        "id": "Miy_q-KeqFFk"
      },
      "execution_count": 19,
      "outputs": []
    },
    {
      "cell_type": "markdown",
      "source": [
        "## Model 1 - Dummy Classifier Model "
      ],
      "metadata": {
        "id": "upIAYnNDtYII"
      }
    },
    {
      "cell_type": "code",
      "source": [
        "dummy_model = DummyClassifier()"
      ],
      "metadata": {
        "id": "K563JQAwM8SM"
      },
      "execution_count": 20,
      "outputs": []
    },
    {
      "cell_type": "code",
      "source": [
        "dummy_model_cv =  ModelWithCV(dummy_model, model_name='dummy', X=X_train, y=y_train)"
      ],
      "metadata": {
        "id": "ViXeXAYiTEPK"
      },
      "execution_count": 21,
      "outputs": []
    },
    {
      "cell_type": "code",
      "source": [
        "dummy_model_cv.print_cv_summary()"
      ],
      "metadata": {
        "colab": {
          "base_uri": "https://localhost:8080/"
        },
        "id": "98obFrpVTLqC",
        "outputId": "ddc30b74-2a62-41c4-8283-542d71b53150"
      },
      "execution_count": 22,
      "outputs": [
        {
          "output_type": "execute_result",
          "data": {
            "text/plain": [
              "0.9695712887250949"
            ]
          },
          "metadata": {},
          "execution_count": 22
        }
      ]
    },
    {
      "cell_type": "code",
      "source": [
        "fig,ax = plt.subplots()\n",
        "\n",
        "dummy_model_cv.plot_cv(ax=ax)"
      ],
      "metadata": {
        "colab": {
          "base_uri": "https://localhost:8080/",
          "height": 285
        },
        "id": "fmXtEkOaTNpD",
        "outputId": "9a8d2ecb-21d6-474f-b19e-60ada9c4b420"
      },
      "execution_count": 23,
      "outputs": [
        {
          "output_type": "execute_result",
          "data": {
            "text/plain": [
              "<matplotlib.axes._subplots.AxesSubplot at 0x7f3e25083220>"
            ]
          },
          "metadata": {},
          "execution_count": 23
        },
        {
          "output_type": "display_data",
          "data": {
            "text/plain": [
              "<Figure size 432x288 with 1 Axes>"
            ],
            "image/png": "[encoded data removed]"
          },
          "metadata": {
            "needs_background": "light"
          }
        }
      ]
    },
    {
      "cell_type": "code",
      "source": [
        "# Score on training data:\n",
        "\n",
        "dummy_score_train = dummy_model_cv.print_cv_summary()\n",
        "dummy_score_train"
      ],
      "metadata": {
        "colab": {
          "base_uri": "https://localhost:8080/"
        },
        "id": "H0xXB4qioYSn",
        "outputId": "87ac290b-e521-48da-a61d-c253f72db5d0"
      },
      "execution_count": 24,
      "outputs": [
        {
          "output_type": "execute_result",
          "data": {
            "text/plain": [
              "0.9695712887250949"
            ]
          },
          "metadata": {},
          "execution_count": 24
        }
      ]
    },
    {
      "cell_type": "code",
      "source": [
        "# Validate with testing data:\n",
        "\n",
        "dummy_score_test = dummy_model_cv.print_cv_test_summary()\n",
        "dummy_score_test"
      ],
      "metadata": {
        "colab": {
          "base_uri": "https://localhost:8080/"
        },
        "id": "3khXSGd3ockk",
        "outputId": "96a48f8c-cf33-42ca-d19c-447ae946c51d"
      },
      "execution_count": 25,
      "outputs": [
        {
          "output_type": "execute_result",
          "data": {
            "text/plain": [
              "0.9640176991150442"
            ]
          },
          "metadata": {},
          "execution_count": 25
        }
      ]
    },
    {
      "cell_type": "code",
      "source": [
        "# Fit the model:\n",
        "dummy_model.fit(X_train, y_train)\n",
        "\n",
        "# Plot confusion_matrix on training data:\n",
        "matrix_train_model1 = plot_confusion_matrix(dummy_model, X_train, y_train);\n",
        "cf_matrix_train_list.append(matrix_train_model1)\n",
        "\n",
        "# Plot confusion_matrix on testing data:\n",
        "matrix_test_model1 = plot_confusion_matrix(dummy_model, X_test, y_test);\n",
        "cf_matrix_test_list.append(matrix_test_model1)\n",
        "\n",
        "# Print 4 scores on training data:\n",
        "y_hat_train = dummy_model.predict(X_train)\n",
        "add_4scores_train('model1')\n",
        "print_4scores_train('model1')\n",
        "\n",
        "# Print 4 scores on testing data:\n",
        "y_hat_test = dummy_model.predict(X_test)\n",
        "add_4scores_test('model1')\n",
        "print_4scores_test('model1')\n",
        "\n",
        "# calculate miss_rate:\n",
        "modle1_miss_rate = get_miss_rate(dummy_model)\n",
        "miss_rate_list.append(modle1_miss_rate)"
      ],
      "metadata": {
        "colab": {
          "base_uri": "https://localhost:8080/",
          "height": 1000
        },
        "id": "jeEWao1yodEl",
        "outputId": "89685983-0073-4027-891d-daf6cf69f9bf"
      },
      "execution_count": 26,
      "outputs": [
        {
          "output_type": "stream",
          "name": "stderr",
          "text": [
            "/usr/local/lib/python3.8/dist-packages/sklearn/utils/deprecation.py:87: FutureWarning: Function plot_confusion_matrix is deprecated; Function `plot_confusion_matrix` is deprecated in 1.0 and will be removed in 1.2. Use one of the class methods: ConfusionMatrixDisplay.from_predictions or ConfusionMatrixDisplay.from_estimator.\n",
            "  warnings.warn(msg, category=FutureWarning)\n",
            "/usr/local/lib/python3.8/dist-packages/sklearn/utils/deprecation.py:87: FutureWarning: Function plot_confusion_matrix is deprecated; Function `plot_confusion_matrix` is deprecated in 1.0 and will be removed in 1.2. Use one of the class methods: ConfusionMatrixDisplay.from_predictions or ConfusionMatrixDisplay.from_estimator.\n",
            "  warnings.warn(msg, category=FutureWarning)\n",
            "/usr/local/lib/python3.8/dist-packages/sklearn/metrics/_classification.py:1318: UndefinedMetricWarning: Precision is ill-defined and being set to 0.0 due to no predicted samples. Use `zero_division` parameter to control this behavior.\n",
            "  _warn_prf(average, modifier, msg_start, len(result))\n",
            "/usr/local/lib/python3.8/dist-packages/sklearn/metrics/_classification.py:1318: UndefinedMetricWarning: Precision is ill-defined and being set to 0.0 due to no predicted samples. Use `zero_division` parameter to control this behavior.\n",
            "  _warn_prf(average, modifier, msg_start, len(result))\n"
          ]
        },
        {
          "output_type": "stream",
          "name": "stdout",
          "text": [
            "\n",
            "The model's accuracy on the train set is 0.9696 \n",
            "\n",
            "The model's recall on the train set is 0.0 \n",
            "\n",
            "The model's precision on the train set is 0.0 \n",
            "\n",
            "The model's f1-score on the train is 0.0\n",
            "\n",
            "\n",
            "The model's accuracy on the test set is 0.964 \n",
            "\n",
            "The model's recall on the test set is 0.0 \n",
            "\n",
            "The model's precision on the test set is 0.0 \n",
            "\n",
            "The model's f1-score on the test is 0.0\n",
            "\n"
          ]
        },
        {
          "output_type": "display_data",
          "data": {
            "text/plain": [
              "<Figure size 432x288 with 2 Axes>"
            ],
            "image/png": "[encoded data removed]"
          },
          "metadata": {
            "needs_background": "light"
          }
        },
        {
          "output_type": "display_data",
          "data": {
            "text/plain": [
              "<Figure size 432x288 with 2 Axes>"
            ],
            "image/png": "[encoded data removed]"
          },
          "metadata": {
            "needs_background": "light"
          }
        }
      ]
    },
    {
      "cell_type": "markdown",
      "source": [
        "## Model 2 - Logistic Regression Model"
      ],
      "metadata": {
        "id": "-tyUcj8stpuB"
      }
    },
    {
      "cell_type": "code",
      "source": [
        "logreg_model = LogisticRegression(random_state=42, solver='saga', max_iter=300)"
      ],
      "metadata": {
        "id": "K6rkT0DjquTB"
      },
      "execution_count": 27,
      "outputs": []
    },
    {
      "cell_type": "code",
      "source": [
        "# Use the class with out logreg pipe\n",
        "\n",
        "logreg_model_cv =  ModelWithCV(logreg_model, model_name='logreg',X=X_train, y=y_train)"
      ],
      "metadata": {
        "id": "kdlpZuhJqusw",
        "colab": {
          "base_uri": "https://localhost:8080/"
        },
        "outputId": "a49cb66c-6aa1-4587-e0d7-2e85554321a8"
      },
      "execution_count": 28,
      "outputs": [
        {
          "output_type": "stream",
          "name": "stderr",
          "text": [
            "/usr/local/lib/python3.8/dist-packages/sklearn/linear_model/_sag.py:352: ConvergenceWarning: The max_iter was reached which means the coef_ did not converge\n",
            "  warnings.warn(\n",
            "/usr/local/lib/python3.8/dist-packages/sklearn/linear_model/_sag.py:352: ConvergenceWarning: The max_iter was reached which means the coef_ did not converge\n",
            "  warnings.warn(\n",
            "/usr/local/lib/python3.8/dist-packages/sklearn/linear_model/_sag.py:352: ConvergenceWarning: The max_iter was reached which means the coef_ did not converge\n",
            "  warnings.warn(\n",
            "/usr/local/lib/python3.8/dist-packages/sklearn/linear_model/_sag.py:352: ConvergenceWarning: The max_iter was reached which means the coef_ did not converge\n",
            "  warnings.warn(\n",
            "/usr/local/lib/python3.8/dist-packages/sklearn/linear_model/_sag.py:352: ConvergenceWarning: The max_iter was reached which means the coef_ did not converge\n",
            "  warnings.warn(\n",
            "/usr/local/lib/python3.8/dist-packages/sklearn/linear_model/_sag.py:352: ConvergenceWarning: The max_iter was reached which means the coef_ did not converge\n",
            "  warnings.warn(\n",
            "/usr/local/lib/python3.8/dist-packages/sklearn/linear_model/_sag.py:352: ConvergenceWarning: The max_iter was reached which means the coef_ did not converge\n",
            "  warnings.warn(\n",
            "/usr/local/lib/python3.8/dist-packages/sklearn/linear_model/_sag.py:352: ConvergenceWarning: The max_iter was reached which means the coef_ did not converge\n",
            "  warnings.warn(\n",
            "/usr/local/lib/python3.8/dist-packages/sklearn/linear_model/_sag.py:352: ConvergenceWarning: The max_iter was reached which means the coef_ did not converge\n",
            "  warnings.warn(\n",
            "/usr/local/lib/python3.8/dist-packages/sklearn/linear_model/_sag.py:352: ConvergenceWarning: The max_iter was reached which means the coef_ did not converge\n",
            "  warnings.warn(\n",
            "/usr/local/lib/python3.8/dist-packages/sklearn/linear_model/_sag.py:352: ConvergenceWarning: The max_iter was reached which means the coef_ did not converge\n",
            "  warnings.warn(\n",
            "/usr/local/lib/python3.8/dist-packages/sklearn/linear_model/_sag.py:352: ConvergenceWarning: The max_iter was reached which means the coef_ did not converge\n",
            "  warnings.warn(\n",
            "/usr/local/lib/python3.8/dist-packages/sklearn/linear_model/_sag.py:352: ConvergenceWarning: The max_iter was reached which means the coef_ did not converge\n",
            "  warnings.warn(\n",
            "/usr/local/lib/python3.8/dist-packages/sklearn/linear_model/_sag.py:352: ConvergenceWarning: The max_iter was reached which means the coef_ did not converge\n",
            "  warnings.warn(\n",
            "/usr/local/lib/python3.8/dist-packages/sklearn/linear_model/_sag.py:352: ConvergenceWarning: The max_iter was reached which means the coef_ did not converge\n",
            "  warnings.warn(\n",
            "/usr/local/lib/python3.8/dist-packages/sklearn/linear_model/_sag.py:352: ConvergenceWarning: The max_iter was reached which means the coef_ did not converge\n",
            "  warnings.warn(\n",
            "/usr/local/lib/python3.8/dist-packages/sklearn/linear_model/_sag.py:352: ConvergenceWarning: The max_iter was reached which means the coef_ did not converge\n",
            "  warnings.warn(\n",
            "/usr/local/lib/python3.8/dist-packages/sklearn/linear_model/_sag.py:352: ConvergenceWarning: The max_iter was reached which means the coef_ did not converge\n",
            "  warnings.warn(\n",
            "/usr/local/lib/python3.8/dist-packages/sklearn/linear_model/_sag.py:352: ConvergenceWarning: The max_iter was reached which means the coef_ did not converge\n",
            "  warnings.warn(\n",
            "/usr/local/lib/python3.8/dist-packages/sklearn/linear_model/_sag.py:352: ConvergenceWarning: The max_iter was reached which means the coef_ did not converge\n",
            "  warnings.warn(\n"
          ]
        }
      ]
    },
    {
      "cell_type": "code",
      "source": [
        "# Score on training data:\n",
        "\n",
        "logreg_score_train = logreg_model_cv.print_cv_summary()\n",
        "logreg_score_train"
      ],
      "metadata": {
        "colab": {
          "base_uri": "https://localhost:8080/"
        },
        "id": "TDsjqz9QuKPs",
        "outputId": "68b68073-1d70-4aed-d739-08bef7a37efe"
      },
      "execution_count": 29,
      "outputs": [
        {
          "output_type": "execute_result",
          "data": {
            "text/plain": [
              "0.9649746631348612"
            ]
          },
          "metadata": {},
          "execution_count": 29
        }
      ]
    },
    {
      "cell_type": "code",
      "source": [
        "# Validate with testing data:\n",
        "\n",
        "logreg_score_test = logreg_model_cv.print_cv_test_summary()\n",
        "logreg_score_test"
      ],
      "metadata": {
        "colab": {
          "base_uri": "https://localhost:8080/"
        },
        "id": "CW6gS3IOuRnL",
        "outputId": "adfc7774-6639-4a1a-a654-f3e022b2f87f"
      },
      "execution_count": 30,
      "outputs": [
        {
          "output_type": "execute_result",
          "data": {
            "text/plain": [
              "0.9569085545722714"
            ]
          },
          "metadata": {},
          "execution_count": 30
        }
      ]
    },
    {
      "cell_type": "code",
      "source": [
        "fig,ax = plt.subplots()\n",
        "logreg_model_cv.plot_cv(ax=ax)"
      ],
      "metadata": {
        "colab": {
          "base_uri": "https://localhost:8080/",
          "height": 285
        },
        "id": "QHXp-11OuTch",
        "outputId": "732320a2-2516-4c71-b986-28882a38b5f7"
      },
      "execution_count": 31,
      "outputs": [
        {
          "output_type": "execute_result",
          "data": {
            "text/plain": [
              "<matplotlib.axes._subplots.AxesSubplot at 0x7f3e2123c970>"
            ]
          },
          "metadata": {},
          "execution_count": 31
        },
        {
          "output_type": "display_data",
          "data": {
            "text/plain": [
              "<Figure size 432x288 with 1 Axes>"
            ],
            "image/png": "[encoded data removed]"
          },
          "metadata": {
            "needs_background": "light"
          }
        }
      ]
    },
    {
      "cell_type": "code",
      "source": [
        "# Fit the model:\n",
        "logreg_model.fit(X_train, y_train)\n",
        "\n",
        "# Plot confusion_matrix on training data:\n",
        "matrix_train_model2 = plot_confusion_matrix(logreg_model, X_train, y_train);\n",
        "cf_matrix_train_list.append(matrix_train_model2)\n",
        "\n",
        "# Plot confusion_matrix on testing data:\n",
        "matrix_test_model2 = plot_confusion_matrix(logreg_model, X_test, y_test);\n",
        "cf_matrix_test_list.append(matrix_test_model2)\n",
        "\n",
        "# Print 4 scores on training data:\n",
        "y_hat_train = logreg_model.predict(X_train)\n",
        "add_4scores_train('model2')\n",
        "print_4scores_train('model2')\n",
        "\n",
        "# Print 4 scores on testing data:\n",
        "y_hat_test = logreg_model.predict(X_test)\n",
        "add_4scores_test('model2')\n",
        "print_4scores_test('model2')\n",
        "\n",
        "# calculate miss_rate:\n",
        "modle2_miss_rate = get_miss_rate(logreg_model)\n",
        "miss_rate_list.append(modle2_miss_rate)"
      ],
      "metadata": {
        "colab": {
          "base_uri": "https://localhost:8080/",
          "height": 978
        },
        "id": "20IgxJOauT8B",
        "outputId": "a0005436-d0aa-4237-eb90-f25e7c2999b9"
      },
      "execution_count": 32,
      "outputs": [
        {
          "output_type": "stream",
          "name": "stderr",
          "text": [
            "/usr/local/lib/python3.8/dist-packages/sklearn/linear_model/_sag.py:352: ConvergenceWarning: The max_iter was reached which means the coef_ did not converge\n",
            "  warnings.warn(\n",
            "/usr/local/lib/python3.8/dist-packages/sklearn/utils/deprecation.py:87: FutureWarning: Function plot_confusion_matrix is deprecated; Function `plot_confusion_matrix` is deprecated in 1.0 and will be removed in 1.2. Use one of the class methods: ConfusionMatrixDisplay.from_predictions or ConfusionMatrixDisplay.from_estimator.\n",
            "  warnings.warn(msg, category=FutureWarning)\n",
            "/usr/local/lib/python3.8/dist-packages/sklearn/utils/deprecation.py:87: FutureWarning: Function plot_confusion_matrix is deprecated; Function `plot_confusion_matrix` is deprecated in 1.0 and will be removed in 1.2. Use one of the class methods: ConfusionMatrixDisplay.from_predictions or ConfusionMatrixDisplay.from_estimator.\n",
            "  warnings.warn(msg, category=FutureWarning)\n"
          ]
        },
        {
          "output_type": "stream",
          "name": "stdout",
          "text": [
            "\n",
            "The model's accuracy on the train set is 0.9667 \n",
            "\n",
            "The model's recall on the train set is 0.0216 \n",
            "\n",
            "The model's precision on the train set is 0.1579 \n",
            "\n",
            "The model's f1-score on the train is 0.038\n",
            "\n",
            "\n",
            "The model's accuracy on the test set is 0.9578 \n",
            "\n",
            "The model's recall on the test set is 0.0123 \n",
            "\n",
            "The model's precision on the test set is 0.0625 \n",
            "\n",
            "The model's f1-score on the test is 0.0206\n",
            "\n"
          ]
        },
        {
          "output_type": "display_data",
          "data": {
            "text/plain": [
              "<Figure size 432x288 with 2 Axes>"
            ],
            "image/png": "[encoded data removed]"
          },
          "metadata": {
            "needs_background": "light"
          }
        },
        {
          "output_type": "display_data",
          "data": {
            "text/plain": [
              "<Figure size 432x288 with 2 Axes>"
            ],
            "image/png": "[encoded data removed]"
          },
          "metadata": {
            "needs_background": "light"
          }
        }
      ]
    },
    {
      "cell_type": "markdown",
      "source": [
        "## Model 3 - Random Forest Model"
      ],
      "metadata": {
        "id": "PL9qqdzHvIet"
      }
    },
    {
      "cell_type": "code",
      "source": [
        "rfc_model = RandomForestClassifier(random_state=42)\n",
        "\n",
        "rfc_model_cv = ModelWithCV(model=rfc_model,\n",
        "                          model_name='rfc_model',\n",
        "                          X=X_train,\n",
        "                          y=y_train)\n",
        "\n",
        "fig, ax = plt.subplots()\n",
        "\n",
        "rfc_model_cv.plot_cv(ax=ax);"
      ],
      "metadata": {
        "colab": {
          "base_uri": "https://localhost:8080/",
          "height": 268
        },
        "id": "tL5Ho7GwuUI4",
        "outputId": "9ef54eb2-2f51-4d70-81a2-cc19fd845bf0"
      },
      "execution_count": 33,
      "outputs": [
        {
          "output_type": "display_data",
          "data": {
            "text/plain": [
              "<Figure size 432x288 with 1 Axes>"
            ],
            "image/png": "[encoded data removed]"
          },
          "metadata": {
            "needs_background": "light"
          }
        }
      ]
    },
    {
      "cell_type": "code",
      "source": [
        "# Score on training data:\n",
        "\n",
        "rfc_score_train = rfc_model_cv.print_cv_summary()\n",
        "rfc_score_train"
      ],
      "metadata": {
        "colab": {
          "base_uri": "https://localhost:8080/"
        },
        "id": "wO432nSLvGyV",
        "outputId": "95cdf74d-3bfc-4884-adc6-44f73fd5463f"
      },
      "execution_count": 34,
      "outputs": [
        {
          "output_type": "execute_result",
          "data": {
            "text/plain": [
              "0.9724173672693768"
            ]
          },
          "metadata": {},
          "execution_count": 34
        }
      ]
    },
    {
      "cell_type": "code",
      "source": [
        "# Validate with testing data:\n",
        "\n",
        "rfc_score_test = rfc_model_cv.print_cv_test_summary()\n",
        "rfc_score_test"
      ],
      "metadata": {
        "colab": {
          "base_uri": "https://localhost:8080/"
        },
        "id": "CS_7OXPhvG6M",
        "outputId": "20409505-a40d-4cd4-c8e6-0ae352f8f897"
      },
      "execution_count": 35,
      "outputs": [
        {
          "output_type": "execute_result",
          "data": {
            "text/plain": [
              "0.962684365781711"
            ]
          },
          "metadata": {},
          "execution_count": 35
        }
      ]
    },
    {
      "cell_type": "code",
      "source": [
        "# Fit the model:\n",
        "rfc_model.fit(X_train, y_train)\n",
        "\n",
        "# Plot confusion_matrix on training data:\n",
        "matrix_train_model3 = plot_confusion_matrix(rfc_model, X_train, y_train);\n",
        "cf_matrix_train_list.append(matrix_train_model3)\n",
        "\n",
        "# Plot confusion_matrix on testing data:\n",
        "matrix_test_model3 = plot_confusion_matrix(rfc_model, X_test, y_test);\n",
        "cf_matrix_test_list.append(matrix_test_model3)\n",
        "\n",
        "\n",
        "# Print 4 scores on training data:\n",
        "y_hat_train = rfc_model.predict(X_train)\n",
        "add_4scores_train('model3')\n",
        "print_4scores_train('model3')\n",
        "\n",
        "# Print 4 scores on testing data:\n",
        "y_hat_test = rfc_model.predict(X_test)\n",
        "add_4scores_test('model3')\n",
        "print_4scores_test('model3')\n",
        "\n",
        "# calculate miss_rate:\n",
        "modle3_miss_rate = get_miss_rate(rfc_model)\n",
        "miss_rate_list.append(modle3_miss_rate)"
      ],
      "metadata": {
        "colab": {
          "base_uri": "https://localhost:8080/",
          "height": 943
        },
        "id": "0WycdS3nvHAF",
        "outputId": "a0f61be3-a8da-4c1d-e545-a11a7d9ecd79"
      },
      "execution_count": 36,
      "outputs": [
        {
          "output_type": "stream",
          "name": "stderr",
          "text": [
            "/usr/local/lib/python3.8/dist-packages/sklearn/utils/deprecation.py:87: FutureWarning: Function plot_confusion_matrix is deprecated; Function `plot_confusion_matrix` is deprecated in 1.0 and will be removed in 1.2. Use one of the class methods: ConfusionMatrixDisplay.from_predictions or ConfusionMatrixDisplay.from_estimator.\n",
            "  warnings.warn(msg, category=FutureWarning)\n",
            "/usr/local/lib/python3.8/dist-packages/sklearn/utils/deprecation.py:87: FutureWarning: Function plot_confusion_matrix is deprecated; Function `plot_confusion_matrix` is deprecated in 1.0 and will be removed in 1.2. Use one of the class methods: ConfusionMatrixDisplay.from_predictions or ConfusionMatrixDisplay.from_estimator.\n",
            "  warnings.warn(msg, category=FutureWarning)\n"
          ]
        },
        {
          "output_type": "stream",
          "name": "stdout",
          "text": [
            "\n",
            "The model's accuracy on the train set is 0.9998 \n",
            "\n",
            "The model's recall on the train set is 0.9928 \n",
            "\n",
            "The model's precision on the train set is 1.0 \n",
            "\n",
            "The model's f1-score on the train is 0.9964\n",
            "\n",
            "\n",
            "The model's accuracy on the test set is 0.9662 \n",
            "\n",
            "The model's recall on the test set is 0.1358 \n",
            "\n",
            "The model's precision on the test set is 0.6471 \n",
            "\n",
            "The model's f1-score on the test is 0.2245\n",
            "\n"
          ]
        },
        {
          "output_type": "display_data",
          "data": {
            "text/plain": [
              "<Figure size 432x288 with 2 Axes>"
            ],
            "image/png": "[encoded data removed]"
          },
          "metadata": {
            "needs_background": "light"
          }
        },
        {
          "output_type": "display_data",
          "data": {
            "text/plain": [
              "<Figure size 432x288 with 2 Axes>"
            ],
            "image/png": "[encoded data removed]"
          },
          "metadata": {
            "needs_background": "light"
          }
        }
      ]
    },
    {
      "cell_type": "markdown",
      "source": [
        "### Finding\n",
        "Random Forest Model is the best model so far with the highest F1 score."
      ],
      "metadata": {
        "id": "_9uVkKQ-waX4"
      }
    },
    {
      "cell_type": "markdown",
      "source": [
        "## Model 4 - Gradient Booster Model"
      ],
      "metadata": {
        "id": "QxzzNlSjwoFZ"
      }
    },
    {
      "cell_type": "code",
      "source": [
        "# gbc!\n",
        "gbc_model = GradientBoostingClassifier(random_state=42)\n",
        "\n",
        "gbc_model_cv = ModelWithCV(model=gbc_model,\n",
        "                          model_name='gbc_model',\n",
        "                          X=X_train,\n",
        "                          y=y_train)\n",
        "\n",
        "fig, ax = plt.subplots()\n",
        "\n",
        "gbc_model_cv.plot_cv(ax=ax);"
      ],
      "metadata": {
        "colab": {
          "base_uri": "https://localhost:8080/",
          "height": 268
        },
        "id": "gupTyBFRvHFU",
        "outputId": "920d45c4-4513-42f8-b5c7-8f2f6f3b222e"
      },
      "execution_count": 37,
      "outputs": [
        {
          "output_type": "display_data",
          "data": {
            "text/plain": [
              "<Figure size 432x288 with 1 Axes>"
            ],
            "image/png": "[encoded data removed]"
          },
          "metadata": {
            "needs_background": "light"
          }
        }
      ]
    },
    {
      "cell_type": "code",
      "source": [
        "# Score on training data:\n",
        "\n",
        "gbc_score_train = gbc_model_cv.print_cv_summary()\n",
        "gbc_score_train"
      ],
      "metadata": {
        "colab": {
          "base_uri": "https://localhost:8080/"
        },
        "id": "arM04tjOvHIv",
        "outputId": "3143cd6f-83a5-4a8b-eb2c-b4235cc51347"
      },
      "execution_count": 38,
      "outputs": [
        {
          "output_type": "execute_result",
          "data": {
            "text/plain": [
              "0.9686940957426391"
            ]
          },
          "metadata": {},
          "execution_count": 38
        }
      ]
    },
    {
      "cell_type": "code",
      "source": [
        "# Validate with testing data:\n",
        "\n",
        "gbc_score_test = gbc_model_cv.print_cv_test_summary()\n",
        "gbc_score_test"
      ],
      "metadata": {
        "colab": {
          "base_uri": "https://localhost:8080/"
        },
        "id": "ErA0Ns8evHMJ",
        "outputId": "407bb175-857a-4334-a142-bbc544cc3cdb"
      },
      "execution_count": 39,
      "outputs": [
        {
          "output_type": "execute_result",
          "data": {
            "text/plain": [
              "0.9609065880039331"
            ]
          },
          "metadata": {},
          "execution_count": 39
        }
      ]
    },
    {
      "cell_type": "code",
      "source": [
        "# Fit the model:\n",
        "gbc_model.fit(X_train, y_train)\n",
        "\n",
        "# Plot confusion_matrix on training data:\n",
        "matrix_train_model4 = plot_confusion_matrix(gbc_model, X_train, y_train);\n",
        "cf_matrix_train_list.append(matrix_train_model4)\n",
        "\n",
        "# Plot confusion_matrix on testing data:\n",
        "matrix_test_model4 = plot_confusion_matrix(gbc_model, X_test, y_test);\n",
        "cf_matrix_test_list.append(matrix_test_model4)\n",
        "\n",
        "# Print 4 scores on training data:\n",
        "y_hat_train = gbc_model.predict(X_train)\n",
        "add_4scores_train('model4')\n",
        "print_4scores_train('model4')\n",
        "\n",
        "# Print 4 scores on testing data:\n",
        "y_hat_test = gbc_model.predict(X_test)\n",
        "add_4scores_test('model4')\n",
        "print_4scores_test('model4')\n",
        "\n",
        "# calculate miss_rate:\n",
        "modle4_miss_rate = get_miss_rate(gbc_model)\n",
        "miss_rate_list.append(modle4_miss_rate)"
      ],
      "metadata": {
        "colab": {
          "base_uri": "https://localhost:8080/",
          "height": 943
        },
        "id": "BAPDKBLBvHPQ",
        "outputId": "2dd92209-b6d5-4fa7-99bd-0dc55835f3f6"
      },
      "execution_count": 40,
      "outputs": [
        {
          "output_type": "stream",
          "name": "stderr",
          "text": [
            "/usr/local/lib/python3.8/dist-packages/sklearn/utils/deprecation.py:87: FutureWarning: Function plot_confusion_matrix is deprecated; Function `plot_confusion_matrix` is deprecated in 1.0 and will be removed in 1.2. Use one of the class methods: ConfusionMatrixDisplay.from_predictions or ConfusionMatrixDisplay.from_estimator.\n",
            "  warnings.warn(msg, category=FutureWarning)\n",
            "/usr/local/lib/python3.8/dist-packages/sklearn/utils/deprecation.py:87: FutureWarning: Function plot_confusion_matrix is deprecated; Function `plot_confusion_matrix` is deprecated in 1.0 and will be removed in 1.2. Use one of the class methods: ConfusionMatrixDisplay.from_predictions or ConfusionMatrixDisplay.from_estimator.\n",
            "  warnings.warn(msg, category=FutureWarning)\n"
          ]
        },
        {
          "output_type": "stream",
          "name": "stdout",
          "text": [
            "\n",
            "The model's accuracy on the train set is 0.9958 \n",
            "\n",
            "The model's recall on the train set is 0.8633 \n",
            "\n",
            "The model's precision on the train set is 1.0 \n",
            "\n",
            "The model's f1-score on the train is 0.9266\n",
            "\n",
            "\n",
            "The model's accuracy on the test set is 0.9622 \n",
            "\n",
            "The model's recall on the test set is 0.2593 \n",
            "\n",
            "The model's precision on the test set is 0.4565 \n",
            "\n",
            "The model's f1-score on the test is 0.3307\n",
            "\n"
          ]
        },
        {
          "output_type": "display_data",
          "data": {
            "text/plain": [
              "<Figure size 432x288 with 2 Axes>"
            ],
            "image/png": "[encoded data removed]"
          },
          "metadata": {
            "needs_background": "light"
          }
        },
        {
          "output_type": "display_data",
          "data": {
            "text/plain": [
              "<Figure size 432x288 with 2 Axes>"
            ],
            "image/png": "[encoded data removed]"
          },
          "metadata": {
            "needs_background": "light"
          }
        }
      ]
    },
    {
      "cell_type": "markdown",
      "source": [
        "### Finding\n",
        "Gradient Booster Model is better than Randon Forest Model because of the higher F1 score."
      ],
      "metadata": {
        "id": "ftO3Xy43yCt9"
      }
    },
    {
      "cell_type": "markdown",
      "source": [
        "## Model 5 - Decision Tree Model"
      ],
      "metadata": {
        "id": "jVay0DDeyUzU"
      }
    },
    {
      "cell_type": "code",
      "source": [
        "dtc_model = DecisionTreeClassifier(random_state=42)\n",
        "\n",
        "dtc_model_cv = ModelWithCV(model=dtc_model,\n",
        "                          model_name='dtc_model',\n",
        "                          X=X_train,\n",
        "                          y=y_train)\n",
        "\n",
        "fig, ax = plt.subplots()\n",
        "\n",
        "dtc_model_cv.plot_cv(ax=ax);"
      ],
      "metadata": {
        "colab": {
          "base_uri": "https://localhost:8080/",
          "height": 268
        },
        "id": "47Pei-JTvHRr",
        "outputId": "2c33aecf-e251-4fbc-dd98-fe6d96bf7bff"
      },
      "execution_count": 41,
      "outputs": [
        {
          "output_type": "display_data",
          "data": {
            "text/plain": [
              "<Figure size 432x288 with 1 Axes>"
            ],
            "image/png": "[encoded data removed]"
          },
          "metadata": {
            "needs_background": "light"
          }
        }
      ]
    },
    {
      "cell_type": "code",
      "source": [
        "# Score on training data:\n",
        "\n",
        "dtc_score_train = dtc_model_cv.print_cv_summary()\n",
        "dtc_score_train"
      ],
      "metadata": {
        "colab": {
          "base_uri": "https://localhost:8080/"
        },
        "id": "1rp29L-ixMKD",
        "outputId": "3fafdf71-0924-4e18-f51e-5567e34df8ec"
      },
      "execution_count": 42,
      "outputs": [
        {
          "output_type": "execute_result",
          "data": {
            "text/plain": [
              "0.961468770394257"
            ]
          },
          "metadata": {},
          "execution_count": 42
        }
      ]
    },
    {
      "cell_type": "code",
      "source": [
        "# Validate with testing data:\n",
        "\n",
        "dtc_score_test = dtc_model_cv.print_cv_test_summary()\n",
        "dtc_score_test"
      ],
      "metadata": {
        "colab": {
          "base_uri": "https://localhost:8080/"
        },
        "id": "C9T8cw4zxMO5",
        "outputId": "db3fddc6-f161-45bb-9ceb-2f707f4dfa4d"
      },
      "execution_count": 43,
      "outputs": [
        {
          "output_type": "execute_result",
          "data": {
            "text/plain": [
              "0.9449105211406097"
            ]
          },
          "metadata": {},
          "execution_count": 43
        }
      ]
    },
    {
      "cell_type": "code",
      "source": [
        "# Fit the model:\n",
        "dtc_model.fit(X_train, y_train)\n",
        "\n",
        "# Plot confusion_matrix on training data:\n",
        "matrix_train_model5 = plot_confusion_matrix(dtc_model, X_train, y_train);\n",
        "cf_matrix_train_list.append(matrix_train_model5)\n",
        "\n",
        "# Plot confusion_matrix on testing data:\n",
        "matrix_test_model5 = plot_confusion_matrix(dtc_model, X_test, y_test);\n",
        "cf_matrix_test_list.append(matrix_test_model5)\n",
        "\n",
        "# Print 4 scores on training data:\n",
        "y_hat_train = dtc_model.predict(X_train)\n",
        "add_4scores_train('model5')\n",
        "print_4scores_train('model5')\n",
        "\n",
        "# Print 4 scores on testing data:\n",
        "y_hat_test = dtc_model.predict(X_test)\n",
        "add_4scores_test('model5')\n",
        "print_4scores_test('model5')\n",
        "\n",
        "# calculate miss_rate:\n",
        "modle5_miss_rate = get_miss_rate(dtc_model)\n",
        "miss_rate_list.append(modle5_miss_rate)"
      ],
      "metadata": {
        "colab": {
          "base_uri": "https://localhost:8080/",
          "height": 943
        },
        "id": "09MDBOmyxMTY",
        "outputId": "4413c2c9-c6d9-4747-adee-16164d2234e1"
      },
      "execution_count": 44,
      "outputs": [
        {
          "output_type": "stream",
          "name": "stderr",
          "text": [
            "/usr/local/lib/python3.8/dist-packages/sklearn/utils/deprecation.py:87: FutureWarning: Function plot_confusion_matrix is deprecated; Function `plot_confusion_matrix` is deprecated in 1.0 and will be removed in 1.2. Use one of the class methods: ConfusionMatrixDisplay.from_predictions or ConfusionMatrixDisplay.from_estimator.\n",
            "  warnings.warn(msg, category=FutureWarning)\n",
            "/usr/local/lib/python3.8/dist-packages/sklearn/utils/deprecation.py:87: FutureWarning: Function plot_confusion_matrix is deprecated; Function `plot_confusion_matrix` is deprecated in 1.0 and will be removed in 1.2. Use one of the class methods: ConfusionMatrixDisplay.from_predictions or ConfusionMatrixDisplay.from_estimator.\n",
            "  warnings.warn(msg, category=FutureWarning)\n"
          ]
        },
        {
          "output_type": "stream",
          "name": "stdout",
          "text": [
            "\n",
            "The model's accuracy on the train set is 1.0 \n",
            "\n",
            "The model's recall on the train set is 1.0 \n",
            "\n",
            "The model's precision on the train set is 1.0 \n",
            "\n",
            "The model's f1-score on the train is 1.0\n",
            "\n",
            "\n",
            "The model's accuracy on the test set is 0.952 \n",
            "\n",
            "The model's recall on the test set is 0.3704 \n",
            "\n",
            "The model's precision on the test set is 0.3448 \n",
            "\n",
            "The model's f1-score on the test is 0.3571\n",
            "\n"
          ]
        },
        {
          "output_type": "display_data",
          "data": {
            "text/plain": [
              "<Figure size 432x288 with 2 Axes>"
            ],
            "image/png": "[encoded data removed]"
          },
          "metadata": {
            "needs_background": "light"
          }
        },
        {
          "output_type": "display_data",
          "data": {
            "text/plain": [
              "<Figure size 432x288 with 2 Axes>"
            ],
            "image/png": "[encoded data removed]"
          },
          "metadata": {
            "needs_background": "light"
          }
        }
      ]
    },
    {
      "cell_type": "markdown",
      "source": [
        "### Finding\n",
        "Decision Tree Model and Gradient Booster Model are the best 2 modles so far.  Will try to tune those models."
      ],
      "metadata": {
        "id": "AkU4X9_Jzs5x"
      }
    },
    {
      "cell_type": "markdown",
      "source": [
        "## Model 6 - Tuning and Cross-validating: Gradient Booster Model"
      ],
      "metadata": {
        "id": "-PIY6eQS3ewP"
      }
    },
    {
      "cell_type": "code",
      "source": [
        "# Set up pipeline:\n",
        "gbc_pipe = Pipeline([('gbc', GradientBoostingClassifier(random_state=42))])\n",
        "gbc_pipe"
      ],
      "metadata": {
        "colab": {
          "base_uri": "https://localhost:8080/"
        },
        "id": "9-EpeWgYxMYB",
        "outputId": "a7fb29d9-8d7a-43bd-f311-7f7cab089830"
      },
      "execution_count": 45,
      "outputs": [
        {
          "output_type": "execute_result",
          "data": {
            "text/plain": [
              "Pipeline(steps=[('gbc', GradientBoostingClassifier(random_state=42))])"
            ]
          },
          "metadata": {},
          "execution_count": 45
        }
      ]
    },
    {
      "cell_type": "code",
      "source": [
        "# Set up parameters:\n",
        "params = {\n",
        "        'gbc__loss':['log_loss', 'deviance', 'exponential'],\n",
        "        'gbc__criterion':['friedman_mse', 'squared_error'],\n",
        "        'gbc__max_depth':[1, 3, 5]\n",
        "}\n",
        "\n",
        "# Set up GridSearchCV and fit training data:\n",
        "gs_gbc = GridSearchCV(estimator=gbc_pipe, param_grid=params, cv=10, verbose=2)\n",
        "\n",
        "gs_gbc.fit(X_train, y_train)"
      ],
      "metadata": {
        "colab": {
          "base_uri": "https://localhost:8080/"
        },
        "id": "IBAkQInk0MmC",
        "outputId": "b7274f02-7a53-469f-ae2f-1a30b684fb92"
      },
      "execution_count": 46,
      "outputs": [
        {
          "output_type": "stream",
          "name": "stdout",
          "text": [
            "Fitting 10 folds for each of 18 candidates, totalling 180 fits\n",
            "[CV] END gbc__criterion=friedman_mse, gbc__loss=log_loss, gbc__max_depth=1; total time=   0.0s\n",
            "[CV] END gbc__criterion=friedman_mse, gbc__loss=log_loss, gbc__max_depth=1; total time=   0.0s\n",
            "[CV] END gbc__criterion=friedman_mse, gbc__loss=log_loss, gbc__max_depth=1; total time=   0.0s\n",
            "[CV] END gbc__criterion=friedman_mse, gbc__loss=log_loss, gbc__max_depth=1; total time=   0.0s\n",
            "[CV] END gbc__criterion=friedman_mse, gbc__loss=log_loss, gbc__max_depth=1; total time=   0.0s\n",
            "[CV] END gbc__criterion=friedman_mse, gbc__loss=log_loss, gbc__max_depth=1; total time=   0.0s\n",
            "[CV] END gbc__criterion=friedman_mse, gbc__loss=log_loss, gbc__max_depth=1; total time=   0.0s\n",
            "[CV] END gbc__criterion=friedman_mse, gbc__loss=log_loss, gbc__max_depth=1; total time=   0.0s\n",
            "[CV] END gbc__criterion=friedman_mse, gbc__loss=log_loss, gbc__max_depth=1; total time=   0.0s\n",
            "[CV] END gbc__criterion=friedman_mse, gbc__loss=log_loss, gbc__max_depth=1; total time=   0.0s\n",
            "[CV] END gbc__criterion=friedman_mse, gbc__loss=log_loss, gbc__max_depth=3; total time=   0.0s\n",
            "[CV] END gbc__criterion=friedman_mse, gbc__loss=log_loss, gbc__max_depth=3; total time=   0.0s\n",
            "[CV] END gbc__criterion=friedman_mse, gbc__loss=log_loss, gbc__max_depth=3; total time=   0.0s\n",
            "[CV] END gbc__criterion=friedman_mse, gbc__loss=log_loss, gbc__max_depth=3; total time=   0.0s\n",
            "[CV] END gbc__criterion=friedman_mse, gbc__loss=log_loss, gbc__max_depth=3; total time=   0.0s\n",
            "[CV] END gbc__criterion=friedman_mse, gbc__loss=log_loss, gbc__max_depth=3; total time=   0.0s\n",
            "[CV] END gbc__criterion=friedman_mse, gbc__loss=log_loss, gbc__max_depth=3; total time=   0.0s\n",
            "[CV] END gbc__criterion=friedman_mse, gbc__loss=log_loss, gbc__max_depth=3; total time=   0.0s\n",
            "[CV] END gbc__criterion=friedman_mse, gbc__loss=log_loss, gbc__max_depth=3; total time=   0.0s\n",
            "[CV] END gbc__criterion=friedman_mse, gbc__loss=log_loss, gbc__max_depth=3; total time=   0.0s\n",
            "[CV] END gbc__criterion=friedman_mse, gbc__loss=log_loss, gbc__max_depth=5; total time=   0.0s\n",
            "[CV] END gbc__criterion=friedman_mse, gbc__loss=log_loss, gbc__max_depth=5; total time=   0.0s\n",
            "[CV] END gbc__criterion=friedman_mse, gbc__loss=log_loss, gbc__max_depth=5; total time=   0.0s\n",
            "[CV] END gbc__criterion=friedman_mse, gbc__loss=log_loss, gbc__max_depth=5; total time=   0.0s\n",
            "[CV] END gbc__criterion=friedman_mse, gbc__loss=log_loss, gbc__max_depth=5; total time=   0.0s\n",
            "[CV] END gbc__criterion=friedman_mse, gbc__loss=log_loss, gbc__max_depth=5; total time=   0.0s\n",
            "[CV] END gbc__criterion=friedman_mse, gbc__loss=log_loss, gbc__max_depth=5; total time=   0.0s\n",
            "[CV] END gbc__criterion=friedman_mse, gbc__loss=log_loss, gbc__max_depth=5; total time=   0.0s\n",
            "[CV] END gbc__criterion=friedman_mse, gbc__loss=log_loss, gbc__max_depth=5; total time=   0.0s\n",
            "[CV] END gbc__criterion=friedman_mse, gbc__loss=log_loss, gbc__max_depth=5; total time=   0.0s\n",
            "[CV] END gbc__criterion=friedman_mse, gbc__loss=deviance, gbc__max_depth=1; total time=   3.4s\n",
            "[CV] END gbc__criterion=friedman_mse, gbc__loss=deviance, gbc__max_depth=1; total time=   3.4s\n",
            "[CV] END gbc__criterion=friedman_mse, gbc__loss=deviance, gbc__max_depth=1; total time=   3.4s\n",
            "[CV] END gbc__criterion=friedman_mse, gbc__loss=deviance, gbc__max_depth=1; total time=   3.4s\n",
            "[CV] END gbc__criterion=friedman_mse, gbc__loss=deviance, gbc__max_depth=1; total time=   3.4s\n",
            "[CV] END gbc__criterion=friedman_mse, gbc__loss=deviance, gbc__max_depth=1; total time=   3.4s\n",
            "[CV] END gbc__criterion=friedman_mse, gbc__loss=deviance, gbc__max_depth=1; total time=   3.4s\n",
            "[CV] END gbc__criterion=friedman_mse, gbc__loss=deviance, gbc__max_depth=1; total time=   3.4s\n",
            "[CV] END gbc__criterion=friedman_mse, gbc__loss=deviance, gbc__max_depth=1; total time=   3.4s\n",
            "[CV] END gbc__criterion=friedman_mse, gbc__loss=deviance, gbc__max_depth=1; total time=   3.4s\n",
            "[CV] END gbc__criterion=friedman_mse, gbc__loss=deviance, gbc__max_depth=3; total time=   9.8s\n",
            "[CV] END gbc__criterion=friedman_mse, gbc__loss=deviance, gbc__max_depth=3; total time=   9.8s\n",
            "[CV] END gbc__criterion=friedman_mse, gbc__loss=deviance, gbc__max_depth=3; total time=   9.9s\n",
            "[CV] END gbc__criterion=friedman_mse, gbc__loss=deviance, gbc__max_depth=3; total time=   9.8s\n",
            "[CV] END gbc__criterion=friedman_mse, gbc__loss=deviance, gbc__max_depth=3; total time=   9.8s\n",
            "[CV] END gbc__criterion=friedman_mse, gbc__loss=deviance, gbc__max_depth=3; total time=   9.8s\n",
            "[CV] END gbc__criterion=friedman_mse, gbc__loss=deviance, gbc__max_depth=3; total time=   9.8s\n",
            "[CV] END gbc__criterion=friedman_mse, gbc__loss=deviance, gbc__max_depth=3; total time=   9.8s\n",
            "[CV] END gbc__criterion=friedman_mse, gbc__loss=deviance, gbc__max_depth=3; total time=   9.9s\n",
            "[CV] END gbc__criterion=friedman_mse, gbc__loss=deviance, gbc__max_depth=3; total time=   9.9s\n",
            "[CV] END gbc__criterion=friedman_mse, gbc__loss=deviance, gbc__max_depth=5; total time=  16.3s\n",
            "[CV] END gbc__criterion=friedman_mse, gbc__loss=deviance, gbc__max_depth=5; total time=  16.1s\n",
            "[CV] END gbc__criterion=friedman_mse, gbc__loss=deviance, gbc__max_depth=5; total time=  16.0s\n",
            "[CV] END gbc__criterion=friedman_mse, gbc__loss=deviance, gbc__max_depth=5; total time=  16.1s\n",
            "[CV] END gbc__criterion=friedman_mse, gbc__loss=deviance, gbc__max_depth=5; total time=  16.1s\n",
            "[CV] END gbc__criterion=friedman_mse, gbc__loss=deviance, gbc__max_depth=5; total time=  16.0s\n",
            "[CV] END gbc__criterion=friedman_mse, gbc__loss=deviance, gbc__max_depth=5; total time=  15.9s\n",
            "[CV] END gbc__criterion=friedman_mse, gbc__loss=deviance, gbc__max_depth=5; total time=  16.0s\n",
            "[CV] END gbc__criterion=friedman_mse, gbc__loss=deviance, gbc__max_depth=5; total time=  16.1s\n",
            "[CV] END gbc__criterion=friedman_mse, gbc__loss=deviance, gbc__max_depth=5; total time=  16.0s\n",
            "[CV] END gbc__criterion=friedman_mse, gbc__loss=exponential, gbc__max_depth=1; total time=   3.4s\n",
            "[CV] END gbc__criterion=friedman_mse, gbc__loss=exponential, gbc__max_depth=1; total time=   3.4s\n",
            "[CV] END gbc__criterion=friedman_mse, gbc__loss=exponential, gbc__max_depth=1; total time=   3.4s\n",
            "[CV] END gbc__criterion=friedman_mse, gbc__loss=exponential, gbc__max_depth=1; total time=   3.4s\n",
            "[CV] END gbc__criterion=friedman_mse, gbc__loss=exponential, gbc__max_depth=1; total time=   3.4s\n",
            "[CV] END gbc__criterion=friedman_mse, gbc__loss=exponential, gbc__max_depth=1; total time=   3.3s\n",
            "[CV] END gbc__criterion=friedman_mse, gbc__loss=exponential, gbc__max_depth=1; total time=   3.3s\n",
            "[CV] END gbc__criterion=friedman_mse, gbc__loss=exponential, gbc__max_depth=1; total time=   3.4s\n",
            "[CV] END gbc__criterion=friedman_mse, gbc__loss=exponential, gbc__max_depth=1; total time=   3.3s\n",
            "[CV] END gbc__criterion=friedman_mse, gbc__loss=exponential, gbc__max_depth=1; total time=   3.4s\n",
            "[CV] END gbc__criterion=friedman_mse, gbc__loss=exponential, gbc__max_depth=3; total time=   9.7s\n",
            "[CV] END gbc__criterion=friedman_mse, gbc__loss=exponential, gbc__max_depth=3; total time=   9.6s\n",
            "[CV] END gbc__criterion=friedman_mse, gbc__loss=exponential, gbc__max_depth=3; total time=   9.7s\n",
            "[CV] END gbc__criterion=friedman_mse, gbc__loss=exponential, gbc__max_depth=3; total time=   9.7s\n",
            "[CV] END gbc__criterion=friedman_mse, gbc__loss=exponential, gbc__max_depth=3; total time=   9.7s\n",
            "[CV] END gbc__criterion=friedman_mse, gbc__loss=exponential, gbc__max_depth=3; total time=   9.9s\n",
            "[CV] END gbc__criterion=friedman_mse, gbc__loss=exponential, gbc__max_depth=3; total time=   9.8s\n",
            "[CV] END gbc__criterion=friedman_mse, gbc__loss=exponential, gbc__max_depth=3; total time=   9.7s\n",
            "[CV] END gbc__criterion=friedman_mse, gbc__loss=exponential, gbc__max_depth=3; total time=   9.8s\n",
            "[CV] END gbc__criterion=friedman_mse, gbc__loss=exponential, gbc__max_depth=3; total time=   9.8s\n",
            "[CV] END gbc__criterion=friedman_mse, gbc__loss=exponential, gbc__max_depth=5; total time=  15.9s\n",
            "[CV] END gbc__criterion=friedman_mse, gbc__loss=exponential, gbc__max_depth=5; total time=  16.0s\n",
            "[CV] END gbc__criterion=friedman_mse, gbc__loss=exponential, gbc__max_depth=5; total time=  16.0s\n",
            "[CV] END gbc__criterion=friedman_mse, gbc__loss=exponential, gbc__max_depth=5; total time=  16.2s\n",
            "[CV] END gbc__criterion=friedman_mse, gbc__loss=exponential, gbc__max_depth=5; total time=  16.0s\n",
            "[CV] END gbc__criterion=friedman_mse, gbc__loss=exponential, gbc__max_depth=5; total time=  16.0s\n",
            "[CV] END gbc__criterion=friedman_mse, gbc__loss=exponential, gbc__max_depth=5; total time=  16.0s\n",
            "[CV] END gbc__criterion=friedman_mse, gbc__loss=exponential, gbc__max_depth=5; total time=  16.1s\n",
            "[CV] END gbc__criterion=friedman_mse, gbc__loss=exponential, gbc__max_depth=5; total time=  15.9s\n",
            "[CV] END gbc__criterion=friedman_mse, gbc__loss=exponential, gbc__max_depth=5; total time=  15.9s\n",
            "[CV] END gbc__criterion=squared_error, gbc__loss=log_loss, gbc__max_depth=1; total time=   0.0s\n",
            "[CV] END gbc__criterion=squared_error, gbc__loss=log_loss, gbc__max_depth=1; total time=   0.0s\n",
            "[CV] END gbc__criterion=squared_error, gbc__loss=log_loss, gbc__max_depth=1; total time=   0.0s\n",
            "[CV] END gbc__criterion=squared_error, gbc__loss=log_loss, gbc__max_depth=1; total time=   0.0s\n",
            "[CV] END gbc__criterion=squared_error, gbc__loss=log_loss, gbc__max_depth=1; total time=   0.0s\n",
            "[CV] END gbc__criterion=squared_error, gbc__loss=log_loss, gbc__max_depth=1; total time=   0.0s\n",
            "[CV] END gbc__criterion=squared_error, gbc__loss=log_loss, gbc__max_depth=1; total time=   0.0s\n",
            "[CV] END gbc__criterion=squared_error, gbc__loss=log_loss, gbc__max_depth=1; total time=   0.0s\n",
            "[CV] END gbc__criterion=squared_error, gbc__loss=log_loss, gbc__max_depth=1; total time=   0.0s\n",
            "[CV] END gbc__criterion=squared_error, gbc__loss=log_loss, gbc__max_depth=1; total time=   0.0s\n",
            "[CV] END gbc__criterion=squared_error, gbc__loss=log_loss, gbc__max_depth=3; total time=   0.0s\n",
            "[CV] END gbc__criterion=squared_error, gbc__loss=log_loss, gbc__max_depth=3; total time=   0.0s\n",
            "[CV] END gbc__criterion=squared_error, gbc__loss=log_loss, gbc__max_depth=3; total time=   0.0s\n",
            "[CV] END gbc__criterion=squared_error, gbc__loss=log_loss, gbc__max_depth=3; total time=   0.0s\n",
            "[CV] END gbc__criterion=squared_error, gbc__loss=log_loss, gbc__max_depth=3; total time=   0.0s\n",
            "[CV] END gbc__criterion=squared_error, gbc__loss=log_loss, gbc__max_depth=3; total time=   0.0s\n",
            "[CV] END gbc__criterion=squared_error, gbc__loss=log_loss, gbc__max_depth=3; total time=   0.0s\n",
            "[CV] END gbc__criterion=squared_error, gbc__loss=log_loss, gbc__max_depth=3; total time=   0.0s\n",
            "[CV] END gbc__criterion=squared_error, gbc__loss=log_loss, gbc__max_depth=3; total time=   0.0s\n",
            "[CV] END gbc__criterion=squared_error, gbc__loss=log_loss, gbc__max_depth=3; total time=   0.0s\n",
            "[CV] END gbc__criterion=squared_error, gbc__loss=log_loss, gbc__max_depth=5; total time=   0.0s\n",
            "[CV] END gbc__criterion=squared_error, gbc__loss=log_loss, gbc__max_depth=5; total time=   0.0s\n",
            "[CV] END gbc__criterion=squared_error, gbc__loss=log_loss, gbc__max_depth=5; total time=   0.0s\n",
            "[CV] END gbc__criterion=squared_error, gbc__loss=log_loss, gbc__max_depth=5; total time=   0.0s\n",
            "[CV] END gbc__criterion=squared_error, gbc__loss=log_loss, gbc__max_depth=5; total time=   0.0s\n",
            "[CV] END gbc__criterion=squared_error, gbc__loss=log_loss, gbc__max_depth=5; total time=   0.0s\n",
            "[CV] END gbc__criterion=squared_error, gbc__loss=log_loss, gbc__max_depth=5; total time=   0.0s\n",
            "[CV] END gbc__criterion=squared_error, gbc__loss=log_loss, gbc__max_depth=5; total time=   0.0s\n",
            "[CV] END gbc__criterion=squared_error, gbc__loss=log_loss, gbc__max_depth=5; total time=   0.0s\n",
            "[CV] END gbc__criterion=squared_error, gbc__loss=log_loss, gbc__max_depth=5; total time=   0.0s\n",
            "[CV] END gbc__criterion=squared_error, gbc__loss=deviance, gbc__max_depth=1; total time=   3.3s\n",
            "[CV] END gbc__criterion=squared_error, gbc__loss=deviance, gbc__max_depth=1; total time=   3.3s\n",
            "[CV] END gbc__criterion=squared_error, gbc__loss=deviance, gbc__max_depth=1; total time=   3.4s\n",
            "[CV] END gbc__criterion=squared_error, gbc__loss=deviance, gbc__max_depth=1; total time=   3.4s\n",
            "[CV] END gbc__criterion=squared_error, gbc__loss=deviance, gbc__max_depth=1; total time=   3.4s\n",
            "[CV] END gbc__criterion=squared_error, gbc__loss=deviance, gbc__max_depth=1; total time=   3.3s\n",
            "[CV] END gbc__criterion=squared_error, gbc__loss=deviance, gbc__max_depth=1; total time=   3.4s\n",
            "[CV] END gbc__criterion=squared_error, gbc__loss=deviance, gbc__max_depth=1; total time=   3.4s\n",
            "[CV] END gbc__criterion=squared_error, gbc__loss=deviance, gbc__max_depth=1; total time=   3.4s\n",
            "[CV] END gbc__criterion=squared_error, gbc__loss=deviance, gbc__max_depth=1; total time=   3.4s\n",
            "[CV] END gbc__criterion=squared_error, gbc__loss=deviance, gbc__max_depth=3; total time=   9.8s\n",
            "[CV] END gbc__criterion=squared_error, gbc__loss=deviance, gbc__max_depth=3; total time=   9.8s\n",
            "[CV] END gbc__criterion=squared_error, gbc__loss=deviance, gbc__max_depth=3; total time=   9.7s\n",
            "[CV] END gbc__criterion=squared_error, gbc__loss=deviance, gbc__max_depth=3; total time=   9.7s\n",
            "[CV] END gbc__criterion=squared_error, gbc__loss=deviance, gbc__max_depth=3; total time=   9.8s\n",
            "[CV] END gbc__criterion=squared_error, gbc__loss=deviance, gbc__max_depth=3; total time=   9.8s\n",
            "[CV] END gbc__criterion=squared_error, gbc__loss=deviance, gbc__max_depth=3; total time=   9.7s\n",
            "[CV] END gbc__criterion=squared_error, gbc__loss=deviance, gbc__max_depth=3; total time=   9.8s\n",
            "[CV] END gbc__criterion=squared_error, gbc__loss=deviance, gbc__max_depth=3; total time=   9.8s\n",
            "[CV] END gbc__criterion=squared_error, gbc__loss=deviance, gbc__max_depth=3; total time=   9.7s\n",
            "[CV] END gbc__criterion=squared_error, gbc__loss=deviance, gbc__max_depth=5; total time=  16.1s\n",
            "[CV] END gbc__criterion=squared_error, gbc__loss=deviance, gbc__max_depth=5; total time=  15.9s\n",
            "[CV] END gbc__criterion=squared_error, gbc__loss=deviance, gbc__max_depth=5; total time=  16.0s\n",
            "[CV] END gbc__criterion=squared_error, gbc__loss=deviance, gbc__max_depth=5; total time=  15.9s\n",
            "[CV] END gbc__criterion=squared_error, gbc__loss=deviance, gbc__max_depth=5; total time=  15.9s\n",
            "[CV] END gbc__criterion=squared_error, gbc__loss=deviance, gbc__max_depth=5; total time=  16.0s\n",
            "[CV] END gbc__criterion=squared_error, gbc__loss=deviance, gbc__max_depth=5; total time=  16.0s\n",
            "[CV] END gbc__criterion=squared_error, gbc__loss=deviance, gbc__max_depth=5; total time=  15.9s\n",
            "[CV] END gbc__criterion=squared_error, gbc__loss=deviance, gbc__max_depth=5; total time=  16.0s\n",
            "[CV] END gbc__criterion=squared_error, gbc__loss=deviance, gbc__max_depth=5; total time=  15.9s\n",
            "[CV] END gbc__criterion=squared_error, gbc__loss=exponential, gbc__max_depth=1; total time=   3.4s\n",
            "[CV] END gbc__criterion=squared_error, gbc__loss=exponential, gbc__max_depth=1; total time=   3.4s\n",
            "[CV] END gbc__criterion=squared_error, gbc__loss=exponential, gbc__max_depth=1; total time=   3.4s\n",
            "[CV] END gbc__criterion=squared_error, gbc__loss=exponential, gbc__max_depth=1; total time=   3.4s\n",
            "[CV] END gbc__criterion=squared_error, gbc__loss=exponential, gbc__max_depth=1; total time=   3.4s\n",
            "[CV] END gbc__criterion=squared_error, gbc__loss=exponential, gbc__max_depth=1; total time=   3.4s\n",
            "[CV] END gbc__criterion=squared_error, gbc__loss=exponential, gbc__max_depth=1; total time=   3.4s\n",
            "[CV] END gbc__criterion=squared_error, gbc__loss=exponential, gbc__max_depth=1; total time=   3.3s\n",
            "[CV] END gbc__criterion=squared_error, gbc__loss=exponential, gbc__max_depth=1; total time=   3.4s\n",
            "[CV] END gbc__criterion=squared_error, gbc__loss=exponential, gbc__max_depth=1; total time=   3.3s\n",
            "[CV] END gbc__criterion=squared_error, gbc__loss=exponential, gbc__max_depth=3; total time=   9.6s\n",
            "[CV] END gbc__criterion=squared_error, gbc__loss=exponential, gbc__max_depth=3; total time=   9.7s\n",
            "[CV] END gbc__criterion=squared_error, gbc__loss=exponential, gbc__max_depth=3; total time=   9.6s\n",
            "[CV] END gbc__criterion=squared_error, gbc__loss=exponential, gbc__max_depth=3; total time=   9.7s\n",
            "[CV] END gbc__criterion=squared_error, gbc__loss=exponential, gbc__max_depth=3; total time=   9.6s\n",
            "[CV] END gbc__criterion=squared_error, gbc__loss=exponential, gbc__max_depth=3; total time=   9.7s\n",
            "[CV] END gbc__criterion=squared_error, gbc__loss=exponential, gbc__max_depth=3; total time=   9.6s\n",
            "[CV] END gbc__criterion=squared_error, gbc__loss=exponential, gbc__max_depth=3; total time=   9.7s\n",
            "[CV] END gbc__criterion=squared_error, gbc__loss=exponential, gbc__max_depth=3; total time=   9.7s\n",
            "[CV] END gbc__criterion=squared_error, gbc__loss=exponential, gbc__max_depth=3; total time=   9.7s\n",
            "[CV] END gbc__criterion=squared_error, gbc__loss=exponential, gbc__max_depth=5; total time=  16.0s\n",
            "[CV] END gbc__criterion=squared_error, gbc__loss=exponential, gbc__max_depth=5; total time=  16.0s\n",
            "[CV] END gbc__criterion=squared_error, gbc__loss=exponential, gbc__max_depth=5; total time=  16.0s\n",
            "[CV] END gbc__criterion=squared_error, gbc__loss=exponential, gbc__max_depth=5; total time=  15.8s\n",
            "[CV] END gbc__criterion=squared_error, gbc__loss=exponential, gbc__max_depth=5; total time=  15.9s\n",
            "[CV] END gbc__criterion=squared_error, gbc__loss=exponential, gbc__max_depth=5; total time=  15.9s\n",
            "[CV] END gbc__criterion=squared_error, gbc__loss=exponential, gbc__max_depth=5; total time=  15.9s\n",
            "[CV] END gbc__criterion=squared_error, gbc__loss=exponential, gbc__max_depth=5; total time=  16.1s\n",
            "[CV] END gbc__criterion=squared_error, gbc__loss=exponential, gbc__max_depth=5; total time=  16.0s\n",
            "[CV] END gbc__criterion=squared_error, gbc__loss=exponential, gbc__max_depth=5; total time=  16.0s\n"
          ]
        },
        {
          "output_type": "stream",
          "name": "stderr",
          "text": [
            "/usr/local/lib/python3.8/dist-packages/sklearn/model_selection/_validation.py:372: FitFailedWarning: \n",
            "60 fits failed out of a total of 180.\n",
            "The score on these train-test partitions for these parameters will be set to nan.\n",
            "If these failures are not expected, you can try to debug them by setting error_score='raise'.\n",
            "\n",
            "Below are more details about the failures:\n",
            "--------------------------------------------------------------------------------\n",
            "60 fits failed with the following error:\n",
            "Traceback (most recent call last):\n",
            "  File \"/usr/local/lib/python3.8/dist-packages/sklearn/model_selection/_validation.py\", line 680, in _fit_and_score\n",
            "    estimator.fit(X_train, y_train, **fit_params)\n",
            "  File \"/usr/local/lib/python3.8/dist-packages/sklearn/pipeline.py\", line 394, in fit\n",
            "    self._final_estimator.fit(Xt, y, **fit_params_last_step)\n",
            "  File \"/usr/local/lib/python3.8/dist-packages/sklearn/ensemble/_gb.py\", line 525, in fit\n",
            "    self._check_params()\n",
            "  File \"/usr/local/lib/python3.8/dist-packages/sklearn/ensemble/_gb.py\", line 282, in _check_params\n",
            "    raise ValueError(\"Loss '{0:s}' not supported. \".format(self.loss))\n",
            "ValueError: Loss 'log_loss' not supported. \n",
            "\n",
            "  warnings.warn(some_fits_failed_message, FitFailedWarning)\n",
            "/usr/local/lib/python3.8/dist-packages/sklearn/model_selection/_search.py:969: UserWarning: One or more of the test scores are non-finite: [       nan        nan        nan 0.97110542 0.9686941  0.97132184\n",
            " 0.97132328 0.97132136 0.97110446        nan        nan        nan\n",
            " 0.97110542 0.9686941  0.97000845 0.97132328 0.97132136 0.97132328]\n",
            "  warnings.warn(\n"
          ]
        },
        {
          "output_type": "execute_result",
          "data": {
            "text/plain": [
              "GridSearchCV(cv=10,\n",
              "             estimator=Pipeline(steps=[('gbc',\n",
              "                                        GradientBoostingClassifier(random_state=42))]),\n",
              "             param_grid={'gbc__criterion': ['friedman_mse', 'squared_error'],\n",
              "                         'gbc__loss': ['log_loss', 'deviance', 'exponential'],\n",
              "                         'gbc__max_depth': [1, 3, 5]},\n",
              "             verbose=2)"
            ]
          },
          "metadata": {},
          "execution_count": 46
        }
      ]
    },
    {
      "cell_type": "code",
      "source": [
        "gs_gbc.best_params_"
      ],
      "metadata": {
        "colab": {
          "base_uri": "https://localhost:8080/"
        },
        "id": "u9aIGaWt0MqY",
        "outputId": "56bd96aa-6420-4db2-a84b-4eb658f5c7bf"
      },
      "execution_count": 47,
      "outputs": [
        {
          "output_type": "execute_result",
          "data": {
            "text/plain": [
              "{'gbc__criterion': 'friedman_mse',\n",
              " 'gbc__loss': 'exponential',\n",
              " 'gbc__max_depth': 1}"
            ]
          },
          "metadata": {},
          "execution_count": 47
        }
      ]
    },
    {
      "cell_type": "code",
      "source": [
        "gs_gbc_score_train = gs_gbc.best_score_\n",
        "gs_gbc_score_train"
      ],
      "metadata": {
        "colab": {
          "base_uri": "https://localhost:8080/"
        },
        "id": "TVt2T1mm0Muh",
        "outputId": "b35059df-fe54-451c-9be3-80201f313869"
      },
      "execution_count": 48,
      "outputs": [
        {
          "output_type": "execute_result",
          "data": {
            "text/plain": [
              "0.971323275365657"
            ]
          },
          "metadata": {},
          "execution_count": 48
        }
      ]
    },
    {
      "cell_type": "code",
      "source": [
        "# Validate with testing data:\n",
        "gs_gbc_score_test = gs_gbc.best_estimator_.score(X_test, y_test)\n",
        "gs_gbc_score_test"
      ],
      "metadata": {
        "colab": {
          "base_uri": "https://localhost:8080/"
        },
        "id": "KZNTmYOKxMdi",
        "outputId": "67b5a500-455d-4128-fa73-55b6831f3f51"
      },
      "execution_count": 49,
      "outputs": [
        {
          "output_type": "execute_result",
          "data": {
            "text/plain": [
              "0.9649044868947134"
            ]
          },
          "metadata": {},
          "execution_count": 49
        }
      ]
    },
    {
      "cell_type": "code",
      "source": [
        "# Plot confusion_matrix on training data:\n",
        "matrix_train_model6 = plot_confusion_matrix(gs_gbc, X_train, y_train);\n",
        "cf_matrix_train_list.append(matrix_train_model6)\n",
        "\n",
        "# Plot confusion_matrix on testing data:\n",
        "matrix_test_model6 = plot_confusion_matrix(gs_gbc, X_test, y_test);\n",
        "cf_matrix_test_list.append(matrix_test_model6)\n",
        "\n",
        "# Print 4 scores on training data:\n",
        "y_hat_train = gs_gbc.predict(X_train)\n",
        "add_4scores_train('model6')\n",
        "print_4scores_train('model6')\n",
        "\n",
        "# Print 4 scores on testing data:\n",
        "y_hat_test = gs_gbc.predict(X_test)\n",
        "add_4scores_test('model6')\n",
        "print_4scores_test('model6')\n",
        "\n",
        "# calculate miss_rate:\n",
        "modle6_miss_rate = get_miss_rate(gs_gbc)\n",
        "miss_rate_list.append(modle6_miss_rate)"
      ],
      "metadata": {
        "colab": {
          "base_uri": "https://localhost:8080/",
          "height": 943
        },
        "id": "v5c3jWXt519P",
        "outputId": "679f605e-87c0-4b06-c73b-4189b228680e"
      },
      "execution_count": 50,
      "outputs": [
        {
          "output_type": "stream",
          "name": "stderr",
          "text": [
            "/usr/local/lib/python3.8/dist-packages/sklearn/utils/deprecation.py:87: FutureWarning: Function plot_confusion_matrix is deprecated; Function `plot_confusion_matrix` is deprecated in 1.0 and will be removed in 1.2. Use one of the class methods: ConfusionMatrixDisplay.from_predictions or ConfusionMatrixDisplay.from_estimator.\n",
            "  warnings.warn(msg, category=FutureWarning)\n",
            "/usr/local/lib/python3.8/dist-packages/sklearn/utils/deprecation.py:87: FutureWarning: Function plot_confusion_matrix is deprecated; Function `plot_confusion_matrix` is deprecated in 1.0 and will be removed in 1.2. Use one of the class methods: ConfusionMatrixDisplay.from_predictions or ConfusionMatrixDisplay.from_estimator.\n",
            "  warnings.warn(msg, category=FutureWarning)\n"
          ]
        },
        {
          "output_type": "stream",
          "name": "stdout",
          "text": [
            "\n",
            "The model's accuracy on the train set is 0.9726 \n",
            "\n",
            "The model's recall on the train set is 0.1655 \n",
            "\n",
            "The model's precision on the train set is 0.7188 \n",
            "\n",
            "The model's f1-score on the train is 0.269\n",
            "\n",
            "\n",
            "The model's accuracy on the test set is 0.9649 \n",
            "\n",
            "The model's recall on the test set is 0.0988 \n",
            "\n",
            "The model's precision on the test set is 0.5714 \n",
            "\n",
            "The model's f1-score on the test is 0.1684\n",
            "\n"
          ]
        },
        {
          "output_type": "display_data",
          "data": {
            "text/plain": [
              "<Figure size 432x288 with 2 Axes>"
            ],
            "image/png": "[encoded data removed]"
          },
          "metadata": {
            "needs_background": "light"
          }
        },
        {
          "output_type": "display_data",
          "data": {
            "text/plain": [
              "<Figure size 432x288 with 2 Axes>"
            ],
            "image/png": "[encoded data removed]"
          },
          "metadata": {
            "needs_background": "light"
          }
        }
      ]
    },
    {
      "cell_type": "markdown",
      "source": [
        "### Finding\n",
        "Traing F1 score is getting better but the testing F1 score is not getting better. "
      ],
      "metadata": {
        "id": "0KyB9UFg62TS"
      }
    },
    {
      "cell_type": "markdown",
      "source": [
        "## Model 7 - Tuning and Cross-validating: Decision Tree Model"
      ],
      "metadata": {
        "id": "l6ioNtDI4Aus"
      }
    },
    {
      "cell_type": "code",
      "source": [
        "# Set up pipeline:\n",
        "dtc_pipe = Pipeline([('dtc', DecisionTreeClassifier(random_state=42))])\n",
        "dtc_pipe"
      ],
      "metadata": {
        "colab": {
          "base_uri": "https://localhost:8080/"
        },
        "id": "My5KFxuVxMnn",
        "outputId": "d0650bd4-4949-43bb-f319-1fec219194ed"
      },
      "execution_count": 51,
      "outputs": [
        {
          "output_type": "execute_result",
          "data": {
            "text/plain": [
              "Pipeline(steps=[('dtc', DecisionTreeClassifier(random_state=42))])"
            ]
          },
          "metadata": {},
          "execution_count": 51
        }
      ]
    },
    {
      "cell_type": "code",
      "source": [
        "# Set up parameters:\n",
        "params = {\n",
        "        'dtc__criterion':['gini', 'entropy', 'log_loss'],\n",
        "        'dtc__splitter':['best', 'random'],\n",
        "        'dtc__max_depth':[1, 3, 5]\n",
        "}\n",
        "\n",
        "# Set up GridSearchCV and fit training data:\n",
        "gs_dtc = GridSearchCV(estimator=dtc_pipe, param_grid=params, cv=10, verbose=2)\n",
        "\n",
        "gs_dtc.fit(X_train, y_train)"
      ],
      "metadata": {
        "colab": {
          "base_uri": "https://localhost:8080/"
        },
        "id": "p8BzpIs7390d",
        "outputId": "0df7453b-be9f-40b3-a169-4b17442f8c15"
      },
      "execution_count": 52,
      "outputs": [
        {
          "output_type": "stream",
          "name": "stdout",
          "text": [
            "Fitting 10 folds for each of 18 candidates, totalling 180 fits\n",
            "[CV] END dtc__criterion=gini, dtc__max_depth=1, dtc__splitter=best; total time=   0.1s\n",
            "[CV] END dtc__criterion=gini, dtc__max_depth=1, dtc__splitter=best; total time=   0.0s\n",
            "[CV] END dtc__criterion=gini, dtc__max_depth=1, dtc__splitter=best; total time=   0.0s\n",
            "[CV] END dtc__criterion=gini, dtc__max_depth=1, dtc__splitter=best; total time=   0.1s\n",
            "[CV] END dtc__criterion=gini, dtc__max_depth=1, dtc__splitter=best; total time=   0.0s\n",
            "[CV] END dtc__criterion=gini, dtc__max_depth=1, dtc__splitter=best; total time=   0.0s\n",
            "[CV] END dtc__criterion=gini, dtc__max_depth=1, dtc__splitter=best; total time=   0.0s\n",
            "[CV] END dtc__criterion=gini, dtc__max_depth=1, dtc__splitter=best; total time=   0.0s\n",
            "[CV] END dtc__criterion=gini, dtc__max_depth=1, dtc__splitter=best; total time=   0.1s\n",
            "[CV] END dtc__criterion=gini, dtc__max_depth=1, dtc__splitter=best; total time=   0.1s\n",
            "[CV] END dtc__criterion=gini, dtc__max_depth=1, dtc__splitter=random; total time=   0.0s\n",
            "[CV] END dtc__criterion=gini, dtc__max_depth=1, dtc__splitter=random; total time=   0.0s\n",
            "[CV] END dtc__criterion=gini, dtc__max_depth=1, dtc__splitter=random; total time=   0.0s\n",
            "[CV] END dtc__criterion=gini, dtc__max_depth=1, dtc__splitter=random; total time=   0.0s\n",
            "[CV] END dtc__criterion=gini, dtc__max_depth=1, dtc__splitter=random; total time=   0.0s\n",
            "[CV] END dtc__criterion=gini, dtc__max_depth=1, dtc__splitter=random; total time=   0.0s\n",
            "[CV] END dtc__criterion=gini, dtc__max_depth=1, dtc__splitter=random; total time=   0.0s\n",
            "[CV] END dtc__criterion=gini, dtc__max_depth=1, dtc__splitter=random; total time=   0.0s\n",
            "[CV] END dtc__criterion=gini, dtc__max_depth=1, dtc__splitter=random; total time=   0.0s\n",
            "[CV] END dtc__criterion=gini, dtc__max_depth=1, dtc__splitter=random; total time=   0.0s\n",
            "[CV] END dtc__criterion=gini, dtc__max_depth=3, dtc__splitter=best; total time=   0.1s\n",
            "[CV] END dtc__criterion=gini, dtc__max_depth=3, dtc__splitter=best; total time=   0.1s\n",
            "[CV] END dtc__criterion=gini, dtc__max_depth=3, dtc__splitter=best; total time=   0.1s\n",
            "[CV] END dtc__criterion=gini, dtc__max_depth=3, dtc__splitter=best; total time=   0.1s\n",
            "[CV] END dtc__criterion=gini, dtc__max_depth=3, dtc__splitter=best; total time=   0.1s\n",
            "[CV] END dtc__criterion=gini, dtc__max_depth=3, dtc__splitter=best; total time=   0.1s\n",
            "[CV] END dtc__criterion=gini, dtc__max_depth=3, dtc__splitter=best; total time=   0.1s\n",
            "[CV] END dtc__criterion=gini, dtc__max_depth=3, dtc__splitter=best; total time=   0.1s\n",
            "[CV] END dtc__criterion=gini, dtc__max_depth=3, dtc__splitter=best; total time=   0.1s\n",
            "[CV] END dtc__criterion=gini, dtc__max_depth=3, dtc__splitter=best; total time=   0.1s\n",
            "[CV] END dtc__criterion=gini, dtc__max_depth=3, dtc__splitter=random; total time=   0.0s\n",
            "[CV] END dtc__criterion=gini, dtc__max_depth=3, dtc__splitter=random; total time=   0.0s\n",
            "[CV] END dtc__criterion=gini, dtc__max_depth=3, dtc__splitter=random; total time=   0.0s\n",
            "[CV] END dtc__criterion=gini, dtc__max_depth=3, dtc__splitter=random; total time=   0.0s\n",
            "[CV] END dtc__criterion=gini, dtc__max_depth=3, dtc__splitter=random; total time=   0.0s\n",
            "[CV] END dtc__criterion=gini, dtc__max_depth=3, dtc__splitter=random; total time=   0.0s\n",
            "[CV] END dtc__criterion=gini, dtc__max_depth=3, dtc__splitter=random; total time=   0.0s\n",
            "[CV] END dtc__criterion=gini, dtc__max_depth=3, dtc__splitter=random; total time=   0.0s\n",
            "[CV] END dtc__criterion=gini, dtc__max_depth=3, dtc__splitter=random; total time=   0.0s\n",
            "[CV] END dtc__criterion=gini, dtc__max_depth=3, dtc__splitter=random; total time=   0.0s\n",
            "[CV] END dtc__criterion=gini, dtc__max_depth=5, dtc__splitter=best; total time=   0.2s\n",
            "[CV] END dtc__criterion=gini, dtc__max_depth=5, dtc__splitter=best; total time=   0.2s\n",
            "[CV] END dtc__criterion=gini, dtc__max_depth=5, dtc__splitter=best; total time=   0.2s\n",
            "[CV] END dtc__criterion=gini, dtc__max_depth=5, dtc__splitter=best; total time=   0.2s\n",
            "[CV] END dtc__criterion=gini, dtc__max_depth=5, dtc__splitter=best; total time=   0.2s\n",
            "[CV] END dtc__criterion=gini, dtc__max_depth=5, dtc__splitter=best; total time=   0.2s\n",
            "[CV] END dtc__criterion=gini, dtc__max_depth=5, dtc__splitter=best; total time=   0.2s\n",
            "[CV] END dtc__criterion=gini, dtc__max_depth=5, dtc__splitter=best; total time=   0.2s\n",
            "[CV] END dtc__criterion=gini, dtc__max_depth=5, dtc__splitter=best; total time=   0.2s\n",
            "[CV] END dtc__criterion=gini, dtc__max_depth=5, dtc__splitter=best; total time=   0.2s\n",
            "[CV] END dtc__criterion=gini, dtc__max_depth=5, dtc__splitter=random; total time=   0.0s\n",
            "[CV] END dtc__criterion=gini, dtc__max_depth=5, dtc__splitter=random; total time=   0.0s\n",
            "[CV] END dtc__criterion=gini, dtc__max_depth=5, dtc__splitter=random; total time=   0.0s\n",
            "[CV] END dtc__criterion=gini, dtc__max_depth=5, dtc__splitter=random; total time=   0.0s\n",
            "[CV] END dtc__criterion=gini, dtc__max_depth=5, dtc__splitter=random; total time=   0.0s\n",
            "[CV] END dtc__criterion=gini, dtc__max_depth=5, dtc__splitter=random; total time=   0.0s\n",
            "[CV] END dtc__criterion=gini, dtc__max_depth=5, dtc__splitter=random; total time=   0.0s\n",
            "[CV] END dtc__criterion=gini, dtc__max_depth=5, dtc__splitter=random; total time=   0.0s\n",
            "[CV] END dtc__criterion=gini, dtc__max_depth=5, dtc__splitter=random; total time=   0.0s\n",
            "[CV] END dtc__criterion=gini, dtc__max_depth=5, dtc__splitter=random; total time=   0.0s\n",
            "[CV] END dtc__criterion=entropy, dtc__max_depth=1, dtc__splitter=best; total time=   0.1s\n",
            "[CV] END dtc__criterion=entropy, dtc__max_depth=1, dtc__splitter=best; total time=   0.1s\n",
            "[CV] END dtc__criterion=entropy, dtc__max_depth=1, dtc__splitter=best; total time=   0.1s\n",
            "[CV] END dtc__criterion=entropy, dtc__max_depth=1, dtc__splitter=best; total time=   0.1s\n",
            "[CV] END dtc__criterion=entropy, dtc__max_depth=1, dtc__splitter=best; total time=   0.1s\n",
            "[CV] END dtc__criterion=entropy, dtc__max_depth=1, dtc__splitter=best; total time=   0.1s\n",
            "[CV] END dtc__criterion=entropy, dtc__max_depth=1, dtc__splitter=best; total time=   0.1s\n",
            "[CV] END dtc__criterion=entropy, dtc__max_depth=1, dtc__splitter=best; total time=   0.1s\n",
            "[CV] END dtc__criterion=entropy, dtc__max_depth=1, dtc__splitter=best; total time=   0.1s\n",
            "[CV] END dtc__criterion=entropy, dtc__max_depth=1, dtc__splitter=best; total time=   0.1s\n",
            "[CV] END dtc__criterion=entropy, dtc__max_depth=1, dtc__splitter=random; total time=   0.0s\n",
            "[CV] END dtc__criterion=entropy, dtc__max_depth=1, dtc__splitter=random; total time=   0.0s\n",
            "[CV] END dtc__criterion=entropy, dtc__max_depth=1, dtc__splitter=random; total time=   0.0s\n",
            "[CV] END dtc__criterion=entropy, dtc__max_depth=1, dtc__splitter=random; total time=   0.0s\n",
            "[CV] END dtc__criterion=entropy, dtc__max_depth=1, dtc__splitter=random; total time=   0.0s\n",
            "[CV] END dtc__criterion=entropy, dtc__max_depth=1, dtc__splitter=random; total time=   0.0s\n",
            "[CV] END dtc__criterion=entropy, dtc__max_depth=1, dtc__splitter=random; total time=   0.0s\n",
            "[CV] END dtc__criterion=entropy, dtc__max_depth=1, dtc__splitter=random; total time=   0.0s\n",
            "[CV] END dtc__criterion=entropy, dtc__max_depth=1, dtc__splitter=random; total time=   0.0s\n",
            "[CV] END dtc__criterion=entropy, dtc__max_depth=1, dtc__splitter=random; total time=   0.0s\n",
            "[CV] END dtc__criterion=entropy, dtc__max_depth=3, dtc__splitter=best; total time=   0.2s\n",
            "[CV] END dtc__criterion=entropy, dtc__max_depth=3, dtc__splitter=best; total time=   0.2s\n",
            "[CV] END dtc__criterion=entropy, dtc__max_depth=3, dtc__splitter=best; total time=   0.2s\n",
            "[CV] END dtc__criterion=entropy, dtc__max_depth=3, dtc__splitter=best; total time=   0.2s\n",
            "[CV] END dtc__criterion=entropy, dtc__max_depth=3, dtc__splitter=best; total time=   0.2s\n",
            "[CV] END dtc__criterion=entropy, dtc__max_depth=3, dtc__splitter=best; total time=   0.2s\n",
            "[CV] END dtc__criterion=entropy, dtc__max_depth=3, dtc__splitter=best; total time=   0.2s\n",
            "[CV] END dtc__criterion=entropy, dtc__max_depth=3, dtc__splitter=best; total time=   0.2s\n",
            "[CV] END dtc__criterion=entropy, dtc__max_depth=3, dtc__splitter=best; total time=   0.2s\n",
            "[CV] END dtc__criterion=entropy, dtc__max_depth=3, dtc__splitter=best; total time=   0.2s\n",
            "[CV] END dtc__criterion=entropy, dtc__max_depth=3, dtc__splitter=random; total time=   0.0s\n",
            "[CV] END dtc__criterion=entropy, dtc__max_depth=3, dtc__splitter=random; total time=   0.0s\n",
            "[CV] END dtc__criterion=entropy, dtc__max_depth=3, dtc__splitter=random; total time=   0.0s\n",
            "[CV] END dtc__criterion=entropy, dtc__max_depth=3, dtc__splitter=random; total time=   0.0s\n",
            "[CV] END dtc__criterion=entropy, dtc__max_depth=3, dtc__splitter=random; total time=   0.0s\n",
            "[CV] END dtc__criterion=entropy, dtc__max_depth=3, dtc__splitter=random; total time=   0.0s\n",
            "[CV] END dtc__criterion=entropy, dtc__max_depth=3, dtc__splitter=random; total time=   0.0s\n",
            "[CV] END dtc__criterion=entropy, dtc__max_depth=3, dtc__splitter=random; total time=   0.0s\n",
            "[CV] END dtc__criterion=entropy, dtc__max_depth=3, dtc__splitter=random; total time=   0.0s\n",
            "[CV] END dtc__criterion=entropy, dtc__max_depth=3, dtc__splitter=random; total time=   0.0s\n",
            "[CV] END dtc__criterion=entropy, dtc__max_depth=5, dtc__splitter=best; total time=   0.3s\n",
            "[CV] END dtc__criterion=entropy, dtc__max_depth=5, dtc__splitter=best; total time=   0.2s\n",
            "[CV] END dtc__criterion=entropy, dtc__max_depth=5, dtc__splitter=best; total time=   0.3s\n",
            "[CV] END dtc__criterion=entropy, dtc__max_depth=5, dtc__splitter=best; total time=   0.3s\n",
            "[CV] END dtc__criterion=entropy, dtc__max_depth=5, dtc__splitter=best; total time=   0.3s\n",
            "[CV] END dtc__criterion=entropy, dtc__max_depth=5, dtc__splitter=best; total time=   0.3s\n",
            "[CV] END dtc__criterion=entropy, dtc__max_depth=5, dtc__splitter=best; total time=   0.2s\n",
            "[CV] END dtc__criterion=entropy, dtc__max_depth=5, dtc__splitter=best; total time=   0.3s\n",
            "[CV] END dtc__criterion=entropy, dtc__max_depth=5, dtc__splitter=best; total time=   0.3s\n",
            "[CV] END dtc__criterion=entropy, dtc__max_depth=5, dtc__splitter=best; total time=   0.3s\n",
            "[CV] END dtc__criterion=entropy, dtc__max_depth=5, dtc__splitter=random; total time=   0.0s\n",
            "[CV] END dtc__criterion=entropy, dtc__max_depth=5, dtc__splitter=random; total time=   0.0s\n",
            "[CV] END dtc__criterion=entropy, dtc__max_depth=5, dtc__splitter=random; total time=   0.0s\n",
            "[CV] END dtc__criterion=entropy, dtc__max_depth=5, dtc__splitter=random; total time=   0.0s\n",
            "[CV] END dtc__criterion=entropy, dtc__max_depth=5, dtc__splitter=random; total time=   0.0s\n",
            "[CV] END dtc__criterion=entropy, dtc__max_depth=5, dtc__splitter=random; total time=   0.0s\n",
            "[CV] END dtc__criterion=entropy, dtc__max_depth=5, dtc__splitter=random; total time=   0.0s\n",
            "[CV] END dtc__criterion=entropy, dtc__max_depth=5, dtc__splitter=random; total time=   0.0s\n",
            "[CV] END dtc__criterion=entropy, dtc__max_depth=5, dtc__splitter=random; total time=   0.0s\n",
            "[CV] END dtc__criterion=entropy, dtc__max_depth=5, dtc__splitter=random; total time=   0.0s\n",
            "[CV] END dtc__criterion=log_loss, dtc__max_depth=1, dtc__splitter=best; total time=   0.0s\n",
            "[CV] END dtc__criterion=log_loss, dtc__max_depth=1, dtc__splitter=best; total time=   0.0s\n",
            "[CV] END dtc__criterion=log_loss, dtc__max_depth=1, dtc__splitter=best; total time=   0.0s\n",
            "[CV] END dtc__criterion=log_loss, dtc__max_depth=1, dtc__splitter=best; total time=   0.0s\n",
            "[CV] END dtc__criterion=log_loss, dtc__max_depth=1, dtc__splitter=best; total time=   0.0s\n",
            "[CV] END dtc__criterion=log_loss, dtc__max_depth=1, dtc__splitter=best; total time=   0.0s\n",
            "[CV] END dtc__criterion=log_loss, dtc__max_depth=1, dtc__splitter=best; total time=   0.0s\n",
            "[CV] END dtc__criterion=log_loss, dtc__max_depth=1, dtc__splitter=best; total time=   0.0s\n",
            "[CV] END dtc__criterion=log_loss, dtc__max_depth=1, dtc__splitter=best; total time=   0.0s\n",
            "[CV] END dtc__criterion=log_loss, dtc__max_depth=1, dtc__splitter=best; total time=   0.0s\n",
            "[CV] END dtc__criterion=log_loss, dtc__max_depth=1, dtc__splitter=random; total time=   0.0s\n",
            "[CV] END dtc__criterion=log_loss, dtc__max_depth=1, dtc__splitter=random; total time=   0.0s\n",
            "[CV] END dtc__criterion=log_loss, dtc__max_depth=1, dtc__splitter=random; total time=   0.0s\n",
            "[CV] END dtc__criterion=log_loss, dtc__max_depth=1, dtc__splitter=random; total time=   0.0s\n",
            "[CV] END dtc__criterion=log_loss, dtc__max_depth=1, dtc__splitter=random; total time=   0.0s\n",
            "[CV] END dtc__criterion=log_loss, dtc__max_depth=1, dtc__splitter=random; total time=   0.0s\n",
            "[CV] END dtc__criterion=log_loss, dtc__max_depth=1, dtc__splitter=random; total time=   0.0s\n",
            "[CV] END dtc__criterion=log_loss, dtc__max_depth=1, dtc__splitter=random; total time=   0.0s\n",
            "[CV] END dtc__criterion=log_loss, dtc__max_depth=1, dtc__splitter=random; total time=   0.0s\n",
            "[CV] END dtc__criterion=log_loss, dtc__max_depth=1, dtc__splitter=random; total time=   0.0s\n",
            "[CV] END dtc__criterion=log_loss, dtc__max_depth=3, dtc__splitter=best; total time=   0.0s\n",
            "[CV] END dtc__criterion=log_loss, dtc__max_depth=3, dtc__splitter=best; total time=   0.0s\n",
            "[CV] END dtc__criterion=log_loss, dtc__max_depth=3, dtc__splitter=best; total time=   0.0s\n",
            "[CV] END dtc__criterion=log_loss, dtc__max_depth=3, dtc__splitter=best; total time=   0.0s\n",
            "[CV] END dtc__criterion=log_loss, dtc__max_depth=3, dtc__splitter=best; total time=   0.0s\n",
            "[CV] END dtc__criterion=log_loss, dtc__max_depth=3, dtc__splitter=best; total time=   0.0s\n",
            "[CV] END dtc__criterion=log_loss, dtc__max_depth=3, dtc__splitter=best; total time=   0.0s\n",
            "[CV] END dtc__criterion=log_loss, dtc__max_depth=3, dtc__splitter=best; total time=   0.0s\n",
            "[CV] END dtc__criterion=log_loss, dtc__max_depth=3, dtc__splitter=best; total time=   0.0s\n",
            "[CV] END dtc__criterion=log_loss, dtc__max_depth=3, dtc__splitter=best; total time=   0.0s\n",
            "[CV] END dtc__criterion=log_loss, dtc__max_depth=3, dtc__splitter=random; total time=   0.0s\n",
            "[CV] END dtc__criterion=log_loss, dtc__max_depth=3, dtc__splitter=random; total time=   0.0s\n",
            "[CV] END dtc__criterion=log_loss, dtc__max_depth=3, dtc__splitter=random; total time=   0.0s\n",
            "[CV] END dtc__criterion=log_loss, dtc__max_depth=3, dtc__splitter=random; total time=   0.0s\n",
            "[CV] END dtc__criterion=log_loss, dtc__max_depth=3, dtc__splitter=random; total time=   0.0s\n",
            "[CV] END dtc__criterion=log_loss, dtc__max_depth=3, dtc__splitter=random; total time=   0.0s\n",
            "[CV] END dtc__criterion=log_loss, dtc__max_depth=3, dtc__splitter=random; total time=   0.0s\n",
            "[CV] END dtc__criterion=log_loss, dtc__max_depth=3, dtc__splitter=random; total time=   0.0s\n",
            "[CV] END dtc__criterion=log_loss, dtc__max_depth=3, dtc__splitter=random; total time=   0.0s\n",
            "[CV] END dtc__criterion=log_loss, dtc__max_depth=3, dtc__splitter=random; total time=   0.0s\n",
            "[CV] END dtc__criterion=log_loss, dtc__max_depth=5, dtc__splitter=best; total time=   0.0s\n",
            "[CV] END dtc__criterion=log_loss, dtc__max_depth=5, dtc__splitter=best; total time=   0.0s\n",
            "[CV] END dtc__criterion=log_loss, dtc__max_depth=5, dtc__splitter=best; total time=   0.0s\n",
            "[CV] END dtc__criterion=log_loss, dtc__max_depth=5, dtc__splitter=best; total time=   0.0s\n",
            "[CV] END dtc__criterion=log_loss, dtc__max_depth=5, dtc__splitter=best; total time=   0.0s\n",
            "[CV] END dtc__criterion=log_loss, dtc__max_depth=5, dtc__splitter=best; total time=   0.0s\n",
            "[CV] END dtc__criterion=log_loss, dtc__max_depth=5, dtc__splitter=best; total time=   0.0s\n",
            "[CV] END dtc__criterion=log_loss, dtc__max_depth=5, dtc__splitter=best; total time=   0.0s\n",
            "[CV] END dtc__criterion=log_loss, dtc__max_depth=5, dtc__splitter=best; total time=   0.0s\n",
            "[CV] END dtc__criterion=log_loss, dtc__max_depth=5, dtc__splitter=best; total time=   0.0s\n",
            "[CV] END dtc__criterion=log_loss, dtc__max_depth=5, dtc__splitter=random; total time=   0.0s\n",
            "[CV] END dtc__criterion=log_loss, dtc__max_depth=5, dtc__splitter=random; total time=   0.0s\n",
            "[CV] END dtc__criterion=log_loss, dtc__max_depth=5, dtc__splitter=random; total time=   0.0s\n",
            "[CV] END dtc__criterion=log_loss, dtc__max_depth=5, dtc__splitter=random; total time=   0.0s\n",
            "[CV] END dtc__criterion=log_loss, dtc__max_depth=5, dtc__splitter=random; total time=   0.0s\n",
            "[CV] END dtc__criterion=log_loss, dtc__max_depth=5, dtc__splitter=random; total time=   0.0s\n",
            "[CV] END dtc__criterion=log_loss, dtc__max_depth=5, dtc__splitter=random; total time=   0.0s\n",
            "[CV] END dtc__criterion=log_loss, dtc__max_depth=5, dtc__splitter=random; total time=   0.0s\n",
            "[CV] END dtc__criterion=log_loss, dtc__max_depth=5, dtc__splitter=random; total time=   0.0s\n",
            "[CV] END dtc__criterion=log_loss, dtc__max_depth=5, dtc__splitter=random; total time=   0.0s\n"
          ]
        },
        {
          "output_type": "stream",
          "name": "stderr",
          "text": [
            "/usr/local/lib/python3.8/dist-packages/sklearn/model_selection/_validation.py:372: FitFailedWarning: \n",
            "60 fits failed out of a total of 180.\n",
            "The score on these train-test partitions for these parameters will be set to nan.\n",
            "If these failures are not expected, you can try to debug them by setting error_score='raise'.\n",
            "\n",
            "Below are more details about the failures:\n",
            "--------------------------------------------------------------------------------\n",
            "60 fits failed with the following error:\n",
            "Traceback (most recent call last):\n",
            "  File \"/usr/local/lib/python3.8/dist-packages/sklearn/model_selection/_validation.py\", line 680, in _fit_and_score\n",
            "    estimator.fit(X_train, y_train, **fit_params)\n",
            "  File \"/usr/local/lib/python3.8/dist-packages/sklearn/pipeline.py\", line 394, in fit\n",
            "    self._final_estimator.fit(Xt, y, **fit_params_last_step)\n",
            "  File \"/usr/local/lib/python3.8/dist-packages/sklearn/tree/_classes.py\", line 937, in fit\n",
            "    super().fit(\n",
            "  File \"/usr/local/lib/python3.8/dist-packages/sklearn/tree/_classes.py\", line 352, in fit\n",
            "    criterion = CRITERIA_CLF[self.criterion](\n",
            "KeyError: 'log_loss'\n",
            "\n",
            "  warnings.warn(some_fits_failed_message, FitFailedWarning)\n",
            "/usr/local/lib/python3.8/dist-packages/sklearn/model_selection/_search.py:969: UserWarning: One or more of the test scores are non-finite: [0.96978867 0.96978963 0.97088276 0.97000797 0.96891339 0.96781882\n",
            " 0.96957129 0.96957129 0.96760096 0.96935151 0.96956985 0.96606732\n",
            "        nan        nan        nan        nan        nan        nan]\n",
            "  warnings.warn(\n"
          ]
        },
        {
          "output_type": "execute_result",
          "data": {
            "text/plain": [
              "GridSearchCV(cv=10,\n",
              "             estimator=Pipeline(steps=[('dtc',\n",
              "                                        DecisionTreeClassifier(random_state=42))]),\n",
              "             param_grid={'dtc__criterion': ['gini', 'entropy', 'log_loss'],\n",
              "                         'dtc__max_depth': [1, 3, 5],\n",
              "                         'dtc__splitter': ['best', 'random']},\n",
              "             verbose=2)"
            ]
          },
          "metadata": {},
          "execution_count": 52
        }
      ]
    },
    {
      "cell_type": "code",
      "source": [
        "gs_dtc.best_params_"
      ],
      "metadata": {
        "colab": {
          "base_uri": "https://localhost:8080/"
        },
        "id": "-QeC-Ntd395a",
        "outputId": "d61fcded-5c23-4ffb-8878-06fb423226ef"
      },
      "execution_count": 53,
      "outputs": [
        {
          "output_type": "execute_result",
          "data": {
            "text/plain": [
              "{'dtc__criterion': 'gini', 'dtc__max_depth': 3, 'dtc__splitter': 'best'}"
            ]
          },
          "metadata": {},
          "execution_count": 53
        }
      ]
    },
    {
      "cell_type": "code",
      "source": [
        "gs_dtc_score_train = gs_dtc.best_score_\n",
        "gs_dtc_score_train"
      ],
      "metadata": {
        "colab": {
          "base_uri": "https://localhost:8080/"
        },
        "id": "bmkwOLiv7Kcr",
        "outputId": "6df61624-6003-4084-ca10-edad0b8d9974"
      },
      "execution_count": 54,
      "outputs": [
        {
          "output_type": "execute_result",
          "data": {
            "text/plain": [
              "0.9708827594149486"
            ]
          },
          "metadata": {},
          "execution_count": 54
        }
      ]
    },
    {
      "cell_type": "code",
      "source": [
        "# Validate with testing data:\n",
        "gs_dtc_score_test = gs_dtc.best_estimator_.score(X_test, y_test)\n",
        "gs_dtc_score_test"
      ],
      "metadata": {
        "colab": {
          "base_uri": "https://localhost:8080/"
        },
        "id": "QaG5nqKd7LCE",
        "outputId": "a7564cbb-11b5-4a78-b645-23c8d689d99d"
      },
      "execution_count": 55,
      "outputs": [
        {
          "output_type": "execute_result",
          "data": {
            "text/plain": [
              "0.962239004886717"
            ]
          },
          "metadata": {},
          "execution_count": 55
        }
      ]
    },
    {
      "cell_type": "code",
      "source": [
        "# Plot confusion_matrix on training data:\n",
        "matrix_train_model7 = plot_confusion_matrix(gs_dtc, X_train, y_train);\n",
        "cf_matrix_train_list.append(matrix_train_model7)\n",
        "\n",
        "# Plot confusion_matrix on testing data:\n",
        "matrix_test_model7 = plot_confusion_matrix(gs_dtc, X_test, y_test);\n",
        "cf_matrix_test_list.append(matrix_test_model7)\n",
        "\n",
        "# Print 4 scores on training data:\n",
        "y_hat_train = gs_dtc.predict(X_train)\n",
        "add_4scores_train('model7')\n",
        "print_4scores_train('model7')\n",
        "\n",
        "# Print 4 scores on testing data:\n",
        "y_hat_test = gs_dtc.predict(X_test)\n",
        "add_4scores_test('model7')\n",
        "print_4scores_test('model7')\n",
        "\n",
        "# calculate miss_rate:\n",
        "modle7_miss_rate = get_miss_rate(gs_dtc)\n",
        "miss_rate_list.append(modle7_miss_rate)"
      ],
      "metadata": {
        "colab": {
          "base_uri": "https://localhost:8080/",
          "height": 943
        },
        "id": "Kj7Tj1wX7LH6",
        "outputId": "8adc4642-d8f8-47b2-eb18-d5fbde3564c4"
      },
      "execution_count": 56,
      "outputs": [
        {
          "output_type": "stream",
          "name": "stderr",
          "text": [
            "/usr/local/lib/python3.8/dist-packages/sklearn/utils/deprecation.py:87: FutureWarning: Function plot_confusion_matrix is deprecated; Function `plot_confusion_matrix` is deprecated in 1.0 and will be removed in 1.2. Use one of the class methods: ConfusionMatrixDisplay.from_predictions or ConfusionMatrixDisplay.from_estimator.\n",
            "  warnings.warn(msg, category=FutureWarning)\n",
            "/usr/local/lib/python3.8/dist-packages/sklearn/utils/deprecation.py:87: FutureWarning: Function plot_confusion_matrix is deprecated; Function `plot_confusion_matrix` is deprecated in 1.0 and will be removed in 1.2. Use one of the class methods: ConfusionMatrixDisplay.from_predictions or ConfusionMatrixDisplay.from_estimator.\n",
            "  warnings.warn(msg, category=FutureWarning)\n"
          ]
        },
        {
          "output_type": "stream",
          "name": "stdout",
          "text": [
            "\n",
            "The model's accuracy on the train set is 0.9757 \n",
            "\n",
            "The model's recall on the train set is 0.3022 \n",
            "\n",
            "The model's precision on the train set is 0.75 \n",
            "\n",
            "The model's f1-score on the train is 0.4308\n",
            "\n",
            "\n",
            "The model's accuracy on the test set is 0.9622 \n",
            "\n",
            "The model's recall on the test set is 0.1975 \n",
            "\n",
            "The model's precision on the test set is 0.4444 \n",
            "\n",
            "The model's f1-score on the test is 0.2735\n",
            "\n"
          ]
        },
        {
          "output_type": "display_data",
          "data": {
            "text/plain": [
              "<Figure size 432x288 with 2 Axes>"
            ],
            "image/png": "[encoded data removed]"
          },
          "metadata": {
            "needs_background": "light"
          }
        },
        {
          "output_type": "display_data",
          "data": {
            "text/plain": [
              "<Figure size 432x288 with 2 Axes>"
            ],
            "image/png": "[encoded data removed]"
          },
          "metadata": {
            "needs_background": "light"
          }
        }
      ]
    },
    {
      "cell_type": "markdown",
      "source": [
        "### Finding\n",
        "This is worst than original Decision Tree Model."
      ],
      "metadata": {
        "id": "AsTwK4rx76XQ"
      }
    },
    {
      "cell_type": "markdown",
      "source": [
        "## Imbalance Pipeline\n",
        "The target is imblanced, will use SMOTE."
      ],
      "metadata": {
        "id": "97p6J1_b8GOu"
      }
    },
    {
      "cell_type": "markdown",
      "source": [
        "## Model 8 - SMOTE (sampling_strategy='auto') and Gradient Booster Model"
      ],
      "metadata": {
        "id": "Z_OGdbQ38f5f"
      }
    },
    {
      "cell_type": "code",
      "source": [
        "# imbpipe!\n",
        "\n",
        "imb_pipe= ImPipeline(steps=[\n",
        "    ('sm',SMOTE(random_state=42)),\n",
        "    ('gbc',GradientBoostingClassifier(criterion='friedman_mse', loss='exponential', max_depth=3)),\n",
        "])\n",
        "\n",
        "imb_pipe.fit(X_train, y_train)"
      ],
      "metadata": {
        "colab": {
          "base_uri": "https://localhost:8080/"
        },
        "id": "kkhD1B7Q7LML",
        "outputId": "b2a43690-1a89-45ec-c921-7321ad689e2f"
      },
      "execution_count": 57,
      "outputs": [
        {
          "output_type": "execute_result",
          "data": {
            "text/plain": [
              "Pipeline(steps=[('sm', SMOTE(random_state=42)),\n",
              "                ('gbc', GradientBoostingClassifier(loss='exponential'))])"
            ]
          },
          "metadata": {},
          "execution_count": 57
        }
      ]
    },
    {
      "cell_type": "code",
      "source": [
        "imbGBC_score_train = imb_pipe.score(X_train, y_train)\n",
        "imbGBC_score_train"
      ],
      "metadata": {
        "colab": {
          "base_uri": "https://localhost:8080/"
        },
        "id": "fIF2gE2l7LPk",
        "outputId": "07db77c5-3ae4-486b-d16c-0e4adfdf7704"
      },
      "execution_count": 58,
      "outputs": [
        {
          "output_type": "execute_result",
          "data": {
            "text/plain": [
              "0.9610332749562172"
            ]
          },
          "metadata": {},
          "execution_count": 58
        }
      ]
    },
    {
      "cell_type": "code",
      "source": [
        "# Validate with testing data:\n",
        "imbGBC_score_test = imb_pipe.score(X_test, y_test)\n",
        "imbGBC_score_test"
      ],
      "metadata": {
        "colab": {
          "base_uri": "https://localhost:8080/"
        },
        "id": "8ru5TKPA39-q",
        "outputId": "751ac05b-2870-4d26-c02e-1f89ba4734e7"
      },
      "execution_count": 59,
      "outputs": [
        {
          "output_type": "execute_result",
          "data": {
            "text/plain": [
              "0.9369169258107508"
            ]
          },
          "metadata": {},
          "execution_count": 59
        }
      ]
    },
    {
      "cell_type": "code",
      "source": [
        "# Plot confusion_matrix on training data:\n",
        "matrix_train_model8 = plot_confusion_matrix(imb_pipe, X_train, y_train);\n",
        "cf_matrix_train_list.append(matrix_train_model8)\n",
        "\n",
        "# Plot confusion_matrix on testing data:\n",
        "matrix_test_model8 = plot_confusion_matrix(imb_pipe, X_test, y_test);\n",
        "cf_matrix_test_list.append(matrix_test_model8)\n",
        "\n",
        "# Print 4 scores on training data:\n",
        "y_hat_train = imb_pipe.predict(X_train)\n",
        "add_4scores_train('model8')\n",
        "print_4scores_train('model8')\n",
        "\n",
        "# Print 4 scores on testing data:\n",
        "y_hat_test = imb_pipe.predict(X_test)\n",
        "add_4scores_test('model8')\n",
        "print_4scores_test('model8')\n",
        "\n",
        "# calculate miss_rate:\n",
        "modle8_miss_rate = get_miss_rate(imb_pipe)\n",
        "miss_rate_list.append(modle8_miss_rate)"
      ],
      "metadata": {
        "colab": {
          "base_uri": "https://localhost:8080/",
          "height": 943
        },
        "id": "9-Jm01R9-OhF",
        "outputId": "1c9684e5-4b1e-4c13-ffaa-ffdd9bef24f4"
      },
      "execution_count": 60,
      "outputs": [
        {
          "output_type": "stream",
          "name": "stderr",
          "text": [
            "/usr/local/lib/python3.8/dist-packages/sklearn/utils/deprecation.py:87: FutureWarning: Function plot_confusion_matrix is deprecated; Function `plot_confusion_matrix` is deprecated in 1.0 and will be removed in 1.2. Use one of the class methods: ConfusionMatrixDisplay.from_predictions or ConfusionMatrixDisplay.from_estimator.\n",
            "  warnings.warn(msg, category=FutureWarning)\n",
            "/usr/local/lib/python3.8/dist-packages/sklearn/utils/deprecation.py:87: FutureWarning: Function plot_confusion_matrix is deprecated; Function `plot_confusion_matrix` is deprecated in 1.0 and will be removed in 1.2. Use one of the class methods: ConfusionMatrixDisplay.from_predictions or ConfusionMatrixDisplay.from_estimator.\n",
            "  warnings.warn(msg, category=FutureWarning)\n"
          ]
        },
        {
          "output_type": "stream",
          "name": "stdout",
          "text": [
            "\n",
            "The model's accuracy on the train set is 0.961 \n",
            "\n",
            "The model's recall on the train set is 0.9353 \n",
            "\n",
            "The model's precision on the train set is 0.4348 \n",
            "\n",
            "The model's f1-score on the train is 0.5936\n",
            "\n",
            "\n",
            "The model's accuracy on the test set is 0.9369 \n",
            "\n",
            "The model's recall on the test set is 0.6667 \n",
            "\n",
            "The model's precision on the test set is 0.3195 \n",
            "\n",
            "The model's f1-score on the test is 0.432\n",
            "\n"
          ]
        },
        {
          "output_type": "display_data",
          "data": {
            "text/plain": [
              "<Figure size 432x288 with 2 Axes>"
            ],
            "image/png": "[encoded data removed]"
          },
          "metadata": {
            "needs_background": "light"
          }
        },
        {
          "output_type": "display_data",
          "data": {
            "text/plain": [
              "<Figure size 432x288 with 2 Axes>"
            ],
            "image/png": "[encoded data removed]"
          },
          "metadata": {
            "needs_background": "light"
          }
        }
      ]
    },
    {
      "cell_type": "markdown",
      "source": [
        "### Finding\n",
        "Testing F1 score is getting better but not ideal. Try to change the SMOTE sampling_strategy from 'auto' to 0.8. "
      ],
      "metadata": {
        "id": "W5SrhQcd-t8t"
      }
    },
    {
      "cell_type": "markdown",
      "source": [
        "## Model 9 - SMOTE (sampling_strategy=0.8) and Gradient Booster Model"
      ],
      "metadata": {
        "id": "j_7BHIdT_xOf"
      }
    },
    {
      "cell_type": "code",
      "source": [
        "# imbpipe!\n",
        "\n",
        "imb_pipe80= ImPipeline(steps=[\n",
        "    ('sm',SMOTE(random_state=42, sampling_strategy=0.8)),\n",
        "    ('gbc',GradientBoostingClassifier(criterion='friedman_mse', loss='exponential', max_depth=3)),\n",
        "])\n",
        "\n",
        "imb_pipe80.fit(X_train, y_train)"
      ],
      "metadata": {
        "colab": {
          "base_uri": "https://localhost:8080/"
        },
        "id": "MnEFc73b-dJG",
        "outputId": "3242b17a-e0a8-49e6-e433-8c1bd85f172b"
      },
      "execution_count": 61,
      "outputs": [
        {
          "output_type": "execute_result",
          "data": {
            "text/plain": [
              "Pipeline(steps=[('sm', SMOTE(random_state=42, sampling_strategy=0.8)),\n",
              "                ('gbc', GradientBoostingClassifier(loss='exponential'))])"
            ]
          },
          "metadata": {},
          "execution_count": 61
        }
      ]
    },
    {
      "cell_type": "code",
      "source": [
        "imbGBC80_score_train = imb_pipe80.score(X_train, y_train)\n",
        "imbGBC80_score_train"
      ],
      "metadata": {
        "colab": {
          "base_uri": "https://localhost:8080/"
        },
        "id": "Cbl7afjOAFlo",
        "outputId": "2b7c7b97-b287-40fa-bdc8-fba9c1c383a7"
      },
      "execution_count": 62,
      "outputs": [
        {
          "output_type": "execute_result",
          "data": {
            "text/plain": [
              "0.9673817863397548"
            ]
          },
          "metadata": {},
          "execution_count": 62
        }
      ]
    },
    {
      "cell_type": "code",
      "source": [
        "imbGBC80_score_test = imb_pipe80.score(X_test, y_test)\n",
        "imbGBC80_score_test"
      ],
      "metadata": {
        "colab": {
          "base_uri": "https://localhost:8080/"
        },
        "id": "sDz-PMJaAFpC",
        "outputId": "4944195c-259b-4cd2-f56a-18d1c7d93625"
      },
      "execution_count": 63,
      "outputs": [
        {
          "output_type": "execute_result",
          "data": {
            "text/plain": [
              "0.9395824078187472"
            ]
          },
          "metadata": {},
          "execution_count": 63
        }
      ]
    },
    {
      "cell_type": "code",
      "source": [
        "# Plot confusion_matrix on training data:\n",
        "matrix_train_model9 = plot_confusion_matrix(imb_pipe80, X_train, y_train);\n",
        "cf_matrix_train_list.append(matrix_train_model9)\n",
        "\n",
        "# Plot confusion_matrix on testing data:\n",
        "matrix_test_model9 = plot_confusion_matrix(imb_pipe80, X_test, y_test);\n",
        "cf_matrix_test_list.append(matrix_test_model9)\n",
        "\n",
        "# Print 4 scores on training data:\n",
        "y_hat_train = imb_pipe80.predict(X_train)\n",
        "add_4scores_train('model9')\n",
        "print_4scores_train('model9')\n",
        "\n",
        "# Print 4 scores on testing data:\n",
        "y_hat_test = imb_pipe80.predict(X_test)\n",
        "add_4scores_test('model9')\n",
        "print_4scores_test('model9')\n",
        "\n",
        "# calculate miss_rate:\n",
        "modle9_miss_rate = get_miss_rate(imb_pipe80)\n",
        "miss_rate_list.append(modle9_miss_rate)"
      ],
      "metadata": {
        "colab": {
          "base_uri": "https://localhost:8080/",
          "height": 943
        },
        "id": "y-miXQ3sAFsb",
        "outputId": "e0de0401-b093-47b5-c7e7-ca02d56735fd"
      },
      "execution_count": 64,
      "outputs": [
        {
          "output_type": "stream",
          "name": "stderr",
          "text": [
            "/usr/local/lib/python3.8/dist-packages/sklearn/utils/deprecation.py:87: FutureWarning: Function plot_confusion_matrix is deprecated; Function `plot_confusion_matrix` is deprecated in 1.0 and will be removed in 1.2. Use one of the class methods: ConfusionMatrixDisplay.from_predictions or ConfusionMatrixDisplay.from_estimator.\n",
            "  warnings.warn(msg, category=FutureWarning)\n",
            "/usr/local/lib/python3.8/dist-packages/sklearn/utils/deprecation.py:87: FutureWarning: Function plot_confusion_matrix is deprecated; Function `plot_confusion_matrix` is deprecated in 1.0 and will be removed in 1.2. Use one of the class methods: ConfusionMatrixDisplay.from_predictions or ConfusionMatrixDisplay.from_estimator.\n",
            "  warnings.warn(msg, category=FutureWarning)\n"
          ]
        },
        {
          "output_type": "stream",
          "name": "stdout",
          "text": [
            "\n",
            "The model's accuracy on the train set is 0.9674 \n",
            "\n",
            "The model's recall on the train set is 0.9281 \n",
            "\n",
            "The model's precision on the train set is 0.4813 \n",
            "\n",
            "The model's f1-score on the train is 0.6339\n",
            "\n",
            "\n",
            "The model's accuracy on the test set is 0.9396 \n",
            "\n",
            "The model's recall on the test set is 0.5802 \n",
            "\n",
            "The model's precision on the test set is 0.3154 \n",
            "\n",
            "The model's f1-score on the test is 0.4087\n",
            "\n"
          ]
        },
        {
          "output_type": "display_data",
          "data": {
            "text/plain": [
              "<Figure size 432x288 with 2 Axes>"
            ],
            "image/png": "[encoded data removed]"
          },
          "metadata": {
            "needs_background": "light"
          }
        },
        {
          "output_type": "display_data",
          "data": {
            "text/plain": [
              "<Figure size 432x288 with 2 Axes>"
            ],
            "image/png": "[encoded data removed]"
          },
          "metadata": {
            "needs_background": "light"
          }
        }
      ]
    },
    {
      "cell_type": "markdown",
      "source": [
        "### Finding\n",
        "Can't say SMOTE makes better performance by looking at the scores."
      ],
      "metadata": {
        "id": "83KAhbwjBwJm"
      }
    },
    {
      "cell_type": "markdown",
      "source": [
        "## Model 10 - SMOTE and Decision Tree Model"
      ],
      "metadata": {
        "id": "3yjq8sy7a-r8"
      }
    },
    {
      "cell_type": "code",
      "source": [
        "imb_dtc= ImPipeline(steps=[\n",
        "    ('sm',SMOTE(random_state=42, sampling_strategy='auto')),\n",
        "    ('dtc',DecisionTreeClassifier(criterion='gini', splitter='best', max_depth=3)),\n",
        "])\n",
        "\n",
        "imb_dtc.fit(X_train, y_train)"
      ],
      "metadata": {
        "colab": {
          "base_uri": "https://localhost:8080/"
        },
        "id": "dpHly0u6a8k7",
        "outputId": "3fa06a45-01e6-4ed4-d705-6a530a4ab16b"
      },
      "execution_count": 65,
      "outputs": [
        {
          "output_type": "execute_result",
          "data": {
            "text/plain": [
              "Pipeline(steps=[('sm', SMOTE(random_state=42)),\n",
              "                ('dtc', DecisionTreeClassifier(max_depth=3))])"
            ]
          },
          "metadata": {},
          "execution_count": 65
        }
      ]
    },
    {
      "cell_type": "code",
      "source": [
        "imbDTC_score_train = imb_dtc.score(X_train, y_train)\n",
        "imbDTC_score_train"
      ],
      "metadata": {
        "colab": {
          "base_uri": "https://localhost:8080/"
        },
        "id": "6TZnrn4Oa8sj",
        "outputId": "1795636d-dfc9-4381-c0d0-1880a77a2411"
      },
      "execution_count": 66,
      "outputs": [
        {
          "output_type": "execute_result",
          "data": {
            "text/plain": [
              "0.8638353765323993"
            ]
          },
          "metadata": {},
          "execution_count": 66
        }
      ]
    },
    {
      "cell_type": "code",
      "source": [
        "imbDTC_score_test = imb_dtc.score(X_test, y_test)\n",
        "imbDTC_score_test"
      ],
      "metadata": {
        "colab": {
          "base_uri": "https://localhost:8080/"
        },
        "id": "9hbZPJQDa80S",
        "outputId": "9d37b258-b669-4653-f311-6b59f55fc90a"
      },
      "execution_count": 67,
      "outputs": [
        {
          "output_type": "execute_result",
          "data": {
            "text/plain": [
              "0.850733007552199"
            ]
          },
          "metadata": {},
          "execution_count": 67
        }
      ]
    },
    {
      "cell_type": "code",
      "source": [
        "# Plot confusion_matrix on training data:\n",
        "matrix_train_model10 = plot_confusion_matrix(imb_dtc, X_train, y_train);\n",
        "cf_matrix_train_list.append(matrix_train_model10)\n",
        "\n",
        "# Plot confusion_matrix on testing data:\n",
        "matrix_test_model10 = plot_confusion_matrix(imb_dtc, X_test, y_test);\n",
        "cf_matrix_test_list.append(matrix_test_model10)\n",
        "\n",
        "# Print 4 scores on training data:\n",
        "y_hat_train = imb_dtc.predict(X_train)\n",
        "add_4scores_train('model10')\n",
        "print_4scores_train('model10')\n",
        "\n",
        "# Print 4 scores on testing data:\n",
        "y_hat_test = imb_dtc.predict(X_test)\n",
        "add_4scores_test('model10')\n",
        "print_4scores_test('model10')\n",
        "\n",
        "# calculate miss_rate:\n",
        "modle10_miss_rate = get_miss_rate(imb_dtc)\n",
        "miss_rate_list.append(modle10_miss_rate)"
      ],
      "metadata": {
        "colab": {
          "base_uri": "https://localhost:8080/",
          "height": 943
        },
        "id": "Nf5iTZe7a88S",
        "outputId": "e35ad3c3-e558-4327-d781-0c642da504d6"
      },
      "execution_count": 68,
      "outputs": [
        {
          "output_type": "stream",
          "name": "stderr",
          "text": [
            "/usr/local/lib/python3.8/dist-packages/sklearn/utils/deprecation.py:87: FutureWarning: Function plot_confusion_matrix is deprecated; Function `plot_confusion_matrix` is deprecated in 1.0 and will be removed in 1.2. Use one of the class methods: ConfusionMatrixDisplay.from_predictions or ConfusionMatrixDisplay.from_estimator.\n",
            "  warnings.warn(msg, category=FutureWarning)\n",
            "/usr/local/lib/python3.8/dist-packages/sklearn/utils/deprecation.py:87: FutureWarning: Function plot_confusion_matrix is deprecated; Function `plot_confusion_matrix` is deprecated in 1.0 and will be removed in 1.2. Use one of the class methods: ConfusionMatrixDisplay.from_predictions or ConfusionMatrixDisplay.from_estimator.\n",
            "  warnings.warn(msg, category=FutureWarning)\n"
          ]
        },
        {
          "output_type": "stream",
          "name": "stdout",
          "text": [
            "\n",
            "The model's accuracy on the train set is 0.8638 \n",
            "\n",
            "The model's recall on the train set is 0.8849 \n",
            "\n",
            "The model's precision on the train set is 0.1687 \n",
            "\n",
            "The model's f1-score on the train is 0.2834\n",
            "\n",
            "\n",
            "The model's accuracy on the test set is 0.8507 \n",
            "\n",
            "The model's recall on the test set is 0.8765 \n",
            "\n",
            "The model's precision on the test set is 0.1788 \n",
            "\n",
            "The model's f1-score on the test is 0.2971\n",
            "\n"
          ]
        },
        {
          "output_type": "display_data",
          "data": {
            "text/plain": [
              "<Figure size 432x288 with 2 Axes>"
            ],
            "image/png": "[encoded data removed]"
          },
          "metadata": {
            "needs_background": "light"
          }
        },
        {
          "output_type": "display_data",
          "data": {
            "text/plain": [
              "<Figure size 432x288 with 2 Axes>"
            ],
            "image/png": "[encoded data removed]"
          },
          "metadata": {
            "needs_background": "light"
          }
        }
      ]
    },
    {
      "cell_type": "code",
      "source": [],
      "metadata": {
        "id": "wxZwGus4a9Ex"
      },
      "execution_count": 68,
      "outputs": []
    },
    {
      "cell_type": "markdown",
      "source": [
        "## Evaluation and find the best model"
      ],
      "metadata": {
        "id": "CQfAcH8aB9O9"
      }
    },
    {
      "cell_type": "code",
      "source": [
        "# Bring the scores together from all models:\n",
        "\n",
        "model_list = ['dummy', 'logreg', 'rfc', 'gbc', 'dtc', 'gs_gbc', 'gs_dtc', 'imbGBC', 'imbGBC80', 'imbDTC']\n",
        "\n",
        "score_train_list = [] \n",
        "score_test_list = []\n",
        "\n",
        "for i in model_list:\n",
        "    score_train_list.append(eval(i+'_score_train'))\n",
        "    score_test_list.append(eval(i+'_score_test'))"
      ],
      "metadata": {
        "id": "JKW9BvreAFv1"
      },
      "execution_count": 69,
      "outputs": []
    },
    {
      "cell_type": "code",
      "source": [
        "df_score_train = pd.DataFrame (score_train_list, columns = ['score_train'], index=model_list)\n",
        "df_score_test = pd.DataFrame (score_test_list, columns = ['score_test'], index=model_list)\n",
        "df_score = pd.concat([df_score_train, df_score_test], axis=1)\n",
        "\n",
        "df_score"
      ],
      "metadata": {
        "colab": {
          "base_uri": "https://localhost:8080/",
          "height": 363
        },
        "id": "nWP_2dX_CLEd",
        "outputId": "526faf9e-b93d-4011-8bbc-415956d1d2a7"
      },
      "execution_count": 70,
      "outputs": [
        {
          "output_type": "execute_result",
          "data": {
            "text/plain": [
              "          score_train  score_test\n",
              "dummy        0.969571    0.964018\n",
              "logreg       0.964975    0.956909\n",
              "rfc          0.972417    0.962684\n",
              "gbc          0.968694    0.960907\n",
              "dtc          0.961469    0.944911\n",
              "gs_gbc       0.971323    0.964904\n",
              "gs_dtc       0.970883    0.962239\n",
              "imbGBC       0.961033    0.936917\n",
              "imbGBC80     0.967382    0.939582\n",
              "imbDTC       0.863835    0.850733"
            ],
            "text/html": [
              "\n",
              "  <div id=\"df-7aa8c887-d940-48ca-b690-c30db5b99480\">\n",
              "    <div class=\"colab-df-container\">\n",
              "      <div>\n",
              "<style scoped>\n",
              "    .dataframe tbody tr th:only-of-type {\n",
              "        vertical-align: middle;\n",
              "    }\n",
              "\n",
              "    .dataframe tbody tr th {\n",
              "        vertical-align: top;\n",
              "    }\n",
              "\n",
              "    .dataframe thead th {\n",
              "        text-align: right;\n",
              "    }\n",
              "</style>\n",
              "<table border=\"1\" class=\"dataframe\">\n",
              "  <thead>\n",
              "    <tr style=\"text-align: right;\">\n",
              "      <th></th>\n",
              "      <th>score_train</th>\n",
              "      <th>score_test</th>\n",
              "    </tr>\n",
              "  </thead>\n",
              "  <tbody>\n",
              "    <tr>\n",
              "      <th>dummy</th>\n",
              "      <td>0.969571</td>\n",
              "      <td>0.964018</td>\n",
              "    </tr>\n",
              "    <tr>\n",
              "      <th>logreg</th>\n",
              "      <td>0.964975</td>\n",
              "      <td>0.956909</td>\n",
              "    </tr>\n",
              "    <tr>\n",
              "      <th>rfc</th>\n",
              "      <td>0.972417</td>\n",
              "      <td>0.962684</td>\n",
              "    </tr>\n",
              "    <tr>\n",
              "      <th>gbc</th>\n",
              "      <td>0.968694</td>\n",
              "      <td>0.960907</td>\n",
              "    </tr>\n",
              "    <tr>\n",
              "      <th>dtc</th>\n",
              "      <td>0.961469</td>\n",
              "      <td>0.944911</td>\n",
              "    </tr>\n",
              "    <tr>\n",
              "      <th>gs_gbc</th>\n",
              "      <td>0.971323</td>\n",
              "      <td>0.964904</td>\n",
              "    </tr>\n",
              "    <tr>\n",
              "      <th>gs_dtc</th>\n",
              "      <td>0.970883</td>\n",
              "      <td>0.962239</td>\n",
              "    </tr>\n",
              "    <tr>\n",
              "      <th>imbGBC</th>\n",
              "      <td>0.961033</td>\n",
              "      <td>0.936917</td>\n",
              "    </tr>\n",
              "    <tr>\n",
              "      <th>imbGBC80</th>\n",
              "      <td>0.967382</td>\n",
              "      <td>0.939582</td>\n",
              "    </tr>\n",
              "    <tr>\n",
              "      <th>imbDTC</th>\n",
              "      <td>0.863835</td>\n",
              "      <td>0.850733</td>\n",
              "    </tr>\n",
              "  </tbody>\n",
              "</table>\n",
              "</div>\n",
              "      <button class=\"colab-df-convert\" onclick=\"convertToInteractive('df-7aa8c887-d940-48ca-b690-c30db5b99480')\"\n",
              "              title=\"Convert this dataframe to an interactive table.\"\n",
              "              style=\"display:none;\">\n",
              "        \n",
              "  <svg xmlns=\"http://www.w3.org/2000/svg\" height=\"24px\"viewBox=\"0 0 24 24\"\n",
              "       width=\"24px\">\n",
              "    <path d=\"M0 0h24v24H0V0z\" fill=\"none\"/>\n",
              "    <path d=\"M18.56 5.44l.94 2.06.94-2.06 2.06-.94-2.06-.94-.94-2.06-.94 2.06-2.06.94zm-11 1L8.5 8.5l.94-2.06 2.06-.94-2.06-.94L8.5 2.5l-.94 2.06-2.06.94zm10 10l.94 2.06.94-2.06 2.06-.94-2.06-.94-.94-2.06-.94 2.06-2.06.94z\"/><path d=\"M17.41 7.96l-1.37-1.37c-.4-.4-.92-.59-1.43-.59-.52 0-1.04.2-1.43.59L10.3 9.45l-7.72 7.72c-.78.78-.78 2.05 0 2.83L4 21.41c.39.39.9.59 1.41.59.51 0 1.02-.2 1.41-.59l7.78-7.78 2.81-2.81c.8-.78.8-2.07 0-2.86zM5.41 20L4 18.59l7.72-7.72 1.47 1.35L5.41 20z\"/>\n",
              "  </svg>\n",
              "      </button>\n",
              "      \n",
              "  <style>\n",
              "    .colab-df-container {\n",
              "      display:flex;\n",
              "      flex-wrap:wrap;\n",
              "      gap: 12px;\n",
              "    }\n",
              "\n",
              "    .colab-df-convert {\n",
              "      background-color: #E8F0FE;\n",
              "      border: none;\n",
              "      border-radius: 50%;\n",
              "      cursor: pointer;\n",
              "      display: none;\n",
              "      fill: #1967D2;\n",
              "      height: 32px;\n",
              "      padding: 0 0 0 0;\n",
              "      width: 32px;\n",
              "    }\n",
              "\n",
              "    .colab-df-convert:hover {\n",
              "      background-color: #E2EBFA;\n",
              "      box-shadow: 0px 1px 2px rgba(60, 64, 67, 0.3), 0px 1px 3px 1px rgba(60, 64, 67, 0.15);\n",
              "      fill: #174EA6;\n",
              "    }\n",
              "\n",
              "    [theme=dark] .colab-df-convert {\n",
              "      background-color: #3B4455;\n",
              "      fill: #D2E3FC;\n",
              "    }\n",
              "\n",
              "    [theme=dark] .colab-df-convert:hover {\n",
              "      background-color: #434B5C;\n",
              "      box-shadow: 0px 1px 3px 1px rgba(0, 0, 0, 0.15);\n",
              "      filter: drop-shadow(0px 1px 2px rgba(0, 0, 0, 0.3));\n",
              "      fill: #FFFFFF;\n",
              "    }\n",
              "  </style>\n",
              "\n",
              "      <script>\n",
              "        const buttonEl =\n",
              "          document.querySelector('#df-7aa8c887-d940-48ca-b690-c30db5b99480 button.colab-df-convert');\n",
              "        buttonEl.style.display =\n",
              "          google.colab.kernel.accessAllowed ? 'block' : 'none';\n",
              "\n",
              "        async function convertToInteractive(key) {\n",
              "          const element = document.querySelector('#df-7aa8c887-d940-48ca-b690-c30db5b99480');\n",
              "          const dataTable =\n",
              "            await google.colab.kernel.invokeFunction('convertToInteractive',\n",
              "                                                     [key], {});\n",
              "          if (!dataTable) return;\n",
              "\n",
              "          const docLinkHtml = 'Like what you see? Visit the ' +\n",
              "            '<a target=\"_blank\" href=https://colab.research.google.com/notebooks/data_table.ipynb>data table notebook</a>'\n",
              "            + ' to learn more about interactive tables.';\n",
              "          element.innerHTML = '';\n",
              "          dataTable['output_type'] = 'display_data';\n",
              "          await google.colab.output.renderOutput(dataTable, element);\n",
              "          const docLink = document.createElement('div');\n",
              "          docLink.innerHTML = docLinkHtml;\n",
              "          element.appendChild(docLink);\n",
              "        }\n",
              "      </script>\n",
              "    </div>\n",
              "  </div>\n",
              "  "
            ]
          },
          "metadata": {},
          "execution_count": 70
        }
      ]
    },
    {
      "cell_type": "code",
      "source": [
        "# Score DataFrame:\n",
        "\n",
        "df_score['difference'] = abs(df_score['score_test']-df_score['score_train'])\n",
        "df_score"
      ],
      "metadata": {
        "colab": {
          "base_uri": "https://localhost:8080/",
          "height": 363
        },
        "id": "QivXaTOHCLIT",
        "outputId": "3caf7d87-29e2-4f53-ed2a-00035f0eebc6"
      },
      "execution_count": 71,
      "outputs": [
        {
          "output_type": "execute_result",
          "data": {
            "text/plain": [
              "          score_train  score_test  difference\n",
              "dummy        0.969571    0.964018    0.005554\n",
              "logreg       0.964975    0.956909    0.008066\n",
              "rfc          0.972417    0.962684    0.009733\n",
              "gbc          0.968694    0.960907    0.007788\n",
              "dtc          0.961469    0.944911    0.016558\n",
              "gs_gbc       0.971323    0.964904    0.006419\n",
              "gs_dtc       0.970883    0.962239    0.008644\n",
              "imbGBC       0.961033    0.936917    0.024116\n",
              "imbGBC80     0.967382    0.939582    0.027799\n",
              "imbDTC       0.863835    0.850733    0.013102"
            ],
            "text/html": [
              "\n",
              "  <div id=\"df-8d651f4b-77ee-4b6f-9139-dc0d487011ef\">\n",
              "    <div class=\"colab-df-container\">\n",
              "      <div>\n",
              "<style scoped>\n",
              "    .dataframe tbody tr th:only-of-type {\n",
              "        vertical-align: middle;\n",
              "    }\n",
              "\n",
              "    .dataframe tbody tr th {\n",
              "        vertical-align: top;\n",
              "    }\n",
              "\n",
              "    .dataframe thead th {\n",
              "        text-align: right;\n",
              "    }\n",
              "</style>\n",
              "<table border=\"1\" class=\"dataframe\">\n",
              "  <thead>\n",
              "    <tr style=\"text-align: right;\">\n",
              "      <th></th>\n",
              "      <th>score_train</th>\n",
              "      <th>score_test</th>\n",
              "      <th>difference</th>\n",
              "    </tr>\n",
              "  </thead>\n",
              "  <tbody>\n",
              "    <tr>\n",
              "      <th>dummy</th>\n",
              "      <td>0.969571</td>\n",
              "      <td>0.964018</td>\n",
              "      <td>0.005554</td>\n",
              "    </tr>\n",
              "    <tr>\n",
              "      <th>logreg</th>\n",
              "      <td>0.964975</td>\n",
              "      <td>0.956909</td>\n",
              "      <td>0.008066</td>\n",
              "    </tr>\n",
              "    <tr>\n",
              "      <th>rfc</th>\n",
              "      <td>0.972417</td>\n",
              "      <td>0.962684</td>\n",
              "      <td>0.009733</td>\n",
              "    </tr>\n",
              "    <tr>\n",
              "      <th>gbc</th>\n",
              "      <td>0.968694</td>\n",
              "      <td>0.960907</td>\n",
              "      <td>0.007788</td>\n",
              "    </tr>\n",
              "    <tr>\n",
              "      <th>dtc</th>\n",
              "      <td>0.961469</td>\n",
              "      <td>0.944911</td>\n",
              "      <td>0.016558</td>\n",
              "    </tr>\n",
              "    <tr>\n",
              "      <th>gs_gbc</th>\n",
              "      <td>0.971323</td>\n",
              "      <td>0.964904</td>\n",
              "      <td>0.006419</td>\n",
              "    </tr>\n",
              "    <tr>\n",
              "      <th>gs_dtc</th>\n",
              "      <td>0.970883</td>\n",
              "      <td>0.962239</td>\n",
              "      <td>0.008644</td>\n",
              "    </tr>\n",
              "    <tr>\n",
              "      <th>imbGBC</th>\n",
              "      <td>0.961033</td>\n",
              "      <td>0.936917</td>\n",
              "      <td>0.024116</td>\n",
              "    </tr>\n",
              "    <tr>\n",
              "      <th>imbGBC80</th>\n",
              "      <td>0.967382</td>\n",
              "      <td>0.939582</td>\n",
              "      <td>0.027799</td>\n",
              "    </tr>\n",
              "    <tr>\n",
              "      <th>imbDTC</th>\n",
              "      <td>0.863835</td>\n",
              "      <td>0.850733</td>\n",
              "      <td>0.013102</td>\n",
              "    </tr>\n",
              "  </tbody>\n",
              "</table>\n",
              "</div>\n",
              "      <button class=\"colab-df-convert\" onclick=\"convertToInteractive('df-8d651f4b-77ee-4b6f-9139-dc0d487011ef')\"\n",
              "              title=\"Convert this dataframe to an interactive table.\"\n",
              "              style=\"display:none;\">\n",
              "        \n",
              "  <svg xmlns=\"http://www.w3.org/2000/svg\" height=\"24px\"viewBox=\"0 0 24 24\"\n",
              "       width=\"24px\">\n",
              "    <path d=\"M0 0h24v24H0V0z\" fill=\"none\"/>\n",
              "    <path d=\"M18.56 5.44l.94 2.06.94-2.06 2.06-.94-2.06-.94-.94-2.06-.94 2.06-2.06.94zm-11 1L8.5 8.5l.94-2.06 2.06-.94-2.06-.94L8.5 2.5l-.94 2.06-2.06.94zm10 10l.94 2.06.94-2.06 2.06-.94-2.06-.94-.94-2.06-.94 2.06-2.06.94z\"/><path d=\"M17.41 7.96l-1.37-1.37c-.4-.4-.92-.59-1.43-.59-.52 0-1.04.2-1.43.59L10.3 9.45l-7.72 7.72c-.78.78-.78 2.05 0 2.83L4 21.41c.39.39.9.59 1.41.59.51 0 1.02-.2 1.41-.59l7.78-7.78 2.81-2.81c.8-.78.8-2.07 0-2.86zM5.41 20L4 18.59l7.72-7.72 1.47 1.35L5.41 20z\"/>\n",
              "  </svg>\n",
              "      </button>\n",
              "      \n",
              "  <style>\n",
              "    .colab-df-container {\n",
              "      display:flex;\n",
              "      flex-wrap:wrap;\n",
              "      gap: 12px;\n",
              "    }\n",
              "\n",
              "    .colab-df-convert {\n",
              "      background-color: #E8F0FE;\n",
              "      border: none;\n",
              "      border-radius: 50%;\n",
              "      cursor: pointer;\n",
              "      display: none;\n",
              "      fill: #1967D2;\n",
              "      height: 32px;\n",
              "      padding: 0 0 0 0;\n",
              "      width: 32px;\n",
              "    }\n",
              "\n",
              "    .colab-df-convert:hover {\n",
              "      background-color: #E2EBFA;\n",
              "      box-shadow: 0px 1px 2px rgba(60, 64, 67, 0.3), 0px 1px 3px 1px rgba(60, 64, 67, 0.15);\n",
              "      fill: #174EA6;\n",
              "    }\n",
              "\n",
              "    [theme=dark] .colab-df-convert {\n",
              "      background-color: #3B4455;\n",
              "      fill: #D2E3FC;\n",
              "    }\n",
              "\n",
              "    [theme=dark] .colab-df-convert:hover {\n",
              "      background-color: #434B5C;\n",
              "      box-shadow: 0px 1px 3px 1px rgba(0, 0, 0, 0.15);\n",
              "      filter: drop-shadow(0px 1px 2px rgba(0, 0, 0, 0.3));\n",
              "      fill: #FFFFFF;\n",
              "    }\n",
              "  </style>\n",
              "\n",
              "      <script>\n",
              "        const buttonEl =\n",
              "          document.querySelector('#df-8d651f4b-77ee-4b6f-9139-dc0d487011ef button.colab-df-convert');\n",
              "        buttonEl.style.display =\n",
              "          google.colab.kernel.accessAllowed ? 'block' : 'none';\n",
              "\n",
              "        async function convertToInteractive(key) {\n",
              "          const element = document.querySelector('#df-8d651f4b-77ee-4b6f-9139-dc0d487011ef');\n",
              "          const dataTable =\n",
              "            await google.colab.kernel.invokeFunction('convertToInteractive',\n",
              "                                                     [key], {});\n",
              "          if (!dataTable) return;\n",
              "\n",
              "          const docLinkHtml = 'Like what you see? Visit the ' +\n",
              "            '<a target=\"_blank\" href=https://colab.research.google.com/notebooks/data_table.ipynb>data table notebook</a>'\n",
              "            + ' to learn more about interactive tables.';\n",
              "          element.innerHTML = '';\n",
              "          dataTable['output_type'] = 'display_data';\n",
              "          await google.colab.output.renderOutput(dataTable, element);\n",
              "          const docLink = document.createElement('div');\n",
              "          docLink.innerHTML = docLinkHtml;\n",
              "          element.appendChild(docLink);\n",
              "        }\n",
              "      </script>\n",
              "    </div>\n",
              "  </div>\n",
              "  "
            ]
          },
          "metadata": {},
          "execution_count": 71
        }
      ]
    },
    {
      "cell_type": "markdown",
      "source": [
        "### Finding\n",
        "Model 7 gs-dtc looks like the best model with high accuracy scores on both training and testing data and the smallest difference between them.  However, to make the final decision, we still need to look into other information."
      ],
      "metadata": {
        "id": "d9NR8gwJHNEj"
      }
    },
    {
      "cell_type": "markdown",
      "source": [
        "## Bring up Comfusion Matrix for models"
      ],
      "metadata": {
        "id": "qVf-XpfZIKmW"
      }
    },
    {
      "cell_type": "code",
      "source": [
        "best_model_list = [0, 1 , 2, 3, 4, 5, 6, 7, 8, 9]\n",
        "\n",
        "# Print out the confusion matrix on train data set for the best models:\n",
        "\n",
        "for i in best_model_list:\n",
        "    fig = cf_matrix_train_list[i].plot()\n",
        "    title = model_list[i]+' Confusion Matrix-Train'\n",
        "    plt.title(title)\n",
        "    plt.show();"
      ],
      "metadata": {
        "colab": {
          "base_uri": "https://localhost:8080/",
          "height": 1000
        },
        "id": "1RaSuZ5wCLLc",
        "outputId": "8b8e8ac6-1197-4ca8-d9a9-e2a1c0d8af97"
      },
      "execution_count": 72,
      "outputs": [
        {
          "output_type": "display_data",
          "data": {
            "text/plain": [
              "<Figure size 432x288 with 2 Axes>"
            ],
            "image/png": "[encoded data removed]"
          },
          "metadata": {
            "needs_background": "light"
          }
        },
        {
          "output_type": "display_data",
          "data": {
            "text/plain": [
              "<Figure size 432x288 with 2 Axes>"
            ],
            "image/png": "[encoded data removed]"
          },
          "metadata": {
            "needs_background": "light"
          }
        },
        {
          "output_type": "display_data",
          "data": {
            "text/plain": [
              "<Figure size 432x288 with 2 Axes>"
            ],
            "image/png": "[encoded data removed]"
          },
          "metadata": {
            "needs_background": "light"
          }
        },
        {
          "output_type": "display_data",
          "data": {
            "text/plain": [
              "<Figure size 432x288 with 2 Axes>"
            ],
            "image/png": "[encoded data removed]"
          },
          "metadata": {
            "needs_background": "light"
          }
        },
        {
          "output_type": "display_data",
          "data": {
            "text/plain": [
              "<Figure size 432x288 with 2 Axes>"
            ],
            "image/png": "[encoded data removed]"
          },
          "metadata": {
            "needs_background": "light"
          }
        },
        {
          "output_type": "display_data",
          "data": {
            "text/plain": [
              "<Figure size 432x288 with 2 Axes>"
            ],
            "image/png": "[encoded data removed]"
          },
          "metadata": {
            "needs_background": "light"
          }
        },
        {
          "output_type": "display_data",
          "data": {
            "text/plain": [
              "<Figure size 432x288 with 2 Axes>"
            ],
            "image/png": "[encoded data removed]"
          },
          "metadata": {
            "needs_background": "light"
          }
        },
        {
          "output_type": "display_data",
          "data": {
            "text/plain": [
              "<Figure size 432x288 with 2 Axes>"
            ],
            "image/png": "[encoded data removed]"
          },
          "metadata": {
            "needs_background": "light"
          }
        },
        {
          "output_type": "display_data",
          "data": {
            "text/plain": [
              "<Figure size 432x288 with 2 Axes>"
            ],
            "image/png": "[encoded data removed]"
          },
          "metadata": {
            "needs_background": "light"
          }
        },
        {
          "output_type": "display_data",
          "data": {
            "text/plain": [
              "<Figure size 432x288 with 2 Axes>"
            ],
            "image/png": "[encoded data removed]"
          },
          "metadata": {
            "needs_background": "light"
          }
        }
      ]
    },
    {
      "cell_type": "code",
      "source": [
        "# Print out the confusion matrix on test data set for the best models:\n",
        "\n",
        "for i in best_model_list:\n",
        "    fig = cf_matrix_test_list[i].plot()\n",
        "    title = model_list[i]+' Confusion Matrix-Test'\n",
        "    plt.title(title)\n",
        "    plt.show();"
      ],
      "metadata": {
        "colab": {
          "base_uri": "https://localhost:8080/",
          "height": 1000
        },
        "id": "XLLTcTB6IiF2",
        "outputId": "b3eb920b-c9de-49e1-c4fd-b7963a214638"
      },
      "execution_count": 73,
      "outputs": [
        {
          "output_type": "display_data",
          "data": {
            "text/plain": [
              "<Figure size 432x288 with 2 Axes>"
            ],
            "image/png": "[encoded data removed]"
          },
          "metadata": {
            "needs_background": "light"
          }
        },
        {
          "output_type": "display_data",
          "data": {
            "text/plain": [
              "<Figure size 432x288 with 2 Axes>"
            ],
            "image/png": "[encoded data removed]"
          },
          "metadata": {
            "needs_background": "light"
          }
        },
        {
          "output_type": "display_data",
          "data": {
            "text/plain": [
              "<Figure size 432x288 with 2 Axes>"
            ],
            "image/png": "[encoded data removed]"
          },
          "metadata": {
            "needs_background": "light"
          }
        },
        {
          "output_type": "display_data",
          "data": {
            "text/plain": [
              "<Figure size 432x288 with 2 Axes>"
            ],
            "image/png": "[encoded data removed]"
          },
          "metadata": {
            "needs_background": "light"
          }
        },
        {
          "output_type": "display_data",
          "data": {
            "text/plain": [
              "<Figure size 432x288 with 2 Axes>"
            ],
            "image/png": "[encoded data removed]"
          },
          "metadata": {
            "needs_background": "light"
          }
        },
        {
          "output_type": "display_data",
          "data": {
            "text/plain": [
              "<Figure size 432x288 with 2 Axes>"
            ],
            "image/png": "[encoded data removed]"
          },
          "metadata": {
            "needs_background": "light"
          }
        },
        {
          "output_type": "display_data",
          "data": {
            "text/plain": [
              "<Figure size 432x288 with 2 Axes>"
            ],
            "image/png": "[encoded data removed]"
          },
          "metadata": {
            "needs_background": "light"
          }
        },
        {
          "output_type": "display_data",
          "data": {
            "text/plain": [
              "<Figure size 432x288 with 2 Axes>"
            ],
            "image/png": "[encoded data removed]"
          },
          "metadata": {
            "needs_background": "light"
          }
        },
        {
          "output_type": "display_data",
          "data": {
            "text/plain": [
              "<Figure size 432x288 with 2 Axes>"
            ],
            "image/png": "[encoded data removed]"
          },
          "metadata": {
            "needs_background": "light"
          }
        },
        {
          "output_type": "display_data",
          "data": {
            "text/plain": [
              "<Figure size 432x288 with 2 Axes>"
            ],
            "image/png": "[encoded data removed]"
          },
          "metadata": {
            "needs_background": "light"
          }
        }
      ]
    },
    {
      "cell_type": "markdown",
      "source": [
        "### gs_gbc has the best performance in training data by looking at Confusion Matrix."
      ],
      "metadata": {
        "id": "WZjIfl3RJD1_"
      }
    },
    {
      "cell_type": "markdown",
      "source": [
        "## Review all models' scores"
      ],
      "metadata": {
        "id": "fvzrpYDrJX6v"
      }
    },
    {
      "cell_type": "code",
      "source": [
        "All4scores_train_list = [accuracy_train_dict, recall_train_dict, precision_train_dict, f1_train_dict]\n",
        "df_4scores_train = pd.DataFrame(All4scores_train_list).T\n",
        "df_4scores_train.columns = ['accuracy_train', 'recall_train', 'precision_train', 'f1_train']\n",
        "df_4scores_train"
      ],
      "metadata": {
        "colab": {
          "base_uri": "https://localhost:8080/",
          "height": 363
        },
        "id": "r6ZVnZbXIiMS",
        "outputId": "0f8b9a50-aab1-4a76-e1e0-6c25ab29591c"
      },
      "execution_count": 74,
      "outputs": [
        {
          "output_type": "execute_result",
          "data": {
            "text/plain": [
              "         accuracy_train  recall_train  precision_train  f1_train\n",
              "model1         0.969571      0.000000         0.000000  0.000000\n",
              "model2         0.966725      0.021583         0.157895  0.037975\n",
              "model3         0.999781      0.992806         1.000000  0.996390\n",
              "model4         0.995841      0.863309         1.000000  0.926641\n",
              "model5         1.000000      1.000000         1.000000  1.000000\n",
              "model6         0.972636      0.165468         0.718750  0.269006\n",
              "model7         0.975701      0.302158         0.750000  0.430769\n",
              "model8         0.961033      0.935252         0.434783  0.593607\n",
              "model9         0.967382      0.928058         0.481343  0.633907\n",
              "model10        0.863835      0.884892         0.168724  0.283410"
            ],
            "text/html": [
              "\n",
              "  <div id=\"df-ea757c78-ebde-48b8-89f5-441b9ec6f672\">\n",
              "    <div class=\"colab-df-container\">\n",
              "      <div>\n",
              "<style scoped>\n",
              "    .dataframe tbody tr th:only-of-type {\n",
              "        vertical-align: middle;\n",
              "    }\n",
              "\n",
              "    .dataframe tbody tr th {\n",
              "        vertical-align: top;\n",
              "    }\n",
              "\n",
              "    .dataframe thead th {\n",
              "        text-align: right;\n",
              "    }\n",
              "</style>\n",
              "<table border=\"1\" class=\"dataframe\">\n",
              "  <thead>\n",
              "    <tr style=\"text-align: right;\">\n",
              "      <th></th>\n",
              "      <th>accuracy_train</th>\n",
              "      <th>recall_train</th>\n",
              "      <th>precision_train</th>\n",
              "      <th>f1_train</th>\n",
              "    </tr>\n",
              "  </thead>\n",
              "  <tbody>\n",
              "    <tr>\n",
              "      <th>model1</th>\n",
              "      <td>0.969571</td>\n",
              "      <td>0.000000</td>\n",
              "      <td>0.000000</td>\n",
              "      <td>0.000000</td>\n",
              "    </tr>\n",
              "    <tr>\n",
              "      <th>model2</th>\n",
              "      <td>0.966725</td>\n",
              "      <td>0.021583</td>\n",
              "      <td>0.157895</td>\n",
              "      <td>0.037975</td>\n",
              "    </tr>\n",
              "    <tr>\n",
              "      <th>model3</th>\n",
              "      <td>0.999781</td>\n",
              "      <td>0.992806</td>\n",
              "      <td>1.000000</td>\n",
              "      <td>0.996390</td>\n",
              "    </tr>\n",
              "    <tr>\n",
              "      <th>model4</th>\n",
              "      <td>0.995841</td>\n",
              "      <td>0.863309</td>\n",
              "      <td>1.000000</td>\n",
              "      <td>0.926641</td>\n",
              "    </tr>\n",
              "    <tr>\n",
              "      <th>model5</th>\n",
              "      <td>1.000000</td>\n",
              "      <td>1.000000</td>\n",
              "      <td>1.000000</td>\n",
              "      <td>1.000000</td>\n",
              "    </tr>\n",
              "    <tr>\n",
              "      <th>model6</th>\n",
              "      <td>0.972636</td>\n",
              "      <td>0.165468</td>\n",
              "      <td>0.718750</td>\n",
              "      <td>0.269006</td>\n",
              "    </tr>\n",
              "    <tr>\n",
              "      <th>model7</th>\n",
              "      <td>0.975701</td>\n",
              "      <td>0.302158</td>\n",
              "      <td>0.750000</td>\n",
              "      <td>0.430769</td>\n",
              "    </tr>\n",
              "    <tr>\n",
              "      <th>model8</th>\n",
              "      <td>0.961033</td>\n",
              "      <td>0.935252</td>\n",
              "      <td>0.434783</td>\n",
              "      <td>0.593607</td>\n",
              "    </tr>\n",
              "    <tr>\n",
              "      <th>model9</th>\n",
              "      <td>0.967382</td>\n",
              "      <td>0.928058</td>\n",
              "      <td>0.481343</td>\n",
              "      <td>0.633907</td>\n",
              "    </tr>\n",
              "    <tr>\n",
              "      <th>model10</th>\n",
              "      <td>0.863835</td>\n",
              "      <td>0.884892</td>\n",
              "      <td>0.168724</td>\n",
              "      <td>0.283410</td>\n",
              "    </tr>\n",
              "  </tbody>\n",
              "</table>\n",
              "</div>\n",
              "      <button class=\"colab-df-convert\" onclick=\"convertToInteractive('df-ea757c78-ebde-48b8-89f5-441b9ec6f672')\"\n",
              "              title=\"Convert this dataframe to an interactive table.\"\n",
              "              style=\"display:none;\">\n",
              "        \n",
              "  <svg xmlns=\"http://www.w3.org/2000/svg\" height=\"24px\"viewBox=\"0 0 24 24\"\n",
              "       width=\"24px\">\n",
              "    <path d=\"M0 0h24v24H0V0z\" fill=\"none\"/>\n",
              "    <path d=\"M18.56 5.44l.94 2.06.94-2.06 2.06-.94-2.06-.94-.94-2.06-.94 2.06-2.06.94zm-11 1L8.5 8.5l.94-2.06 2.06-.94-2.06-.94L8.5 2.5l-.94 2.06-2.06.94zm10 10l.94 2.06.94-2.06 2.06-.94-2.06-.94-.94-2.06-.94 2.06-2.06.94z\"/><path d=\"M17.41 7.96l-1.37-1.37c-.4-.4-.92-.59-1.43-.59-.52 0-1.04.2-1.43.59L10.3 9.45l-7.72 7.72c-.78.78-.78 2.05 0 2.83L4 21.41c.39.39.9.59 1.41.59.51 0 1.02-.2 1.41-.59l7.78-7.78 2.81-2.81c.8-.78.8-2.07 0-2.86zM5.41 20L4 18.59l7.72-7.72 1.47 1.35L5.41 20z\"/>\n",
              "  </svg>\n",
              "      </button>\n",
              "      \n",
              "  <style>\n",
              "    .colab-df-container {\n",
              "      display:flex;\n",
              "      flex-wrap:wrap;\n",
              "      gap: 12px;\n",
              "    }\n",
              "\n",
              "    .colab-df-convert {\n",
              "      background-color: #E8F0FE;\n",
              "      border: none;\n",
              "      border-radius: 50%;\n",
              "      cursor: pointer;\n",
              "      display: none;\n",
              "      fill: #1967D2;\n",
              "      height: 32px;\n",
              "      padding: 0 0 0 0;\n",
              "      width: 32px;\n",
              "    }\n",
              "\n",
              "    .colab-df-convert:hover {\n",
              "      background-color: #E2EBFA;\n",
              "      box-shadow: 0px 1px 2px rgba(60, 64, 67, 0.3), 0px 1px 3px 1px rgba(60, 64, 67, 0.15);\n",
              "      fill: #174EA6;\n",
              "    }\n",
              "\n",
              "    [theme=dark] .colab-df-convert {\n",
              "      background-color: #3B4455;\n",
              "      fill: #D2E3FC;\n",
              "    }\n",
              "\n",
              "    [theme=dark] .colab-df-convert:hover {\n",
              "      background-color: #434B5C;\n",
              "      box-shadow: 0px 1px 3px 1px rgba(0, 0, 0, 0.15);\n",
              "      filter: drop-shadow(0px 1px 2px rgba(0, 0, 0, 0.3));\n",
              "      fill: #FFFFFF;\n",
              "    }\n",
              "  </style>\n",
              "\n",
              "      <script>\n",
              "        const buttonEl =\n",
              "          document.querySelector('#df-ea757c78-ebde-48b8-89f5-441b9ec6f672 button.colab-df-convert');\n",
              "        buttonEl.style.display =\n",
              "          google.colab.kernel.accessAllowed ? 'block' : 'none';\n",
              "\n",
              "        async function convertToInteractive(key) {\n",
              "          const element = document.querySelector('#df-ea757c78-ebde-48b8-89f5-441b9ec6f672');\n",
              "          const dataTable =\n",
              "            await google.colab.kernel.invokeFunction('convertToInteractive',\n",
              "                                                     [key], {});\n",
              "          if (!dataTable) return;\n",
              "\n",
              "          const docLinkHtml = 'Like what you see? Visit the ' +\n",
              "            '<a target=\"_blank\" href=https://colab.research.google.com/notebooks/data_table.ipynb>data table notebook</a>'\n",
              "            + ' to learn more about interactive tables.';\n",
              "          element.innerHTML = '';\n",
              "          dataTable['output_type'] = 'display_data';\n",
              "          await google.colab.output.renderOutput(dataTable, element);\n",
              "          const docLink = document.createElement('div');\n",
              "          docLink.innerHTML = docLinkHtml;\n",
              "          element.appendChild(docLink);\n",
              "        }\n",
              "      </script>\n",
              "    </div>\n",
              "  </div>\n",
              "  "
            ]
          },
          "metadata": {},
          "execution_count": 74
        }
      ]
    },
    {
      "cell_type": "code",
      "source": [
        "All4scores_test_list = [accuracy_test_dict, recall_test_dict, precision_test_dict, f1_test_dict]\n",
        "df_4scores_test = pd.DataFrame(All4scores_test_list).T\n",
        "df_4scores_test.columns = ['accuracy_test', 'recall_test', 'precision_test', 'f1_test']\n",
        "df_4scores_test"
      ],
      "metadata": {
        "colab": {
          "base_uri": "https://localhost:8080/",
          "height": 363
        },
        "id": "mMpP6SD5CLOC",
        "outputId": "1660d337-465a-4229-c3b3-5f7dfc04caf4"
      },
      "execution_count": 75,
      "outputs": [
        {
          "output_type": "execute_result",
          "data": {
            "text/plain": [
              "         accuracy_test  recall_test  precision_test   f1_test\n",
              "model1        0.964016     0.000000        0.000000  0.000000\n",
              "model2        0.957797     0.012346        0.062500  0.020619\n",
              "model3        0.966237     0.135802        0.647059  0.224490\n",
              "model4        0.962239     0.259259        0.456522  0.330709\n",
              "model5        0.952021     0.370370        0.344828  0.357143\n",
              "model6        0.964904     0.098765        0.571429  0.168421\n",
              "model7        0.962239     0.197531        0.444444  0.273504\n",
              "model8        0.936917     0.666667        0.319527  0.432000\n",
              "model9        0.939582     0.580247        0.315436  0.408696\n",
              "model10       0.850733     0.876543        0.178841  0.297071"
            ],
            "text/html": [
              "\n",
              "  <div id=\"df-cbcd6c78-ccf7-4338-8bc0-ef7a6738290e\">\n",
              "    <div class=\"colab-df-container\">\n",
              "      <div>\n",
              "<style scoped>\n",
              "    .dataframe tbody tr th:only-of-type {\n",
              "        vertical-align: middle;\n",
              "    }\n",
              "\n",
              "    .dataframe tbody tr th {\n",
              "        vertical-align: top;\n",
              "    }\n",
              "\n",
              "    .dataframe thead th {\n",
              "        text-align: right;\n",
              "    }\n",
              "</style>\n",
              "<table border=\"1\" class=\"dataframe\">\n",
              "  <thead>\n",
              "    <tr style=\"text-align: right;\">\n",
              "      <th></th>\n",
              "      <th>accuracy_test</th>\n",
              "      <th>recall_test</th>\n",
              "      <th>precision_test</th>\n",
              "      <th>f1_test</th>\n",
              "    </tr>\n",
              "  </thead>\n",
              "  <tbody>\n",
              "    <tr>\n",
              "      <th>model1</th>\n",
              "      <td>0.964016</td>\n",
              "      <td>0.000000</td>\n",
              "      <td>0.000000</td>\n",
              "      <td>0.000000</td>\n",
              "    </tr>\n",
              "    <tr>\n",
              "      <th>model2</th>\n",
              "      <td>0.957797</td>\n",
              "      <td>0.012346</td>\n",
              "      <td>0.062500</td>\n",
              "      <td>0.020619</td>\n",
              "    </tr>\n",
              "    <tr>\n",
              "      <th>model3</th>\n",
              "      <td>0.966237</td>\n",
              "      <td>0.135802</td>\n",
              "      <td>0.647059</td>\n",
              "      <td>0.224490</td>\n",
              "    </tr>\n",
              "    <tr>\n",
              "      <th>model4</th>\n",
              "      <td>0.962239</td>\n",
              "      <td>0.259259</td>\n",
              "      <td>0.456522</td>\n",
              "      <td>0.330709</td>\n",
              "    </tr>\n",
              "    <tr>\n",
              "      <th>model5</th>\n",
              "      <td>0.952021</td>\n",
              "      <td>0.370370</td>\n",
              "      <td>0.344828</td>\n",
              "      <td>0.357143</td>\n",
              "    </tr>\n",
              "    <tr>\n",
              "      <th>model6</th>\n",
              "      <td>0.964904</td>\n",
              "      <td>0.098765</td>\n",
              "      <td>0.571429</td>\n",
              "      <td>0.168421</td>\n",
              "    </tr>\n",
              "    <tr>\n",
              "      <th>model7</th>\n",
              "      <td>0.962239</td>\n",
              "      <td>0.197531</td>\n",
              "      <td>0.444444</td>\n",
              "      <td>0.273504</td>\n",
              "    </tr>\n",
              "    <tr>\n",
              "      <th>model8</th>\n",
              "      <td>0.936917</td>\n",
              "      <td>0.666667</td>\n",
              "      <td>0.319527</td>\n",
              "      <td>0.432000</td>\n",
              "    </tr>\n",
              "    <tr>\n",
              "      <th>model9</th>\n",
              "      <td>0.939582</td>\n",
              "      <td>0.580247</td>\n",
              "      <td>0.315436</td>\n",
              "      <td>0.408696</td>\n",
              "    </tr>\n",
              "    <tr>\n",
              "      <th>model10</th>\n",
              "      <td>0.850733</td>\n",
              "      <td>0.876543</td>\n",
              "      <td>0.178841</td>\n",
              "      <td>0.297071</td>\n",
              "    </tr>\n",
              "  </tbody>\n",
              "</table>\n",
              "</div>\n",
              "      <button class=\"colab-df-convert\" onclick=\"convertToInteractive('df-cbcd6c78-ccf7-4338-8bc0-ef7a6738290e')\"\n",
              "              title=\"Convert this dataframe to an interactive table.\"\n",
              "              style=\"display:none;\">\n",
              "        \n",
              "  <svg xmlns=\"http://www.w3.org/2000/svg\" height=\"24px\"viewBox=\"0 0 24 24\"\n",
              "       width=\"24px\">\n",
              "    <path d=\"M0 0h24v24H0V0z\" fill=\"none\"/>\n",
              "    <path d=\"M18.56 5.44l.94 2.06.94-2.06 2.06-.94-2.06-.94-.94-2.06-.94 2.06-2.06.94zm-11 1L8.5 8.5l.94-2.06 2.06-.94-2.06-.94L8.5 2.5l-.94 2.06-2.06.94zm10 10l.94 2.06.94-2.06 2.06-.94-2.06-.94-.94-2.06-.94 2.06-2.06.94z\"/><path d=\"M17.41 7.96l-1.37-1.37c-.4-.4-.92-.59-1.43-.59-.52 0-1.04.2-1.43.59L10.3 9.45l-7.72 7.72c-.78.78-.78 2.05 0 2.83L4 21.41c.39.39.9.59 1.41.59.51 0 1.02-.2 1.41-.59l7.78-7.78 2.81-2.81c.8-.78.8-2.07 0-2.86zM5.41 20L4 18.59l7.72-7.72 1.47 1.35L5.41 20z\"/>\n",
              "  </svg>\n",
              "      </button>\n",
              "      \n",
              "  <style>\n",
              "    .colab-df-container {\n",
              "      display:flex;\n",
              "      flex-wrap:wrap;\n",
              "      gap: 12px;\n",
              "    }\n",
              "\n",
              "    .colab-df-convert {\n",
              "      background-color: #E8F0FE;\n",
              "      border: none;\n",
              "      border-radius: 50%;\n",
              "      cursor: pointer;\n",
              "      display: none;\n",
              "      fill: #1967D2;\n",
              "      height: 32px;\n",
              "      padding: 0 0 0 0;\n",
              "      width: 32px;\n",
              "    }\n",
              "\n",
              "    .colab-df-convert:hover {\n",
              "      background-color: #E2EBFA;\n",
              "      box-shadow: 0px 1px 2px rgba(60, 64, 67, 0.3), 0px 1px 3px 1px rgba(60, 64, 67, 0.15);\n",
              "      fill: #174EA6;\n",
              "    }\n",
              "\n",
              "    [theme=dark] .colab-df-convert {\n",
              "      background-color: #3B4455;\n",
              "      fill: #D2E3FC;\n",
              "    }\n",
              "\n",
              "    [theme=dark] .colab-df-convert:hover {\n",
              "      background-color: #434B5C;\n",
              "      box-shadow: 0px 1px 3px 1px rgba(0, 0, 0, 0.15);\n",
              "      filter: drop-shadow(0px 1px 2px rgba(0, 0, 0, 0.3));\n",
              "      fill: #FFFFFF;\n",
              "    }\n",
              "  </style>\n",
              "\n",
              "      <script>\n",
              "        const buttonEl =\n",
              "          document.querySelector('#df-cbcd6c78-ccf7-4338-8bc0-ef7a6738290e button.colab-df-convert');\n",
              "        buttonEl.style.display =\n",
              "          google.colab.kernel.accessAllowed ? 'block' : 'none';\n",
              "\n",
              "        async function convertToInteractive(key) {\n",
              "          const element = document.querySelector('#df-cbcd6c78-ccf7-4338-8bc0-ef7a6738290e');\n",
              "          const dataTable =\n",
              "            await google.colab.kernel.invokeFunction('convertToInteractive',\n",
              "                                                     [key], {});\n",
              "          if (!dataTable) return;\n",
              "\n",
              "          const docLinkHtml = 'Like what you see? Visit the ' +\n",
              "            '<a target=\"_blank\" href=https://colab.research.google.com/notebooks/data_table.ipynb>data table notebook</a>'\n",
              "            + ' to learn more about interactive tables.';\n",
              "          element.innerHTML = '';\n",
              "          dataTable['output_type'] = 'display_data';\n",
              "          await google.colab.output.renderOutput(dataTable, element);\n",
              "          const docLink = document.createElement('div');\n",
              "          docLink.innerHTML = docLinkHtml;\n",
              "          element.appendChild(docLink);\n",
              "        }\n",
              "      </script>\n",
              "    </div>\n",
              "  </div>\n",
              "  "
            ]
          },
          "metadata": {},
          "execution_count": 75
        }
      ]
    },
    {
      "cell_type": "code",
      "source": [
        "df_4scores = df_4scores_train.merge(df_4scores_test, left_index=True, right_index=True)\n",
        "df_4scores.columns"
      ],
      "metadata": {
        "colab": {
          "base_uri": "https://localhost:8080/"
        },
        "id": "-3nlz6pWKPi_",
        "outputId": "3cecf4cb-1f77-44ae-b1a8-48fb7ab63bef"
      },
      "execution_count": 76,
      "outputs": [
        {
          "output_type": "execute_result",
          "data": {
            "text/plain": [
              "Index(['accuracy_train', 'recall_train', 'precision_train', 'f1_train',\n",
              "       'accuracy_test', 'recall_test', 'precision_test', 'f1_test'],\n",
              "      dtype='object')"
            ]
          },
          "metadata": {},
          "execution_count": 76
        }
      ]
    },
    {
      "cell_type": "code",
      "source": [
        "df_4scores.columns = ['accuracy_train', 'accuracy_test',\n",
        "                      'recall_train', 'recall_test',\n",
        "                      'precision_train', 'precision_test',\n",
        "                      'f1_train', 'f1_test']"
      ],
      "metadata": {
        "id": "rY9shCXZK__M"
      },
      "execution_count": 77,
      "outputs": []
    },
    {
      "cell_type": "code",
      "source": [
        "df_4scores"
      ],
      "metadata": {
        "colab": {
          "base_uri": "https://localhost:8080/",
          "height": 363
        },
        "id": "xjQzrjKvLADO",
        "outputId": "9e10f515-04c3-4acf-a7e1-e211899f92de"
      },
      "execution_count": 78,
      "outputs": [
        {
          "output_type": "execute_result",
          "data": {
            "text/plain": [
              "         accuracy_train  accuracy_test  recall_train  recall_test  \\\n",
              "model1         0.969571       0.000000      0.000000     0.000000   \n",
              "model2         0.966725       0.021583      0.157895     0.037975   \n",
              "model3         0.999781       0.992806      1.000000     0.996390   \n",
              "model4         0.995841       0.863309      1.000000     0.926641   \n",
              "model5         1.000000       1.000000      1.000000     1.000000   \n",
              "model6         0.972636       0.165468      0.718750     0.269006   \n",
              "model7         0.975701       0.302158      0.750000     0.430769   \n",
              "model8         0.961033       0.935252      0.434783     0.593607   \n",
              "model9         0.967382       0.928058      0.481343     0.633907   \n",
              "model10        0.863835       0.884892      0.168724     0.283410   \n",
              "\n",
              "         precision_train  precision_test  f1_train   f1_test  \n",
              "model1          0.964016        0.000000  0.000000  0.000000  \n",
              "model2          0.957797        0.012346  0.062500  0.020619  \n",
              "model3          0.966237        0.135802  0.647059  0.224490  \n",
              "model4          0.962239        0.259259  0.456522  0.330709  \n",
              "model5          0.952021        0.370370  0.344828  0.357143  \n",
              "model6          0.964904        0.098765  0.571429  0.168421  \n",
              "model7          0.962239        0.197531  0.444444  0.273504  \n",
              "model8          0.936917        0.666667  0.319527  0.432000  \n",
              "model9          0.939582        0.580247  0.315436  0.408696  \n",
              "model10         0.850733        0.876543  0.178841  0.297071  "
            ],
            "text/html": [
              "\n",
              "  <div id=\"df-74c66d09-2c7a-45b9-894c-a3e1f1169d8f\">\n",
              "    <div class=\"colab-df-container\">\n",
              "      <div>\n",
              "<style scoped>\n",
              "    .dataframe tbody tr th:only-of-type {\n",
              "        vertical-align: middle;\n",
              "    }\n",
              "\n",
              "    .dataframe tbody tr th {\n",
              "        vertical-align: top;\n",
              "    }\n",
              "\n",
              "    .dataframe thead th {\n",
              "        text-align: right;\n",
              "    }\n",
              "</style>\n",
              "<table border=\"1\" class=\"dataframe\">\n",
              "  <thead>\n",
              "    <tr style=\"text-align: right;\">\n",
              "      <th></th>\n",
              "      <th>accuracy_train</th>\n",
              "      <th>accuracy_test</th>\n",
              "      <th>recall_train</th>\n",
              "      <th>recall_test</th>\n",
              "      <th>precision_train</th>\n",
              "      <th>precision_test</th>\n",
              "      <th>f1_train</th>\n",
              "      <th>f1_test</th>\n",
              "    </tr>\n",
              "  </thead>\n",
              "  <tbody>\n",
              "    <tr>\n",
              "      <th>model1</th>\n",
              "      <td>0.969571</td>\n",
              "      <td>0.000000</td>\n",
              "      <td>0.000000</td>\n",
              "      <td>0.000000</td>\n",
              "      <td>0.964016</td>\n",
              "      <td>0.000000</td>\n",
              "      <td>0.000000</td>\n",
              "      <td>0.000000</td>\n",
              "    </tr>\n",
              "    <tr>\n",
              "      <th>model2</th>\n",
              "      <td>0.966725</td>\n",
              "      <td>0.021583</td>\n",
              "      <td>0.157895</td>\n",
              "      <td>0.037975</td>\n",
              "      <td>0.957797</td>\n",
              "      <td>0.012346</td>\n",
              "      <td>0.062500</td>\n",
              "      <td>0.020619</td>\n",
              "    </tr>\n",
              "    <tr>\n",
              "      <th>model3</th>\n",
              "      <td>0.999781</td>\n",
              "      <td>0.992806</td>\n",
              "      <td>1.000000</td>\n",
              "      <td>0.996390</td>\n",
              "      <td>0.966237</td>\n",
              "      <td>0.135802</td>\n",
              "      <td>0.647059</td>\n",
              "      <td>0.224490</td>\n",
              "    </tr>\n",
              "    <tr>\n",
              "      <th>model4</th>\n",
              "      <td>0.995841</td>\n",
              "      <td>0.863309</td>\n",
              "      <td>1.000000</td>\n",
              "      <td>0.926641</td>\n",
              "      <td>0.962239</td>\n",
              "      <td>0.259259</td>\n",
              "      <td>0.456522</td>\n",
              "      <td>0.330709</td>\n",
              "    </tr>\n",
              "    <tr>\n",
              "      <th>model5</th>\n",
              "      <td>1.000000</td>\n",
              "      <td>1.000000</td>\n",
              "      <td>1.000000</td>\n",
              "      <td>1.000000</td>\n",
              "      <td>0.952021</td>\n",
              "      <td>0.370370</td>\n",
              "      <td>0.344828</td>\n",
              "      <td>0.357143</td>\n",
              "    </tr>\n",
              "    <tr>\n",
              "      <th>model6</th>\n",
              "      <td>0.972636</td>\n",
              "      <td>0.165468</td>\n",
              "      <td>0.718750</td>\n",
              "      <td>0.269006</td>\n",
              "      <td>0.964904</td>\n",
              "      <td>0.098765</td>\n",
              "      <td>0.571429</td>\n",
              "      <td>0.168421</td>\n",
              "    </tr>\n",
              "    <tr>\n",
              "      <th>model7</th>\n",
              "      <td>0.975701</td>\n",
              "      <td>0.302158</td>\n",
              "      <td>0.750000</td>\n",
              "      <td>0.430769</td>\n",
              "      <td>0.962239</td>\n",
              "      <td>0.197531</td>\n",
              "      <td>0.444444</td>\n",
              "      <td>0.273504</td>\n",
              "    </tr>\n",
              "    <tr>\n",
              "      <th>model8</th>\n",
              "      <td>0.961033</td>\n",
              "      <td>0.935252</td>\n",
              "      <td>0.434783</td>\n",
              "      <td>0.593607</td>\n",
              "      <td>0.936917</td>\n",
              "      <td>0.666667</td>\n",
              "      <td>0.319527</td>\n",
              "      <td>0.432000</td>\n",
              "    </tr>\n",
              "    <tr>\n",
              "      <th>model9</th>\n",
              "      <td>0.967382</td>\n",
              "      <td>0.928058</td>\n",
              "      <td>0.481343</td>\n",
              "      <td>0.633907</td>\n",
              "      <td>0.939582</td>\n",
              "      <td>0.580247</td>\n",
              "      <td>0.315436</td>\n",
              "      <td>0.408696</td>\n",
              "    </tr>\n",
              "    <tr>\n",
              "      <th>model10</th>\n",
              "      <td>0.863835</td>\n",
              "      <td>0.884892</td>\n",
              "      <td>0.168724</td>\n",
              "      <td>0.283410</td>\n",
              "      <td>0.850733</td>\n",
              "      <td>0.876543</td>\n",
              "      <td>0.178841</td>\n",
              "      <td>0.297071</td>\n",
              "    </tr>\n",
              "  </tbody>\n",
              "</table>\n",
              "</div>\n",
              "      <button class=\"colab-df-convert\" onclick=\"convertToInteractive('df-74c66d09-2c7a-45b9-894c-a3e1f1169d8f')\"\n",
              "              title=\"Convert this dataframe to an interactive table.\"\n",
              "              style=\"display:none;\">\n",
              "        \n",
              "  <svg xmlns=\"http://www.w3.org/2000/svg\" height=\"24px\"viewBox=\"0 0 24 24\"\n",
              "       width=\"24px\">\n",
              "    <path d=\"M0 0h24v24H0V0z\" fill=\"none\"/>\n",
              "    <path d=\"M18.56 5.44l.94 2.06.94-2.06 2.06-.94-2.06-.94-.94-2.06-.94 2.06-2.06.94zm-11 1L8.5 8.5l.94-2.06 2.06-.94-2.06-.94L8.5 2.5l-.94 2.06-2.06.94zm10 10l.94 2.06.94-2.06 2.06-.94-2.06-.94-.94-2.06-.94 2.06-2.06.94z\"/><path d=\"M17.41 7.96l-1.37-1.37c-.4-.4-.92-.59-1.43-.59-.52 0-1.04.2-1.43.59L10.3 9.45l-7.72 7.72c-.78.78-.78 2.05 0 2.83L4 21.41c.39.39.9.59 1.41.59.51 0 1.02-.2 1.41-.59l7.78-7.78 2.81-2.81c.8-.78.8-2.07 0-2.86zM5.41 20L4 18.59l7.72-7.72 1.47 1.35L5.41 20z\"/>\n",
              "  </svg>\n",
              "      </button>\n",
              "      \n",
              "  <style>\n",
              "    .colab-df-container {\n",
              "      display:flex;\n",
              "      flex-wrap:wrap;\n",
              "      gap: 12px;\n",
              "    }\n",
              "\n",
              "    .colab-df-convert {\n",
              "      background-color: #E8F0FE;\n",
              "      border: none;\n",
              "      border-radius: 50%;\n",
              "      cursor: pointer;\n",
              "      display: none;\n",
              "      fill: #1967D2;\n",
              "      height: 32px;\n",
              "      padding: 0 0 0 0;\n",
              "      width: 32px;\n",
              "    }\n",
              "\n",
              "    .colab-df-convert:hover {\n",
              "      background-color: #E2EBFA;\n",
              "      box-shadow: 0px 1px 2px rgba(60, 64, 67, 0.3), 0px 1px 3px 1px rgba(60, 64, 67, 0.15);\n",
              "      fill: #174EA6;\n",
              "    }\n",
              "\n",
              "    [theme=dark] .colab-df-convert {\n",
              "      background-color: #3B4455;\n",
              "      fill: #D2E3FC;\n",
              "    }\n",
              "\n",
              "    [theme=dark] .colab-df-convert:hover {\n",
              "      background-color: #434B5C;\n",
              "      box-shadow: 0px 1px 3px 1px rgba(0, 0, 0, 0.15);\n",
              "      filter: drop-shadow(0px 1px 2px rgba(0, 0, 0, 0.3));\n",
              "      fill: #FFFFFF;\n",
              "    }\n",
              "  </style>\n",
              "\n",
              "      <script>\n",
              "        const buttonEl =\n",
              "          document.querySelector('#df-74c66d09-2c7a-45b9-894c-a3e1f1169d8f button.colab-df-convert');\n",
              "        buttonEl.style.display =\n",
              "          google.colab.kernel.accessAllowed ? 'block' : 'none';\n",
              "\n",
              "        async function convertToInteractive(key) {\n",
              "          const element = document.querySelector('#df-74c66d09-2c7a-45b9-894c-a3e1f1169d8f');\n",
              "          const dataTable =\n",
              "            await google.colab.kernel.invokeFunction('convertToInteractive',\n",
              "                                                     [key], {});\n",
              "          if (!dataTable) return;\n",
              "\n",
              "          const docLinkHtml = 'Like what you see? Visit the ' +\n",
              "            '<a target=\"_blank\" href=https://colab.research.google.com/notebooks/data_table.ipynb>data table notebook</a>'\n",
              "            + ' to learn more about interactive tables.';\n",
              "          element.innerHTML = '';\n",
              "          dataTable['output_type'] = 'display_data';\n",
              "          await google.colab.output.renderOutput(dataTable, element);\n",
              "          const docLink = document.createElement('div');\n",
              "          docLink.innerHTML = docLinkHtml;\n",
              "          element.appendChild(docLink);\n",
              "        }\n",
              "      </script>\n",
              "    </div>\n",
              "  </div>\n",
              "  "
            ]
          },
          "metadata": {},
          "execution_count": 78
        }
      ]
    },
    {
      "cell_type": "code",
      "source": [
        "index_list = list(df_4scores.index)"
      ],
      "metadata": {
        "id": "OJuzo1gBLEzH"
      },
      "execution_count": 79,
      "outputs": []
    },
    {
      "cell_type": "code",
      "source": [
        "index_list"
      ],
      "metadata": {
        "colab": {
          "base_uri": "https://localhost:8080/"
        },
        "id": "d54j919ZLILN",
        "outputId": "e3bc76fa-b2af-478b-a426-3babf6324509"
      },
      "execution_count": 80,
      "outputs": [
        {
          "output_type": "execute_result",
          "data": {
            "text/plain": [
              "['model1',\n",
              " 'model2',\n",
              " 'model3',\n",
              " 'model4',\n",
              " 'model5',\n",
              " 'model6',\n",
              " 'model7',\n",
              " 'model8',\n",
              " 'model9',\n",
              " 'model10']"
            ]
          },
          "metadata": {},
          "execution_count": 80
        }
      ]
    },
    {
      "cell_type": "code",
      "source": [
        "df_4scores = df_4scores.rename(index=dict(zip(index_list,model_list)))"
      ],
      "metadata": {
        "id": "5mDFsrriLIO2"
      },
      "execution_count": 81,
      "outputs": []
    },
    {
      "cell_type": "code",
      "source": [
        "df_4scores"
      ],
      "metadata": {
        "colab": {
          "base_uri": "https://localhost:8080/",
          "height": 363
        },
        "id": "t8bc3yqGMI5v",
        "outputId": "617077bf-0718-49e1-dc1c-012763f30cba"
      },
      "execution_count": 82,
      "outputs": [
        {
          "output_type": "execute_result",
          "data": {
            "text/plain": [
              "          accuracy_train  accuracy_test  recall_train  recall_test  \\\n",
              "dummy           0.969571       0.000000      0.000000     0.000000   \n",
              "logreg          0.966725       0.021583      0.157895     0.037975   \n",
              "rfc             0.999781       0.992806      1.000000     0.996390   \n",
              "gbc             0.995841       0.863309      1.000000     0.926641   \n",
              "dtc             1.000000       1.000000      1.000000     1.000000   \n",
              "gs_gbc          0.972636       0.165468      0.718750     0.269006   \n",
              "gs_dtc          0.975701       0.302158      0.750000     0.430769   \n",
              "imbGBC          0.961033       0.935252      0.434783     0.593607   \n",
              "imbGBC80        0.967382       0.928058      0.481343     0.633907   \n",
              "imbDTC          0.863835       0.884892      0.168724     0.283410   \n",
              "\n",
              "          precision_train  precision_test  f1_train   f1_test  \n",
              "dummy            0.964016        0.000000  0.000000  0.000000  \n",
              "logreg           0.957797        0.012346  0.062500  0.020619  \n",
              "rfc              0.966237        0.135802  0.647059  0.224490  \n",
              "gbc              0.962239        0.259259  0.456522  0.330709  \n",
              "dtc              0.952021        0.370370  0.344828  0.357143  \n",
              "gs_gbc           0.964904        0.098765  0.571429  0.168421  \n",
              "gs_dtc           0.962239        0.197531  0.444444  0.273504  \n",
              "imbGBC           0.936917        0.666667  0.319527  0.432000  \n",
              "imbGBC80         0.939582        0.580247  0.315436  0.408696  \n",
              "imbDTC           0.850733        0.876543  0.178841  0.297071  "
            ],
            "text/html": [
              "\n",
              "  <div id=\"df-2e84b937-02fc-468a-99d1-b04eece61e09\">\n",
              "    <div class=\"colab-df-container\">\n",
              "      <div>\n",
              "<style scoped>\n",
              "    .dataframe tbody tr th:only-of-type {\n",
              "        vertical-align: middle;\n",
              "    }\n",
              "\n",
              "    .dataframe tbody tr th {\n",
              "        vertical-align: top;\n",
              "    }\n",
              "\n",
              "    .dataframe thead th {\n",
              "        text-align: right;\n",
              "    }\n",
              "</style>\n",
              "<table border=\"1\" class=\"dataframe\">\n",
              "  <thead>\n",
              "    <tr style=\"text-align: right;\">\n",
              "      <th></th>\n",
              "      <th>accuracy_train</th>\n",
              "      <th>accuracy_test</th>\n",
              "      <th>recall_train</th>\n",
              "      <th>recall_test</th>\n",
              "      <th>precision_train</th>\n",
              "      <th>precision_test</th>\n",
              "      <th>f1_train</th>\n",
              "      <th>f1_test</th>\n",
              "    </tr>\n",
              "  </thead>\n",
              "  <tbody>\n",
              "    <tr>\n",
              "      <th>dummy</th>\n",
              "      <td>0.969571</td>\n",
              "      <td>0.000000</td>\n",
              "      <td>0.000000</td>\n",
              "      <td>0.000000</td>\n",
              "      <td>0.964016</td>\n",
              "      <td>0.000000</td>\n",
              "      <td>0.000000</td>\n",
              "      <td>0.000000</td>\n",
              "    </tr>\n",
              "    <tr>\n",
              "      <th>logreg</th>\n",
              "      <td>0.966725</td>\n",
              "      <td>0.021583</td>\n",
              "      <td>0.157895</td>\n",
              "      <td>0.037975</td>\n",
              "      <td>0.957797</td>\n",
              "      <td>0.012346</td>\n",
              "      <td>0.062500</td>\n",
              "      <td>0.020619</td>\n",
              "    </tr>\n",
              "    <tr>\n",
              "      <th>rfc</th>\n",
              "      <td>0.999781</td>\n",
              "      <td>0.992806</td>\n",
              "      <td>1.000000</td>\n",
              "      <td>0.996390</td>\n",
              "      <td>0.966237</td>\n",
              "      <td>0.135802</td>\n",
              "      <td>0.647059</td>\n",
              "      <td>0.224490</td>\n",
              "    </tr>\n",
              "    <tr>\n",
              "      <th>gbc</th>\n",
              "      <td>0.995841</td>\n",
              "      <td>0.863309</td>\n",
              "      <td>1.000000</td>\n",
              "      <td>0.926641</td>\n",
              "      <td>0.962239</td>\n",
              "      <td>0.259259</td>\n",
              "      <td>0.456522</td>\n",
              "      <td>0.330709</td>\n",
              "    </tr>\n",
              "    <tr>\n",
              "      <th>dtc</th>\n",
              "      <td>1.000000</td>\n",
              "      <td>1.000000</td>\n",
              "      <td>1.000000</td>\n",
              "      <td>1.000000</td>\n",
              "      <td>0.952021</td>\n",
              "      <td>0.370370</td>\n",
              "      <td>0.344828</td>\n",
              "      <td>0.357143</td>\n",
              "    </tr>\n",
              "    <tr>\n",
              "      <th>gs_gbc</th>\n",
              "      <td>0.972636</td>\n",
              "      <td>0.165468</td>\n",
              "      <td>0.718750</td>\n",
              "      <td>0.269006</td>\n",
              "      <td>0.964904</td>\n",
              "      <td>0.098765</td>\n",
              "      <td>0.571429</td>\n",
              "      <td>0.168421</td>\n",
              "    </tr>\n",
              "    <tr>\n",
              "      <th>gs_dtc</th>\n",
              "      <td>0.975701</td>\n",
              "      <td>0.302158</td>\n",
              "      <td>0.750000</td>\n",
              "      <td>0.430769</td>\n",
              "      <td>0.962239</td>\n",
              "      <td>0.197531</td>\n",
              "      <td>0.444444</td>\n",
              "      <td>0.273504</td>\n",
              "    </tr>\n",
              "    <tr>\n",
              "      <th>imbGBC</th>\n",
              "      <td>0.961033</td>\n",
              "      <td>0.935252</td>\n",
              "      <td>0.434783</td>\n",
              "      <td>0.593607</td>\n",
              "      <td>0.936917</td>\n",
              "      <td>0.666667</td>\n",
              "      <td>0.319527</td>\n",
              "      <td>0.432000</td>\n",
              "    </tr>\n",
              "    <tr>\n",
              "      <th>imbGBC80</th>\n",
              "      <td>0.967382</td>\n",
              "      <td>0.928058</td>\n",
              "      <td>0.481343</td>\n",
              "      <td>0.633907</td>\n",
              "      <td>0.939582</td>\n",
              "      <td>0.580247</td>\n",
              "      <td>0.315436</td>\n",
              "      <td>0.408696</td>\n",
              "    </tr>\n",
              "    <tr>\n",
              "      <th>imbDTC</th>\n",
              "      <td>0.863835</td>\n",
              "      <td>0.884892</td>\n",
              "      <td>0.168724</td>\n",
              "      <td>0.283410</td>\n",
              "      <td>0.850733</td>\n",
              "      <td>0.876543</td>\n",
              "      <td>0.178841</td>\n",
              "      <td>0.297071</td>\n",
              "    </tr>\n",
              "  </tbody>\n",
              "</table>\n",
              "</div>\n",
              "      <button class=\"colab-df-convert\" onclick=\"convertToInteractive('df-2e84b937-02fc-468a-99d1-b04eece61e09')\"\n",
              "              title=\"Convert this dataframe to an interactive table.\"\n",
              "              style=\"display:none;\">\n",
              "        \n",
              "  <svg xmlns=\"http://www.w3.org/2000/svg\" height=\"24px\"viewBox=\"0 0 24 24\"\n",
              "       width=\"24px\">\n",
              "    <path d=\"M0 0h24v24H0V0z\" fill=\"none\"/>\n",
              "    <path d=\"M18.56 5.44l.94 2.06.94-2.06 2.06-.94-2.06-.94-.94-2.06-.94 2.06-2.06.94zm-11 1L8.5 8.5l.94-2.06 2.06-.94-2.06-.94L8.5 2.5l-.94 2.06-2.06.94zm10 10l.94 2.06.94-2.06 2.06-.94-2.06-.94-.94-2.06-.94 2.06-2.06.94z\"/><path d=\"M17.41 7.96l-1.37-1.37c-.4-.4-.92-.59-1.43-.59-.52 0-1.04.2-1.43.59L10.3 9.45l-7.72 7.72c-.78.78-.78 2.05 0 2.83L4 21.41c.39.39.9.59 1.41.59.51 0 1.02-.2 1.41-.59l7.78-7.78 2.81-2.81c.8-.78.8-2.07 0-2.86zM5.41 20L4 18.59l7.72-7.72 1.47 1.35L5.41 20z\"/>\n",
              "  </svg>\n",
              "      </button>\n",
              "      \n",
              "  <style>\n",
              "    .colab-df-container {\n",
              "      display:flex;\n",
              "      flex-wrap:wrap;\n",
              "      gap: 12px;\n",
              "    }\n",
              "\n",
              "    .colab-df-convert {\n",
              "      background-color: #E8F0FE;\n",
              "      border: none;\n",
              "      border-radius: 50%;\n",
              "      cursor: pointer;\n",
              "      display: none;\n",
              "      fill: #1967D2;\n",
              "      height: 32px;\n",
              "      padding: 0 0 0 0;\n",
              "      width: 32px;\n",
              "    }\n",
              "\n",
              "    .colab-df-convert:hover {\n",
              "      background-color: #E2EBFA;\n",
              "      box-shadow: 0px 1px 2px rgba(60, 64, 67, 0.3), 0px 1px 3px 1px rgba(60, 64, 67, 0.15);\n",
              "      fill: #174EA6;\n",
              "    }\n",
              "\n",
              "    [theme=dark] .colab-df-convert {\n",
              "      background-color: #3B4455;\n",
              "      fill: #D2E3FC;\n",
              "    }\n",
              "\n",
              "    [theme=dark] .colab-df-convert:hover {\n",
              "      background-color: #434B5C;\n",
              "      box-shadow: 0px 1px 3px 1px rgba(0, 0, 0, 0.15);\n",
              "      filter: drop-shadow(0px 1px 2px rgba(0, 0, 0, 0.3));\n",
              "      fill: #FFFFFF;\n",
              "    }\n",
              "  </style>\n",
              "\n",
              "      <script>\n",
              "        const buttonEl =\n",
              "          document.querySelector('#df-2e84b937-02fc-468a-99d1-b04eece61e09 button.colab-df-convert');\n",
              "        buttonEl.style.display =\n",
              "          google.colab.kernel.accessAllowed ? 'block' : 'none';\n",
              "\n",
              "        async function convertToInteractive(key) {\n",
              "          const element = document.querySelector('#df-2e84b937-02fc-468a-99d1-b04eece61e09');\n",
              "          const dataTable =\n",
              "            await google.colab.kernel.invokeFunction('convertToInteractive',\n",
              "                                                     [key], {});\n",
              "          if (!dataTable) return;\n",
              "\n",
              "          const docLinkHtml = 'Like what you see? Visit the ' +\n",
              "            '<a target=\"_blank\" href=https://colab.research.google.com/notebooks/data_table.ipynb>data table notebook</a>'\n",
              "            + ' to learn more about interactive tables.';\n",
              "          element.innerHTML = '';\n",
              "          dataTable['output_type'] = 'display_data';\n",
              "          await google.colab.output.renderOutput(dataTable, element);\n",
              "          const docLink = document.createElement('div');\n",
              "          docLink.innerHTML = docLinkHtml;\n",
              "          element.appendChild(docLink);\n",
              "        }\n",
              "      </script>\n",
              "    </div>\n",
              "  </div>\n",
              "  "
            ]
          },
          "metadata": {},
          "execution_count": 82
        }
      ]
    },
    {
      "cell_type": "code",
      "source": [
        "dfi.export(df_4scores, \"/content/gdrive/MyDrive/4blog/4scores\")"
      ],
      "metadata": {
        "id": "iR5d90A5vTiw"
      },
      "execution_count": 83,
      "outputs": []
    },
    {
      "cell_type": "markdown",
      "source": [
        "### By looking at F1 socre, the best model is probably imbGBC or imbGBC80."
      ],
      "metadata": {
        "id": "ZNSOm73slweQ"
      }
    },
    {
      "cell_type": "markdown",
      "source": [
        "## Miss_rate: Now let's bring in miss_rate\n",
        "\n",
        "How to calculate false negative rate?\n",
        "The false negative rate – also called the miss rate – is the probability that a true positive will be missed by the test. It's calculated as FN/FN+TP, where FN is the number of false negatives and TP is the number of true positives (FN+TP being the total number of positives)."
      ],
      "metadata": {
        "id": "jJr2Jud3Zuhq"
      }
    },
    {
      "cell_type": "code",
      "source": [
        "miss_rate_list"
      ],
      "metadata": {
        "colab": {
          "base_uri": "https://localhost:8080/"
        },
        "id": "lR4SNFfBa3b7",
        "outputId": "1b3b2b6d-5dce-4c2f-d2d5-d8416dbfe57e"
      },
      "execution_count": 84,
      "outputs": [
        {
          "output_type": "execute_result",
          "data": {
            "text/plain": [
              "[1.0,\n",
              " 0.9876543209876543,\n",
              " 0.8641975308641975,\n",
              " 0.7407407407407407,\n",
              " 0.6296296296296297,\n",
              " 0.9012345679012346,\n",
              " 0.8024691358024691,\n",
              " 0.3333333333333333,\n",
              " 0.41975308641975306,\n",
              " 0.12345679012345678]"
            ]
          },
          "metadata": {},
          "execution_count": 84
        }
      ]
    },
    {
      "cell_type": "code",
      "source": [
        "df_all_score = df_4scores.copy()"
      ],
      "metadata": {
        "id": "9loIYvS1mun6"
      },
      "execution_count": 85,
      "outputs": []
    },
    {
      "cell_type": "code",
      "source": [
        "df_all_score['miss_rate']=miss_rate_list"
      ],
      "metadata": {
        "id": "e3iC7u4rmuvQ"
      },
      "execution_count": 86,
      "outputs": []
    },
    {
      "cell_type": "code",
      "source": [
        "df_all_score"
      ],
      "metadata": {
        "colab": {
          "base_uri": "https://localhost:8080/",
          "height": 427
        },
        "id": "kOAeRHEfnBPL",
        "outputId": "e908b7df-a242-4228-8ab6-4b8272b38715"
      },
      "execution_count": 87,
      "outputs": [
        {
          "output_type": "execute_result",
          "data": {
            "text/plain": [
              "          accuracy_train  accuracy_test  recall_train  recall_test  \\\n",
              "dummy           0.969571       0.000000      0.000000     0.000000   \n",
              "logreg          0.966725       0.021583      0.157895     0.037975   \n",
              "rfc             0.999781       0.992806      1.000000     0.996390   \n",
              "gbc             0.995841       0.863309      1.000000     0.926641   \n",
              "dtc             1.000000       1.000000      1.000000     1.000000   \n",
              "gs_gbc          0.972636       0.165468      0.718750     0.269006   \n",
              "gs_dtc          0.975701       0.302158      0.750000     0.430769   \n",
              "imbGBC          0.961033       0.935252      0.434783     0.593607   \n",
              "imbGBC80        0.967382       0.928058      0.481343     0.633907   \n",
              "imbDTC          0.863835       0.884892      0.168724     0.283410   \n",
              "\n",
              "          precision_train  precision_test  f1_train   f1_test  miss_rate  \n",
              "dummy            0.964016        0.000000  0.000000  0.000000   1.000000  \n",
              "logreg           0.957797        0.012346  0.062500  0.020619   0.987654  \n",
              "rfc              0.966237        0.135802  0.647059  0.224490   0.864198  \n",
              "gbc              0.962239        0.259259  0.456522  0.330709   0.740741  \n",
              "dtc              0.952021        0.370370  0.344828  0.357143   0.629630  \n",
              "gs_gbc           0.964904        0.098765  0.571429  0.168421   0.901235  \n",
              "gs_dtc           0.962239        0.197531  0.444444  0.273504   0.802469  \n",
              "imbGBC           0.936917        0.666667  0.319527  0.432000   0.333333  \n",
              "imbGBC80         0.939582        0.580247  0.315436  0.408696   0.419753  \n",
              "imbDTC           0.850733        0.876543  0.178841  0.297071   0.123457  "
            ],
            "text/html": [
              "\n",
              "  <div id=\"df-e083dc66-8636-4d49-b28a-412e0a765a29\">\n",
              "    <div class=\"colab-df-container\">\n",
              "      <div>\n",
              "<style scoped>\n",
              "    .dataframe tbody tr th:only-of-type {\n",
              "        vertical-align: middle;\n",
              "    }\n",
              "\n",
              "    .dataframe tbody tr th {\n",
              "        vertical-align: top;\n",
              "    }\n",
              "\n",
              "    .dataframe thead th {\n",
              "        text-align: right;\n",
              "    }\n",
              "</style>\n",
              "<table border=\"1\" class=\"dataframe\">\n",
              "  <thead>\n",
              "    <tr style=\"text-align: right;\">\n",
              "      <th></th>\n",
              "      <th>accuracy_train</th>\n",
              "      <th>accuracy_test</th>\n",
              "      <th>recall_train</th>\n",
              "      <th>recall_test</th>\n",
              "      <th>precision_train</th>\n",
              "      <th>precision_test</th>\n",
              "      <th>f1_train</th>\n",
              "      <th>f1_test</th>\n",
              "      <th>miss_rate</th>\n",
              "    </tr>\n",
              "  </thead>\n",
              "  <tbody>\n",
              "    <tr>\n",
              "      <th>dummy</th>\n",
              "      <td>0.969571</td>\n",
              "      <td>0.000000</td>\n",
              "      <td>0.000000</td>\n",
              "      <td>0.000000</td>\n",
              "      <td>0.964016</td>\n",
              "      <td>0.000000</td>\n",
              "      <td>0.000000</td>\n",
              "      <td>0.000000</td>\n",
              "      <td>1.000000</td>\n",
              "    </tr>\n",
              "    <tr>\n",
              "      <th>logreg</th>\n",
              "      <td>0.966725</td>\n",
              "      <td>0.021583</td>\n",
              "      <td>0.157895</td>\n",
              "      <td>0.037975</td>\n",
              "      <td>0.957797</td>\n",
              "      <td>0.012346</td>\n",
              "      <td>0.062500</td>\n",
              "      <td>0.020619</td>\n",
              "      <td>0.987654</td>\n",
              "    </tr>\n",
              "    <tr>\n",
              "      <th>rfc</th>\n",
              "      <td>0.999781</td>\n",
              "      <td>0.992806</td>\n",
              "      <td>1.000000</td>\n",
              "      <td>0.996390</td>\n",
              "      <td>0.966237</td>\n",
              "      <td>0.135802</td>\n",
              "      <td>0.647059</td>\n",
              "      <td>0.224490</td>\n",
              "      <td>0.864198</td>\n",
              "    </tr>\n",
              "    <tr>\n",
              "      <th>gbc</th>\n",
              "      <td>0.995841</td>\n",
              "      <td>0.863309</td>\n",
              "      <td>1.000000</td>\n",
              "      <td>0.926641</td>\n",
              "      <td>0.962239</td>\n",
              "      <td>0.259259</td>\n",
              "      <td>0.456522</td>\n",
              "      <td>0.330709</td>\n",
              "      <td>0.740741</td>\n",
              "    </tr>\n",
              "    <tr>\n",
              "      <th>dtc</th>\n",
              "      <td>1.000000</td>\n",
              "      <td>1.000000</td>\n",
              "      <td>1.000000</td>\n",
              "      <td>1.000000</td>\n",
              "      <td>0.952021</td>\n",
              "      <td>0.370370</td>\n",
              "      <td>0.344828</td>\n",
              "      <td>0.357143</td>\n",
              "      <td>0.629630</td>\n",
              "    </tr>\n",
              "    <tr>\n",
              "      <th>gs_gbc</th>\n",
              "      <td>0.972636</td>\n",
              "      <td>0.165468</td>\n",
              "      <td>0.718750</td>\n",
              "      <td>0.269006</td>\n",
              "      <td>0.964904</td>\n",
              "      <td>0.098765</td>\n",
              "      <td>0.571429</td>\n",
              "      <td>0.168421</td>\n",
              "      <td>0.901235</td>\n",
              "    </tr>\n",
              "    <tr>\n",
              "      <th>gs_dtc</th>\n",
              "      <td>0.975701</td>\n",
              "      <td>0.302158</td>\n",
              "      <td>0.750000</td>\n",
              "      <td>0.430769</td>\n",
              "      <td>0.962239</td>\n",
              "      <td>0.197531</td>\n",
              "      <td>0.444444</td>\n",
              "      <td>0.273504</td>\n",
              "      <td>0.802469</td>\n",
              "    </tr>\n",
              "    <tr>\n",
              "      <th>imbGBC</th>\n",
              "      <td>0.961033</td>\n",
              "      <td>0.935252</td>\n",
              "      <td>0.434783</td>\n",
              "      <td>0.593607</td>\n",
              "      <td>0.936917</td>\n",
              "      <td>0.666667</td>\n",
              "      <td>0.319527</td>\n",
              "      <td>0.432000</td>\n",
              "      <td>0.333333</td>\n",
              "    </tr>\n",
              "    <tr>\n",
              "      <th>imbGBC80</th>\n",
              "      <td>0.967382</td>\n",
              "      <td>0.928058</td>\n",
              "      <td>0.481343</td>\n",
              "      <td>0.633907</td>\n",
              "      <td>0.939582</td>\n",
              "      <td>0.580247</td>\n",
              "      <td>0.315436</td>\n",
              "      <td>0.408696</td>\n",
              "      <td>0.419753</td>\n",
              "    </tr>\n",
              "    <tr>\n",
              "      <th>imbDTC</th>\n",
              "      <td>0.863835</td>\n",
              "      <td>0.884892</td>\n",
              "      <td>0.168724</td>\n",
              "      <td>0.283410</td>\n",
              "      <td>0.850733</td>\n",
              "      <td>0.876543</td>\n",
              "      <td>0.178841</td>\n",
              "      <td>0.297071</td>\n",
              "      <td>0.123457</td>\n",
              "    </tr>\n",
              "  </tbody>\n",
              "</table>\n",
              "</div>\n",
              "      <button class=\"colab-df-convert\" onclick=\"convertToInteractive('df-e083dc66-8636-4d49-b28a-412e0a765a29')\"\n",
              "              title=\"Convert this dataframe to an interactive table.\"\n",
              "              style=\"display:none;\">\n",
              "        \n",
              "  <svg xmlns=\"http://www.w3.org/2000/svg\" height=\"24px\"viewBox=\"0 0 24 24\"\n",
              "       width=\"24px\">\n",
              "    <path d=\"M0 0h24v24H0V0z\" fill=\"none\"/>\n",
              "    <path d=\"M18.56 5.44l.94 2.06.94-2.06 2.06-.94-2.06-.94-.94-2.06-.94 2.06-2.06.94zm-11 1L8.5 8.5l.94-2.06 2.06-.94-2.06-.94L8.5 2.5l-.94 2.06-2.06.94zm10 10l.94 2.06.94-2.06 2.06-.94-2.06-.94-.94-2.06-.94 2.06-2.06.94z\"/><path d=\"M17.41 7.96l-1.37-1.37c-.4-.4-.92-.59-1.43-.59-.52 0-1.04.2-1.43.59L10.3 9.45l-7.72 7.72c-.78.78-.78 2.05 0 2.83L4 21.41c.39.39.9.59 1.41.59.51 0 1.02-.2 1.41-.59l7.78-7.78 2.81-2.81c.8-.78.8-2.07 0-2.86zM5.41 20L4 18.59l7.72-7.72 1.47 1.35L5.41 20z\"/>\n",
              "  </svg>\n",
              "      </button>\n",
              "      \n",
              "  <style>\n",
              "    .colab-df-container {\n",
              "      display:flex;\n",
              "      flex-wrap:wrap;\n",
              "      gap: 12px;\n",
              "    }\n",
              "\n",
              "    .colab-df-convert {\n",
              "      background-color: #E8F0FE;\n",
              "      border: none;\n",
              "      border-radius: 50%;\n",
              "      cursor: pointer;\n",
              "      display: none;\n",
              "      fill: #1967D2;\n",
              "      height: 32px;\n",
              "      padding: 0 0 0 0;\n",
              "      width: 32px;\n",
              "    }\n",
              "\n",
              "    .colab-df-convert:hover {\n",
              "      background-color: #E2EBFA;\n",
              "      box-shadow: 0px 1px 2px rgba(60, 64, 67, 0.3), 0px 1px 3px 1px rgba(60, 64, 67, 0.15);\n",
              "      fill: #174EA6;\n",
              "    }\n",
              "\n",
              "    [theme=dark] .colab-df-convert {\n",
              "      background-color: #3B4455;\n",
              "      fill: #D2E3FC;\n",
              "    }\n",
              "\n",
              "    [theme=dark] .colab-df-convert:hover {\n",
              "      background-color: #434B5C;\n",
              "      box-shadow: 0px 1px 3px 1px rgba(0, 0, 0, 0.15);\n",
              "      filter: drop-shadow(0px 1px 2px rgba(0, 0, 0, 0.3));\n",
              "      fill: #FFFFFF;\n",
              "    }\n",
              "  </style>\n",
              "\n",
              "      <script>\n",
              "        const buttonEl =\n",
              "          document.querySelector('#df-e083dc66-8636-4d49-b28a-412e0a765a29 button.colab-df-convert');\n",
              "        buttonEl.style.display =\n",
              "          google.colab.kernel.accessAllowed ? 'block' : 'none';\n",
              "\n",
              "        async function convertToInteractive(key) {\n",
              "          const element = document.querySelector('#df-e083dc66-8636-4d49-b28a-412e0a765a29');\n",
              "          const dataTable =\n",
              "            await google.colab.kernel.invokeFunction('convertToInteractive',\n",
              "                                                     [key], {});\n",
              "          if (!dataTable) return;\n",
              "\n",
              "          const docLinkHtml = 'Like what you see? Visit the ' +\n",
              "            '<a target=\"_blank\" href=https://colab.research.google.com/notebooks/data_table.ipynb>data table notebook</a>'\n",
              "            + ' to learn more about interactive tables.';\n",
              "          element.innerHTML = '';\n",
              "          dataTable['output_type'] = 'display_data';\n",
              "          await google.colab.output.renderOutput(dataTable, element);\n",
              "          const docLink = document.createElement('div');\n",
              "          docLink.innerHTML = docLinkHtml;\n",
              "          element.appendChild(docLink);\n",
              "        }\n",
              "      </script>\n",
              "    </div>\n",
              "  </div>\n",
              "  "
            ]
          },
          "metadata": {},
          "execution_count": 87
        }
      ]
    },
    {
      "cell_type": "code",
      "source": [
        "# Find the smallest miss_rate:\n",
        "\n",
        "df_all_score.style.highlight_min(subset='miss_rate', color='red')"
      ],
      "metadata": {
        "colab": {
          "base_uri": "https://localhost:8080/",
          "height": 383
        },
        "id": "Jtd3VDrwnyTv",
        "outputId": "40ca3c52-f315-4d99-daa7-233a479d151f"
      },
      "execution_count": 88,
      "outputs": [
        {
          "output_type": "execute_result",
          "data": {
            "text/plain": [
              "<pandas.io.formats.style.Styler at 0x7f3e212d96d0>"
            ],
            "text/html": [
              "<style type=\"text/css\">\n",
              "#T_d2ed0_row9_col8 {\n",
              "  background-color: red;\n",
              "}\n",
              "</style>\n",
              "<table id=\"T_d2ed0_\" class=\"dataframe\">\n",
              "  <thead>\n",
              "    <tr>\n",
              "      <th class=\"blank level0\" >&nbsp;</th>\n",
              "      <th class=\"col_heading level0 col0\" >accuracy_train</th>\n",
              "      <th class=\"col_heading level0 col1\" >accuracy_test</th>\n",
              "      <th class=\"col_heading level0 col2\" >recall_train</th>\n",
              "      <th class=\"col_heading level0 col3\" >recall_test</th>\n",
              "      <th class=\"col_heading level0 col4\" >precision_train</th>\n",
              "      <th class=\"col_heading level0 col5\" >precision_test</th>\n",
              "      <th class=\"col_heading level0 col6\" >f1_train</th>\n",
              "      <th class=\"col_heading level0 col7\" >f1_test</th>\n",
              "      <th class=\"col_heading level0 col8\" >miss_rate</th>\n",
              "    </tr>\n",
              "  </thead>\n",
              "  <tbody>\n",
              "    <tr>\n",
              "      <th id=\"T_d2ed0_level0_row0\" class=\"row_heading level0 row0\" >dummy</th>\n",
              "      <td id=\"T_d2ed0_row0_col0\" class=\"data row0 col0\" >0.969571</td>\n",
              "      <td id=\"T_d2ed0_row0_col1\" class=\"data row0 col1\" >0.000000</td>\n",
              "      <td id=\"T_d2ed0_row0_col2\" class=\"data row0 col2\" >0.000000</td>\n",
              "      <td id=\"T_d2ed0_row0_col3\" class=\"data row0 col3\" >0.000000</td>\n",
              "      <td id=\"T_d2ed0_row0_col4\" class=\"data row0 col4\" >0.964016</td>\n",
              "      <td id=\"T_d2ed0_row0_col5\" class=\"data row0 col5\" >0.000000</td>\n",
              "      <td id=\"T_d2ed0_row0_col6\" class=\"data row0 col6\" >0.000000</td>\n",
              "      <td id=\"T_d2ed0_row0_col7\" class=\"data row0 col7\" >0.000000</td>\n",
              "      <td id=\"T_d2ed0_row0_col8\" class=\"data row0 col8\" >1.000000</td>\n",
              "    </tr>\n",
              "    <tr>\n",
              "      <th id=\"T_d2ed0_level0_row1\" class=\"row_heading level0 row1\" >logreg</th>\n",
              "      <td id=\"T_d2ed0_row1_col0\" class=\"data row1 col0\" >0.966725</td>\n",
              "      <td id=\"T_d2ed0_row1_col1\" class=\"data row1 col1\" >0.021583</td>\n",
              "      <td id=\"T_d2ed0_row1_col2\" class=\"data row1 col2\" >0.157895</td>\n",
              "      <td id=\"T_d2ed0_row1_col3\" class=\"data row1 col3\" >0.037975</td>\n",
              "      <td id=\"T_d2ed0_row1_col4\" class=\"data row1 col4\" >0.957797</td>\n",
              "      <td id=\"T_d2ed0_row1_col5\" class=\"data row1 col5\" >0.012346</td>\n",
              "      <td id=\"T_d2ed0_row1_col6\" class=\"data row1 col6\" >0.062500</td>\n",
              "      <td id=\"T_d2ed0_row1_col7\" class=\"data row1 col7\" >0.020619</td>\n",
              "      <td id=\"T_d2ed0_row1_col8\" class=\"data row1 col8\" >0.987654</td>\n",
              "    </tr>\n",
              "    <tr>\n",
              "      <th id=\"T_d2ed0_level0_row2\" class=\"row_heading level0 row2\" >rfc</th>\n",
              "      <td id=\"T_d2ed0_row2_col0\" class=\"data row2 col0\" >0.999781</td>\n",
              "      <td id=\"T_d2ed0_row2_col1\" class=\"data row2 col1\" >0.992806</td>\n",
              "      <td id=\"T_d2ed0_row2_col2\" class=\"data row2 col2\" >1.000000</td>\n",
              "      <td id=\"T_d2ed0_row2_col3\" class=\"data row2 col3\" >0.996390</td>\n",
              "      <td id=\"T_d2ed0_row2_col4\" class=\"data row2 col4\" >0.966237</td>\n",
              "      <td id=\"T_d2ed0_row2_col5\" class=\"data row2 col5\" >0.135802</td>\n",
              "      <td id=\"T_d2ed0_row2_col6\" class=\"data row2 col6\" >0.647059</td>\n",
              "      <td id=\"T_d2ed0_row2_col7\" class=\"data row2 col7\" >0.224490</td>\n",
              "      <td id=\"T_d2ed0_row2_col8\" class=\"data row2 col8\" >0.864198</td>\n",
              "    </tr>\n",
              "    <tr>\n",
              "      <th id=\"T_d2ed0_level0_row3\" class=\"row_heading level0 row3\" >gbc</th>\n",
              "      <td id=\"T_d2ed0_row3_col0\" class=\"data row3 col0\" >0.995841</td>\n",
              "      <td id=\"T_d2ed0_row3_col1\" class=\"data row3 col1\" >0.863309</td>\n",
              "      <td id=\"T_d2ed0_row3_col2\" class=\"data row3 col2\" >1.000000</td>\n",
              "      <td id=\"T_d2ed0_row3_col3\" class=\"data row3 col3\" >0.926641</td>\n",
              "      <td id=\"T_d2ed0_row3_col4\" class=\"data row3 col4\" >0.962239</td>\n",
              "      <td id=\"T_d2ed0_row3_col5\" class=\"data row3 col5\" >0.259259</td>\n",
              "      <td id=\"T_d2ed0_row3_col6\" class=\"data row3 col6\" >0.456522</td>\n",
              "      <td id=\"T_d2ed0_row3_col7\" class=\"data row3 col7\" >0.330709</td>\n",
              "      <td id=\"T_d2ed0_row3_col8\" class=\"data row3 col8\" >0.740741</td>\n",
              "    </tr>\n",
              "    <tr>\n",
              "      <th id=\"T_d2ed0_level0_row4\" class=\"row_heading level0 row4\" >dtc</th>\n",
              "      <td id=\"T_d2ed0_row4_col0\" class=\"data row4 col0\" >1.000000</td>\n",
              "      <td id=\"T_d2ed0_row4_col1\" class=\"data row4 col1\" >1.000000</td>\n",
              "      <td id=\"T_d2ed0_row4_col2\" class=\"data row4 col2\" >1.000000</td>\n",
              "      <td id=\"T_d2ed0_row4_col3\" class=\"data row4 col3\" >1.000000</td>\n",
              "      <td id=\"T_d2ed0_row4_col4\" class=\"data row4 col4\" >0.952021</td>\n",
              "      <td id=\"T_d2ed0_row4_col5\" class=\"data row4 col5\" >0.370370</td>\n",
              "      <td id=\"T_d2ed0_row4_col6\" class=\"data row4 col6\" >0.344828</td>\n",
              "      <td id=\"T_d2ed0_row4_col7\" class=\"data row4 col7\" >0.357143</td>\n",
              "      <td id=\"T_d2ed0_row4_col8\" class=\"data row4 col8\" >0.629630</td>\n",
              "    </tr>\n",
              "    <tr>\n",
              "      <th id=\"T_d2ed0_level0_row5\" class=\"row_heading level0 row5\" >gs_gbc</th>\n",
              "      <td id=\"T_d2ed0_row5_col0\" class=\"data row5 col0\" >0.972636</td>\n",
              "      <td id=\"T_d2ed0_row5_col1\" class=\"data row5 col1\" >0.165468</td>\n",
              "      <td id=\"T_d2ed0_row5_col2\" class=\"data row5 col2\" >0.718750</td>\n",
              "      <td id=\"T_d2ed0_row5_col3\" class=\"data row5 col3\" >0.269006</td>\n",
              "      <td id=\"T_d2ed0_row5_col4\" class=\"data row5 col4\" >0.964904</td>\n",
              "      <td id=\"T_d2ed0_row5_col5\" class=\"data row5 col5\" >0.098765</td>\n",
              "      <td id=\"T_d2ed0_row5_col6\" class=\"data row5 col6\" >0.571429</td>\n",
              "      <td id=\"T_d2ed0_row5_col7\" class=\"data row5 col7\" >0.168421</td>\n",
              "      <td id=\"T_d2ed0_row5_col8\" class=\"data row5 col8\" >0.901235</td>\n",
              "    </tr>\n",
              "    <tr>\n",
              "      <th id=\"T_d2ed0_level0_row6\" class=\"row_heading level0 row6\" >gs_dtc</th>\n",
              "      <td id=\"T_d2ed0_row6_col0\" class=\"data row6 col0\" >0.975701</td>\n",
              "      <td id=\"T_d2ed0_row6_col1\" class=\"data row6 col1\" >0.302158</td>\n",
              "      <td id=\"T_d2ed0_row6_col2\" class=\"data row6 col2\" >0.750000</td>\n",
              "      <td id=\"T_d2ed0_row6_col3\" class=\"data row6 col3\" >0.430769</td>\n",
              "      <td id=\"T_d2ed0_row6_col4\" class=\"data row6 col4\" >0.962239</td>\n",
              "      <td id=\"T_d2ed0_row6_col5\" class=\"data row6 col5\" >0.197531</td>\n",
              "      <td id=\"T_d2ed0_row6_col6\" class=\"data row6 col6\" >0.444444</td>\n",
              "      <td id=\"T_d2ed0_row6_col7\" class=\"data row6 col7\" >0.273504</td>\n",
              "      <td id=\"T_d2ed0_row6_col8\" class=\"data row6 col8\" >0.802469</td>\n",
              "    </tr>\n",
              "    <tr>\n",
              "      <th id=\"T_d2ed0_level0_row7\" class=\"row_heading level0 row7\" >imbGBC</th>\n",
              "      <td id=\"T_d2ed0_row7_col0\" class=\"data row7 col0\" >0.961033</td>\n",
              "      <td id=\"T_d2ed0_row7_col1\" class=\"data row7 col1\" >0.935252</td>\n",
              "      <td id=\"T_d2ed0_row7_col2\" class=\"data row7 col2\" >0.434783</td>\n",
              "      <td id=\"T_d2ed0_row7_col3\" class=\"data row7 col3\" >0.593607</td>\n",
              "      <td id=\"T_d2ed0_row7_col4\" class=\"data row7 col4\" >0.936917</td>\n",
              "      <td id=\"T_d2ed0_row7_col5\" class=\"data row7 col5\" >0.666667</td>\n",
              "      <td id=\"T_d2ed0_row7_col6\" class=\"data row7 col6\" >0.319527</td>\n",
              "      <td id=\"T_d2ed0_row7_col7\" class=\"data row7 col7\" >0.432000</td>\n",
              "      <td id=\"T_d2ed0_row7_col8\" class=\"data row7 col8\" >0.333333</td>\n",
              "    </tr>\n",
              "    <tr>\n",
              "      <th id=\"T_d2ed0_level0_row8\" class=\"row_heading level0 row8\" >imbGBC80</th>\n",
              "      <td id=\"T_d2ed0_row8_col0\" class=\"data row8 col0\" >0.967382</td>\n",
              "      <td id=\"T_d2ed0_row8_col1\" class=\"data row8 col1\" >0.928058</td>\n",
              "      <td id=\"T_d2ed0_row8_col2\" class=\"data row8 col2\" >0.481343</td>\n",
              "      <td id=\"T_d2ed0_row8_col3\" class=\"data row8 col3\" >0.633907</td>\n",
              "      <td id=\"T_d2ed0_row8_col4\" class=\"data row8 col4\" >0.939582</td>\n",
              "      <td id=\"T_d2ed0_row8_col5\" class=\"data row8 col5\" >0.580247</td>\n",
              "      <td id=\"T_d2ed0_row8_col6\" class=\"data row8 col6\" >0.315436</td>\n",
              "      <td id=\"T_d2ed0_row8_col7\" class=\"data row8 col7\" >0.408696</td>\n",
              "      <td id=\"T_d2ed0_row8_col8\" class=\"data row8 col8\" >0.419753</td>\n",
              "    </tr>\n",
              "    <tr>\n",
              "      <th id=\"T_d2ed0_level0_row9\" class=\"row_heading level0 row9\" >imbDTC</th>\n",
              "      <td id=\"T_d2ed0_row9_col0\" class=\"data row9 col0\" >0.863835</td>\n",
              "      <td id=\"T_d2ed0_row9_col1\" class=\"data row9 col1\" >0.884892</td>\n",
              "      <td id=\"T_d2ed0_row9_col2\" class=\"data row9 col2\" >0.168724</td>\n",
              "      <td id=\"T_d2ed0_row9_col3\" class=\"data row9 col3\" >0.283410</td>\n",
              "      <td id=\"T_d2ed0_row9_col4\" class=\"data row9 col4\" >0.850733</td>\n",
              "      <td id=\"T_d2ed0_row9_col5\" class=\"data row9 col5\" >0.876543</td>\n",
              "      <td id=\"T_d2ed0_row9_col6\" class=\"data row9 col6\" >0.178841</td>\n",
              "      <td id=\"T_d2ed0_row9_col7\" class=\"data row9 col7\" >0.297071</td>\n",
              "      <td id=\"T_d2ed0_row9_col8\" class=\"data row9 col8\" >0.123457</td>\n",
              "    </tr>\n",
              "  </tbody>\n",
              "</table>\n"
            ]
          },
          "metadata": {},
          "execution_count": 88
        }
      ]
    },
    {
      "cell_type": "code",
      "source": [
        "dfi.export(df_all_score, \"/content/gdrive/MyDrive/4blog/final_scores\")"
      ],
      "metadata": {
        "id": "jtIOIVrJpzaJ"
      },
      "execution_count": 89,
      "outputs": []
    },
    {
      "cell_type": "markdown",
      "source": [
        "# Best Model is imbDTC: SMOTE and Decision Tree Model with the smallest miss_rate."
      ],
      "metadata": {
        "id": "OH-QHbi9u1-W"
      }
    },
    {
      "cell_type": "code",
      "source": [],
      "metadata": {
        "id": "cksXW2oUtxgl"
      },
      "execution_count": 89,
      "outputs": []
    }
  ],
  "metadata": {
    "kernelspec": {
      "display_name": "Python 3",
      "name": "python3"
    },
    "language_info": {
      "name": "python"
    },
    "varInspector": {
      "cols": {
        "lenName": 16,
        "lenType": 16,
        "lenVar": 40
      },
      "kernels_config": {
        "python": {
          "delete_cmd_postfix": "",
          "delete_cmd_prefix": "del ",
          "library": "var_list.py",
          "varRefreshCmd": "print(var_dic_list())"
        },
        "r": {
          "delete_cmd_postfix": ") ",
          "delete_cmd_prefix": "rm(",
          "library": "var_list.r",
          "varRefreshCmd": "cat(var_dic_list()) "
        }
      },
      "types_to_exclude": [
        "module",
        "function",
        "builtin_function_or_method",
        "instance",
        "_Feature"
      ],
      "window_display": false
    },
    "colab": {
      "provenance": [],
      "include_colab_link": true
    },
    "gpuClass": "standard"
  },
  "nbformat": 4,
  "nbformat_minor": 0
}